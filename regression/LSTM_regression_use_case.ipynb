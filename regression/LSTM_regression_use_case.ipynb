{
 "cells": [
  {
   "cell_type": "markdown",
   "metadata": {},
   "source": [
    "# Experiment"
   ]
  },
  {
   "cell_type": "markdown",
   "metadata": {},
   "source": [
    "### Create function to train LSTM based on a ticker"
   ]
  },
  {
   "cell_type": "code",
   "execution_count": 1,
   "metadata": {},
   "outputs": [
    {
     "name": "stdout",
     "output_type": "stream",
     "text": [
      "WARNING:tensorflow:From c:\\Users\\kurom\\anaconda3\\envs\\dl-venv\\lib\\site-packages\\keras\\src\\losses.py:2976: The name tf.losses.sparse_softmax_cross_entropy is deprecated. Please use tf.compat.v1.losses.sparse_softmax_cross_entropy instead.\n",
      "\n"
     ]
    }
   ],
   "source": [
    "import keras\n",
    "keras.utils.set_random_seed(97) #Set seed for reproducibility"
   ]
  },
  {
   "cell_type": "code",
   "execution_count": 2,
   "metadata": {},
   "outputs": [],
   "source": [
    "from single_preprocessing_function import single_preprocessing\n",
    "from sklearn.model_selection import train_test_split\n",
    "from sklearn.metrics import mean_squared_error\n",
    "from sklearn.metrics import mean_absolute_percentage_error\n",
    "from keras.models import Sequential\n",
    "from keras import layers\n",
    "from keras.optimizers import RMSprop\n",
    "from keras import optimizers\n",
    "from keras.layers import Dropout\n",
    "\n",
    "import matplotlib.pyplot as plt\n",
    "import numpy as np\n",
    "\n",
    "def single_ticker_lstm_use_case(ticker='DXCM', delay=5, lag=0, verbose=1):\n",
    "    #get pre processed data using our previous built function\n",
    "    X, y, ticker, delay, lag = single_preprocessing(ticker=ticker, delay=delay, lag=lag)\n",
    "\n",
    "    #Confirm selected ticker\n",
    "    if verbose == 1:\n",
    "        print(\"Executing RNN-LSTM for selected ticker :\",ticker)\n",
    "        print(\"\\n\")\n",
    "        print(\"delay :\",delay,\" lag :\",lag)\n",
    "        print(\"\\n\")\n",
    "\n",
    "    #dimentional check\n",
    "    if X.shape[0] > y.shape[0]:\n",
    "        X = X[:-1]\n",
    "        if verbose == 1:\n",
    "            print(\"Dimentional adjustment for X performed\")\n",
    "    else:\n",
    "        if verbose == 1:\n",
    "            print(\"Dimension check passsed\")\n",
    "\n",
    "    #Confirm shapes of X and y\n",
    "    if verbose == 1:\n",
    "        print(\"\\n\")\n",
    "        print(\"Shape of X :\")\n",
    "        print(X.shape)\n",
    "        print(\"\\n\")\n",
    "        print(\"Shape of y :\")\n",
    "        print(y.shape)\n",
    "        print(\"\\n\")\n",
    "\n",
    "    if X.shape[0] == y.shape[0]:\n",
    "        if verbose == 1:\n",
    "            print(\"2nd Dimension check passed\")\n",
    "    else:\n",
    "        assert X.shape[0] == y.shape[0], \"The number of observations for X and y should be the same\"\n",
    "    print(\"\\n\")\n",
    "    #Split data into test, validation, train\n",
    "    X_train, X_test, y_train, y_test = train_test_split(X, y, test_size=0.2, random_state=42)\n",
    "    X_train, X_val, y_train, y_val = train_test_split(X_train, y_train, test_size=0.2, random_state=42)\n",
    "\n",
    "    #RNN-LSTM architechture\n",
    "    lstm_model = Sequential()\n",
    "    lstm_model.add(layers.LSTM(units=70, return_sequences=True, input_shape=(X_train.shape[1], X_train.shape[2]), activation=\"tanh\" )) #add first layer for lstm\n",
    "    lstm_model.add(Dropout(0.2))\n",
    "    lstm_model.add(layers.LSTM(units=70, return_sequences=False, activation=\"tanh\") ) #add second lstm layer\n",
    "    lstm_model.add(Dropout(0.2))\n",
    "    lstm_model.add(layers.Dense(1)) #don't add activation function because we are doing regression\n",
    "\n",
    "    #Compile model and fit\n",
    "    optimizer = optimizers.SGD(learning_rate=0.001, momentum=0.0, nesterov=False)\n",
    "    lstm_model.compile(optimizer=optimizer, loss='mean_squared_error')\n",
    "    lstm_history = lstm_model.fit(X_train, y_train, epochs=190, batch_size=30, validation_data=(X_val, y_val), verbose=verbose)\n",
    "\n",
    "    #Make predictions\n",
    "    predicted_stock_price = lstm_model.predict(X_test)\n",
    "\n",
    "    #Evaluate model\n",
    "    #Evaluate regression model using mse and map\n",
    "    print(\"MSE for model: \")\n",
    "    print(mean_squared_error(y_test, predicted_stock_price))\n",
    "    print(\"\\n\")\n",
    "    print(\"MAPE for model: \")\n",
    "    print(mean_absolute_percentage_error(y_test, predicted_stock_price))\n",
    "\n",
    "    return lstm_model, ticker, delay"
   ]
  },
  {
   "cell_type": "markdown",
   "metadata": {},
   "source": [
    "### Create a function to fetch an observation of an specified ticker (last observation, most recent data)"
   ]
  },
  {
   "cell_type": "code",
   "execution_count": 3,
   "metadata": {},
   "outputs": [],
   "source": [
    "#I'll just recylce the function we already built and slice the last observation\n",
    "\n",
    "import pandas as pd\n",
    "import numpy as np\n",
    "import matplotlib.pyplot as plt\n",
    "import seaborn as sns\n",
    "import datetime as dt\n",
    "from sklearn.preprocessing import MinMaxScaler\n",
    "\n",
    "def single_preprocessing_use_case(ticker='SPLK', drop_col='Close', delay=15, lag=0):\n",
    "    df = pd.read_pickle(\"./data/data_pkls/nasdaq100.pkl\") #read data\n",
    "    #Filter dataframe by this specific ticker\n",
    "    df = df[ticker]\n",
    "    #Drop missing values since there is no good way to estimate stock values that are not tracked\n",
    "    df.dropna(inplace=True)\n",
    "    #Drop Close column since it Adj Close column is calcualted using this information\n",
    "    #so it would be allowing the model to cheat by already knowing the answers\n",
    "    df.drop(columns={drop_col}, inplace=True)\n",
    "\n",
    "    if drop_col == 'Close':\n",
    "        organize_col = 'Adj Close'\n",
    "    else:\n",
    "        organize_col = 'Close'\n",
    "    #Now just organize the columns \n",
    "    df = df.loc[:, ['Open', 'High', 'Low', 'Volume', organize_col]]\n",
    "    #Now let's scale our data\n",
    "    #First let's split data into X and Y\n",
    "    X = df.loc[:, ['Open', 'High', 'Low', 'Volume']]\n",
    "    y = df['Adj Close']\n",
    "    scaler = MinMaxScaler() #create scaler object\n",
    "    scaled_data = scaler.fit_transform(X) #fit transform data\n",
    "    #Split data into samples and reshape X\n",
    "    samples = [ scaled_data[i:i+delay] for i in range(0, (y.shape[0]), delay)]\n",
    "    if len(samples[-1] < delay):\n",
    "        samples = np.array(samples[:-1])\n",
    "    else:\n",
    "        samples = np.array(samples)\n",
    "    #Reshape y target also\n",
    "    new_y = [ y[i+delay+lag] for i in range(0, (y.shape[0]-(delay+lag)), delay)]\n",
    "    new_y = np.array(new_y)\n",
    "\n",
    "    #slice the last observation for this ticker\n",
    "    samples = samples[-1]\n",
    "    new_y = new_y[-1]\n",
    "    return samples.reshape(1, delay, 4), new_y, ticker, delay, lag"
   ]
  },
  {
   "cell_type": "markdown",
   "metadata": {},
   "source": [
    "### Now let's build the model and make a single prediction"
   ]
  },
  {
   "cell_type": "code",
   "execution_count": 9,
   "metadata": {},
   "outputs": [
    {
     "name": "stderr",
     "output_type": "stream",
     "text": [
      "c:\\Users\\kurom\\Desktop\\AI_GBC\\S2\\DL_I\\Final_Project\\single_preprocessing_function.py:36: FutureWarning: Series.__getitem__ treating keys as positions is deprecated. In a future version, integer keys will always be treated as labels (consistent with DataFrame behavior). To access a value by position, use `ser.iloc[pos]`\n",
      "  new_y = [ y[i+delay+lag] for i in range(0, (y.shape[0]-(delay+lag)), delay)]\n"
     ]
    },
    {
     "name": "stdout",
     "output_type": "stream",
     "text": [
      "\n",
      "\n",
      "6/6 [==============================] - 1s 4ms/step\n",
      "MSE for model: \n",
      "5.223589193415376\n",
      "\n",
      "\n",
      "MAPE for model: \n",
      "0.11449825027110987\n"
     ]
    }
   ],
   "source": [
    "#Build a model to predict the price of DXCM stock on the next day \n",
    "lstm, ticker, delay = single_ticker_lstm_use_case(ticker='DXCM', delay=5, lag=0, verbose=0)"
   ]
  },
  {
   "cell_type": "code",
   "execution_count": 18,
   "metadata": {},
   "outputs": [
    {
     "name": "stderr",
     "output_type": "stream",
     "text": [
      "C:\\Users\\kurom\\AppData\\Local\\Temp\\ipykernel_12496\\812133677.py:39: FutureWarning: Series.__getitem__ treating keys as positions is deprecated. In a future version, integer keys will always be treated as labels (consistent with DataFrame behavior). To access a value by position, use `ser.iloc[pos]`\n",
      "  new_y = [ y[i+delay+lag] for i in range(0, (y.shape[0]-(delay+lag)), delay)]\n"
     ]
    }
   ],
   "source": [
    "#Now let's get an observation to make a prediction\n",
    "observation, target, _, _, lag = single_preprocessing_use_case(ticker=ticker, delay=delay, lag=0)"
   ]
  },
  {
   "cell_type": "code",
   "execution_count": 19,
   "metadata": {},
   "outputs": [
    {
     "data": {
      "text/plain": [
       "array([[[0.76481441, 0.78996096, 0.76464749, 0.03024883],\n",
       "        [0.78372808, 0.80035873, 0.79384959, 0.02204056],\n",
       "        [0.79123252, 0.7925148 , 0.79130757, 0.01908769],\n",
       "        [0.77860311, 0.78983932, 0.78355755, 0.02035587],\n",
       "        [0.78446019, 0.78801513, 0.7670655 , 0.02960418]]])"
      ]
     },
     "execution_count": 19,
     "metadata": {},
     "output_type": "execute_result"
    }
   ],
   "source": [
    "#check the observation and it's target\n",
    "observation"
   ]
  },
  {
   "cell_type": "code",
   "execution_count": 20,
   "metadata": {},
   "outputs": [
    {
     "data": {
      "text/plain": [
       "(1, 5, 4)"
      ]
     },
     "execution_count": 20,
     "metadata": {},
     "output_type": "execute_result"
    }
   ],
   "source": [
    "observation.shape"
   ]
  },
  {
   "cell_type": "code",
   "execution_count": 21,
   "metadata": {},
   "outputs": [
    {
     "data": {
      "text/plain": [
       "124.45999908447266"
      ]
     },
     "execution_count": 21,
     "metadata": {},
     "output_type": "execute_result"
    }
   ],
   "source": [
    "target"
   ]
  },
  {
   "cell_type": "code",
   "execution_count": 22,
   "metadata": {},
   "outputs": [
    {
     "name": "stdout",
     "output_type": "stream",
     "text": [
      "1/1 [==============================] - 0s 37ms/step\n"
     ]
    }
   ],
   "source": [
    "#Make prediction for observation\n",
    "prediction = lstm.predict(observation)"
   ]
  },
  {
   "cell_type": "code",
   "execution_count": 25,
   "metadata": {},
   "outputs": [
    {
     "data": {
      "text/plain": [
       "130.56157"
      ]
     },
     "execution_count": 25,
     "metadata": {},
     "output_type": "execute_result"
    }
   ],
   "source": [
    "#check prediction\n",
    "prediction[0][0]"
   ]
  },
  {
   "cell_type": "markdown",
   "metadata": {},
   "source": [
    "# Test"
   ]
  },
  {
   "cell_type": "markdown",
   "metadata": {},
   "source": [
    "### Test_1"
   ]
  },
  {
   "cell_type": "code",
   "execution_count": 4,
   "metadata": {},
   "outputs": [],
   "source": [
    "import single_preprocessing_use_case\n",
    "import single_Ticker_LSTM_use_case"
   ]
  },
  {
   "cell_type": "code",
   "execution_count": 30,
   "metadata": {},
   "outputs": [],
   "source": [
    "#Now let's make a function that predicts the following 5 days of the value of the stock for a selected ticker\n",
    "from single_preprocessing_function import single_preprocessing\n",
    "from sklearn.model_selection import train_test_split\n",
    "from sklearn.metrics import mean_squared_error\n",
    "from sklearn.metrics import mean_absolute_percentage_error\n",
    "from keras.models import Sequential\n",
    "from keras import layers\n",
    "from keras.optimizers import RMSprop\n",
    "from keras import optimizers\n",
    "from keras.layers import Dropout\n",
    "\n",
    "import matplotlib.pyplot as plt\n",
    "import numpy as np\n",
    "import keras\n",
    "\n",
    "def lstm_use_case(ticker='DXCM', delay=5, lag_list=[0, 1, 2, 3, 4], verbose=0):\n",
    "    keras.utils.set_random_seed(97) #Set seed for reproducibility\n",
    "    #Sanity check\n",
    "    if len(lag_list) > delay:\n",
    "        assert \"The number of days to predict ahead cannot be greater than delay, check lag_list and delay\"\n",
    "    #Init empty list to store predictions\n",
    "    predictions_list = []\n",
    "    #Train model and make predictions in a loop\n",
    "    for lag in lag_list:\n",
    "        #Build a model to predict the price of DXCM stock on the next day \n",
    "        lstm, _, _ = single_ticker_lstm_use_case(ticker=ticker, delay=delay, lag=lag, verbose=0)\n",
    "        #Get observation\n",
    "        observation, _, _, _, _ = single_preprocessing_use_case(ticker=ticker, delay=delay, lag=lag)\n",
    "        #Make prediction\n",
    "        prediction = lstm.predict(observation)\n",
    "        #Add to list of predictions\n",
    "        predictions_list.append(prediction[0][0])\n",
    "\n",
    "    #Plot predictions for the next days\n",
    "    lag_list = np.array(lag_list)+1\n",
    "    plt.figure()\n",
    "    plt.plot(lag_list, predictions_list, 'r', label='Predictions')\n",
    "    plt.xlabel('Days ahead')\n",
    "    plt.title('Predictions for the next '+str(len(lag_list))+' days')\n",
    "    plt.legend()\n",
    "    plt.show()\n"
   ]
  },
  {
   "cell_type": "markdown",
   "metadata": {},
   "source": [
    "## Test_2"
   ]
  },
  {
   "cell_type": "code",
   "execution_count": 1,
   "metadata": {},
   "outputs": [
    {
     "name": "stdout",
     "output_type": "stream",
     "text": [
      "WARNING:tensorflow:From c:\\Users\\kurom\\anaconda3\\envs\\dl-venv\\lib\\site-packages\\keras\\src\\losses.py:2976: The name tf.losses.sparse_softmax_cross_entropy is deprecated. Please use tf.compat.v1.losses.sparse_softmax_cross_entropy instead.\n",
      "\n"
     ]
    }
   ],
   "source": [
    "from single_preprocessing_use_case_function import single_preprocessing_use_case\n",
    "from single_ticker_lstm_use_case_function import single_ticker_lstm_use_case"
   ]
  },
  {
   "cell_type": "code",
   "execution_count": 2,
   "metadata": {},
   "outputs": [],
   "source": [
    "from lstm_use_case_function import lstm_use_case"
   ]
  },
  {
   "cell_type": "code",
   "execution_count": 4,
   "metadata": {},
   "outputs": [
    {
     "name": "stderr",
     "output_type": "stream",
     "text": [
      "c:\\Users\\kurom\\Desktop\\AI_GBC\\S2\\DL_I\\Final_Project\\single_preprocessing_function.py:36: FutureWarning: Series.__getitem__ treating keys as positions is deprecated. In a future version, integer keys will always be treated as labels (consistent with DataFrame behavior). To access a value by position, use `ser.iloc[pos]`\n",
      "  new_y = [ y[i+delay+lag] for i in range(0, (y.shape[0]-(delay+lag)), delay)]\n"
     ]
    },
    {
     "name": "stdout",
     "output_type": "stream",
     "text": [
      "\n",
      "\n",
      "3/3 [==============================] - 1s 8ms/step\n",
      "MSE for model: \n",
      "19.7826689818641\n",
      "\n",
      "\n",
      "MAPE for model: \n",
      "0.5196978738791356\n",
      "1/1 [==============================] - 0s 25ms/step\n"
     ]
    },
    {
     "name": "stderr",
     "output_type": "stream",
     "text": [
      "c:\\Users\\kurom\\Desktop\\AI_GBC\\S2\\DL_I\\Final_Project\\single_preprocessing_use_case_function.py:39: FutureWarning: Series.__getitem__ treating keys as positions is deprecated. In a future version, integer keys will always be treated as labels (consistent with DataFrame behavior). To access a value by position, use `ser.iloc[pos]`\n",
      "  new_y = [ y[i+delay+lag] for i in range(0, (y.shape[0]-(delay+lag)), delay)]\n",
      "c:\\Users\\kurom\\Desktop\\AI_GBC\\S2\\DL_I\\Final_Project\\single_preprocessing_function.py:36: FutureWarning: Series.__getitem__ treating keys as positions is deprecated. In a future version, integer keys will always be treated as labels (consistent with DataFrame behavior). To access a value by position, use `ser.iloc[pos]`\n",
      "  new_y = [ y[i+delay+lag] for i in range(0, (y.shape[0]-(delay+lag)), delay)]\n"
     ]
    },
    {
     "name": "stdout",
     "output_type": "stream",
     "text": [
      "\n",
      "\n",
      "3/3 [==============================] - 1s 8ms/step\n",
      "MSE for model: \n",
      "23.068344675132227\n",
      "\n",
      "\n",
      "MAPE for model: \n",
      "0.37959024571465744\n",
      "1/1 [==============================] - 0s 41ms/step\n"
     ]
    },
    {
     "name": "stderr",
     "output_type": "stream",
     "text": [
      "c:\\Users\\kurom\\Desktop\\AI_GBC\\S2\\DL_I\\Final_Project\\single_preprocessing_use_case_function.py:39: FutureWarning: Series.__getitem__ treating keys as positions is deprecated. In a future version, integer keys will always be treated as labels (consistent with DataFrame behavior). To access a value by position, use `ser.iloc[pos]`\n",
      "  new_y = [ y[i+delay+lag] for i in range(0, (y.shape[0]-(delay+lag)), delay)]\n",
      "c:\\Users\\kurom\\Desktop\\AI_GBC\\S2\\DL_I\\Final_Project\\single_preprocessing_function.py:36: FutureWarning: Series.__getitem__ treating keys as positions is deprecated. In a future version, integer keys will always be treated as labels (consistent with DataFrame behavior). To access a value by position, use `ser.iloc[pos]`\n",
      "  new_y = [ y[i+delay+lag] for i in range(0, (y.shape[0]-(delay+lag)), delay)]\n"
     ]
    },
    {
     "name": "stdout",
     "output_type": "stream",
     "text": [
      "\n",
      "\n",
      "3/3 [==============================] - 1s 4ms/step\n",
      "MSE for model: \n",
      "35.04860572190048\n",
      "\n",
      "\n",
      "MAPE for model: \n",
      "0.34319694409248935\n",
      "1/1 [==============================] - 0s 25ms/step\n"
     ]
    },
    {
     "name": "stderr",
     "output_type": "stream",
     "text": [
      "c:\\Users\\kurom\\Desktop\\AI_GBC\\S2\\DL_I\\Final_Project\\single_preprocessing_use_case_function.py:39: FutureWarning: Series.__getitem__ treating keys as positions is deprecated. In a future version, integer keys will always be treated as labels (consistent with DataFrame behavior). To access a value by position, use `ser.iloc[pos]`\n",
      "  new_y = [ y[i+delay+lag] for i in range(0, (y.shape[0]-(delay+lag)), delay)]\n",
      "c:\\Users\\kurom\\Desktop\\AI_GBC\\S2\\DL_I\\Final_Project\\single_preprocessing_function.py:36: FutureWarning: Series.__getitem__ treating keys as positions is deprecated. In a future version, integer keys will always be treated as labels (consistent with DataFrame behavior). To access a value by position, use `ser.iloc[pos]`\n",
      "  new_y = [ y[i+delay+lag] for i in range(0, (y.shape[0]-(delay+lag)), delay)]\n"
     ]
    },
    {
     "name": "stdout",
     "output_type": "stream",
     "text": [
      "\n",
      "\n",
      "3/3 [==============================] - 1s 9ms/step\n",
      "MSE for model: \n",
      "10.703764052741587\n",
      "\n",
      "\n",
      "MAPE for model: \n",
      "0.12263575516217234\n",
      "1/1 [==============================] - 0s 25ms/step\n"
     ]
    },
    {
     "name": "stderr",
     "output_type": "stream",
     "text": [
      "c:\\Users\\kurom\\Desktop\\AI_GBC\\S2\\DL_I\\Final_Project\\single_preprocessing_use_case_function.py:39: FutureWarning: Series.__getitem__ treating keys as positions is deprecated. In a future version, integer keys will always be treated as labels (consistent with DataFrame behavior). To access a value by position, use `ser.iloc[pos]`\n",
      "  new_y = [ y[i+delay+lag] for i in range(0, (y.shape[0]-(delay+lag)), delay)]\n",
      "c:\\Users\\kurom\\Desktop\\AI_GBC\\S2\\DL_I\\Final_Project\\single_preprocessing_function.py:36: FutureWarning: Series.__getitem__ treating keys as positions is deprecated. In a future version, integer keys will always be treated as labels (consistent with DataFrame behavior). To access a value by position, use `ser.iloc[pos]`\n",
      "  new_y = [ y[i+delay+lag] for i in range(0, (y.shape[0]-(delay+lag)), delay)]\n"
     ]
    },
    {
     "name": "stdout",
     "output_type": "stream",
     "text": [
      "\n",
      "\n",
      "3/3 [==============================] - 1s 9ms/step\n",
      "MSE for model: \n",
      "9.757076449153484\n",
      "\n",
      "\n",
      "MAPE for model: \n",
      "0.11312264600978818\n",
      "1/1 [==============================] - 0s 32ms/step\n"
     ]
    },
    {
     "name": "stderr",
     "output_type": "stream",
     "text": [
      "c:\\Users\\kurom\\Desktop\\AI_GBC\\S2\\DL_I\\Final_Project\\single_preprocessing_use_case_function.py:39: FutureWarning: Series.__getitem__ treating keys as positions is deprecated. In a future version, integer keys will always be treated as labels (consistent with DataFrame behavior). To access a value by position, use `ser.iloc[pos]`\n",
      "  new_y = [ y[i+delay+lag] for i in range(0, (y.shape[0]-(delay+lag)), delay)]\n"
     ]
    },
    {
     "data": {
      "image/png": "[encoded data removed]",
      "text/plain": [
       "<Figure size 640x480 with 1 Axes>"
      ]
     },
     "metadata": {},
     "output_type": "display_data"
    }
   ],
   "source": [
    "lstm_use_case(ticker='DXCM', delay=10, lag_list=[0, 1, 2, 3, 4], verbose=0)"
   ]
  },
  {
   "cell_type": "code",
   "execution_count": null,
   "metadata": {},
   "outputs": [],
   "source": []
  }
 ],
 "metadata": {
  "kernelspec": {
   "display_name": "dl-venv",
   "language": "python",
   "name": "python3"
  },
  "language_info": {
   "codemirror_mode": {
    "name": "ipython",
    "version": 3
   },
   "file_extension": ".py",
   "mimetype": "text/x-python",
   "name": "python",
   "nbconvert_exporter": "python",
   "pygments_lexer": "ipython3",
   "version": "3.10.8"
  }
 },
 "nbformat": 4,
 "nbformat_minor": 2
}
