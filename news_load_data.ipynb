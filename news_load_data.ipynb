{
 "cells": [
  {
   "cell_type": "code",
   "execution_count": 8,
   "metadata": {},
   "outputs": [],
   "source": [
    "import pandas as pd\n",
    "import numpy as np\n"
   ]
  },
  {
   "cell_type": "code",
   "execution_count": 9,
   "metadata": {},
   "outputs": [],
   "source": [
    "#The all news csv contains duplicates #TODO just fix it\n",
    "def get_all_news():\n",
    "    dfs = []\n",
    "    for i in range(1, 5):\n",
    "        df = pd.read_csv(f'data/news/news_part{i}.csv')\n",
    "        dfs.append(df)\n",
    "    newsdata_df = pd.concat(dfs, ignore_index=True)\n",
    "\n",
    "    return newsdata_df\n"
   ]
  },
  {
   "cell_type": "code",
   "execution_count": 12,
   "metadata": {},
   "outputs": [
    {
     "data": {
      "text/plain": [
       "7631640"
      ]
     },
     "execution_count": 12,
     "metadata": {},
     "output_type": "execute_result"
    }
   ],
   "source": [
    "#get all news (BIG cause dupelicates)\n",
    "\n",
    "#all_news = get_all_news()\n",
    "#all_news.size"
   ]
  },
  {
   "cell_type": "code",
   "execution_count": 13,
   "metadata": {},
   "outputs": [],
   "source": [
    "#Get news for a single stock (This depends on get_news.py being in the same dir)\n",
    "from get_news import get_news\n",
    "apple_news = get_news('AAPL')"
   ]
  },
  {
   "cell_type": "code",
   "execution_count": 14,
   "metadata": {},
   "outputs": [
    {
     "data": {
      "text/plain": [
       "<bound method NDFrame.head of     Ticker                                              Title  \\\n",
       "0     AAPL  Ads running on Meta saw return on spending inc...   \n",
       "1     AAPL  Here are the reasons why a new Wall Street upg...   \n",
       "2     AAPL                  Stocks Remain at a Junction Point   \n",
       "3     AAPL  Apple Analyst Turns Bullish, Predicts Strong i...   \n",
       "4     AAPL  Amphenol  ( APH )  to Report Q4 Earnings: What...   \n",
       "..     ...                                                ...   \n",
       "684   AAPL             Apple Watch Ban: What You Need to Know   \n",
       "685   AAPL  Should SoFi Select 500 ETF  ( SFY )  Be on You...   \n",
       "686   AAPL  Should Fidelity Nasdaq Composite Index ETF  ( ...   \n",
       "687   AAPL  Is Franklin U.S. Equity Index ETF  ( USPX )  a...   \n",
       "688   AAPL  Should iShares Core S&P 500 ETF  ( IVV )  Be o...   \n",
       "\n",
       "                                                   URL      Time Published  \\\n",
       "0    https://www.business-standard.com/companies/ne... 2024-01-18 17:28:08   \n",
       "1    https://www.cnbc.com/2024/01/18/what-activist-... 2024-01-18 16:48:19   \n",
       "2    https://www.investorideas.com/news/2024/main/0... 2024-01-18 16:25:21   \n",
       "3    https://www.benzinga.com/news/24/01/36681276/a... 2024-01-18 16:21:06   \n",
       "4    https://www.zacks.com/stock/news/2212239/amphe... 2024-01-18 15:50:00   \n",
       "..                                                 ...                 ...   \n",
       "684  https://www.fool.com/investing/2023/12/21/appl... 2023-12-21 11:45:00   \n",
       "685  https://www.zacks.com/stock/news/2200876/shoul... 2023-12-21 11:20:07   \n",
       "686  https://www.zacks.com/stock/news/2200879/shoul... 2023-12-21 11:20:06   \n",
       "687  https://www.zacks.com/stock/news/2200882/is-fr... 2023-12-21 11:20:06   \n",
       "688  https://www.zacks.com/stock/news/2200884/shoul... 2023-12-21 11:20:05   \n",
       "\n",
       "                     Authors  \\\n",
       "0                [Bloomberg]   \n",
       "1               [Jeff Marks]   \n",
       "2                         []   \n",
       "3           [Anusuya Lahiri]   \n",
       "4    [Zacks Equity Research]   \n",
       "..                       ...   \n",
       "684           [Travis Hoium]   \n",
       "685  [Zacks Equity Research]   \n",
       "686  [Zacks Equity Research]   \n",
       "687  [Zacks Equity Research]   \n",
       "688  [Zacks Equity Research]   \n",
       "\n",
       "                                               Summary Relevance Score  \\\n",
       "0    Ads running on Meta Platforms Inc.'s apps saw ...        0.250386   \n",
       "1    The Investing Club holds its \"Morning Meeting\"...        0.298567   \n",
       "2    January 18, 2024 ( Investorideas.com Newswire ...        0.188781   \n",
       "3    BofA Securities analyst Wamsi Mohan upgraded A...        0.453099   \n",
       "4    Amphenol's (APH) fourth-quarter 2023 results a...        0.328455   \n",
       "..                                                 ...             ...   \n",
       "684  Apple Watch is being pulled from store shelves...        0.798255   \n",
       "685                       Style Box ETF report for ...        0.122269   \n",
       "686                       Style Box ETF report for ...        0.122894   \n",
       "687                      Smart Beta ETF report for ...        0.113329   \n",
       "688                       Style Box ETF report for ...        0.135347   \n",
       "\n",
       "    Ticker Sentiment Score Ticker Sentiment Label Financial Markets  ...  \\\n",
       "0                 0.094962                Neutral                 0  ...   \n",
       "1                 0.098222                Neutral          0.967645  ...   \n",
       "2                 0.167062       Somewhat-Bullish               1.0  ...   \n",
       "3                 0.550948                Bullish          0.360215  ...   \n",
       "4                 0.194369       Somewhat-Bullish                 0  ...   \n",
       "..                     ...                    ...               ...  ...   \n",
       "684              -0.322242       Somewhat-Bearish                 0  ...   \n",
       "685               0.062595                Neutral          0.999994  ...   \n",
       "686               0.065026                Neutral               1.0  ...   \n",
       "687               0.057382                Neutral               1.0  ...   \n",
       "688               0.065707                Neutral               1.0  ...   \n",
       "\n",
       "    Life Sciences IPO   Finance Blockchain Economy - Fiscal  \\\n",
       "0               0   0         0          0                0   \n",
       "1               0   0       0.5          0                0   \n",
       "2               0   0         0          0                0   \n",
       "3               0   0         0          0                0   \n",
       "4               0   0         0          0                0   \n",
       "..            ...  ..       ...        ...              ...   \n",
       "684             0   0         0          0         0.158519   \n",
       "685             0   0  0.333333          0                0   \n",
       "686             0   0       0.5          0                0   \n",
       "687             0   0       0.5          0                0   \n",
       "688             0   0  0.333333          0                0   \n",
       "\n",
       "    Energy & Transportation Retail & Wholesale Real Estate & Construction  \\\n",
       "0                         0                  0                          0   \n",
       "1                         0                  0                          0   \n",
       "2                         0                  0                          0   \n",
       "3                         0                  0                          0   \n",
       "4                         0                  0                          0   \n",
       "..                      ...                ...                        ...   \n",
       "684                       0                  0                          0   \n",
       "685                       0           0.333333                          0   \n",
       "686                       0                  0                          0   \n",
       "687                       0                  0                          0   \n",
       "688                       0           0.333333                          0   \n",
       "\n",
       "    Technology  Earnings  \n",
       "0          1.0         0  \n",
       "1          0.5  0.158519  \n",
       "2          0.5  0.838487  \n",
       "3          1.0  0.108179  \n",
       "4          0.5  0.995869  \n",
       "..         ...       ...  \n",
       "684        1.0         0  \n",
       "685   0.333333  0.310843  \n",
       "686        0.5  0.310843  \n",
       "687        0.5         0  \n",
       "688   0.333333         0  \n",
       "\n",
       "[689 rows x 24 columns]>"
      ]
     },
     "execution_count": 14,
     "metadata": {},
     "output_type": "execute_result"
    }
   ],
   "source": [
    "apple_news.head"
   ]
  },
  {
   "cell_type": "code",
   "execution_count": 7,
   "metadata": {},
   "outputs": [],
   "source": [
    "#export to csv if you need to\n",
    "apple_news.to_csv('AAPL.csv')"
   ]
  }
 ],
 "metadata": {
  "kernelspec": {
   "display_name": "AASD4010-XSwstjEU",
   "language": "python",
   "name": "python3"
  },
  "language_info": {
   "codemirror_mode": {
    "name": "ipython",
    "version": 3
   },
   "file_extension": ".py",
   "mimetype": "text/x-python",
   "name": "python",
   "nbconvert_exporter": "python",
   "pygments_lexer": "ipython3",
   "version": "3.10.11"
  }
 },
 "nbformat": 4,
 "nbformat_minor": 2
}
