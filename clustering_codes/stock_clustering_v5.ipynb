{
  "cells": [
    {
      "cell_type": "code",
      "execution_count": 76,
      "metadata": {
        "colab": {
          "base_uri": "https://localhost:8080/"
        },
        "id": "blHgIt5un0c-",
        "outputId": "9e883509-0630-4dda-cd9e-99375464fb6e"
      },
      "outputs": [],
      "source": [
        "#from google.colab import drive\n",
        "#drive.mount('/content/drive')"
      ]
    },
    {
      "cell_type": "code",
      "execution_count": 77,
      "metadata": {
        "id": "CCuHy7CNpI5m"
      },
      "outputs": [],
      "source": [
        "import pandas as pd\n",
        "import numpy as np\n",
        "import tensorflow as tf\n",
        "from tensorflow.keras.models import Sequential, Model\n",
        "from tensorflow.keras.layers import LSTM, RepeatVector, TimeDistributed\n",
        "from tensorflow.keras.layers import Input, Dense, Dropout\n",
        "# from tensorflow.keras.wrappers.scikit_learn import KerasClassifier\n",
        "\n",
        "from sklearn.cluster import KMeans\n",
        "import matplotlib.pyplot as plt\n",
        "from sklearn.preprocessing import StandardScaler\n",
        "from sklearn.preprocessing import MinMaxScaler\n",
        "from sklearn.impute import SimpleImputer\n",
        "from sklearn.model_selection import GridSearchCV\n",
        "from sklearn.model_selection import train_test_split\n",
        "import os\n",
        "import shutil"
      ]
    },
    {
      "cell_type": "code",
      "execution_count": 78,
      "metadata": {
        "id": "A9WFD-nnpMPV"
      },
      "outputs": [],
      "source": [
        "# Load NASDAQ 100 data - Colab\n",
        "# nasdaq100_data = pd.read_pickle('/content/drive/MyDrive/Colab Notebooks/datasets/nasdaq100.pkl')\n",
        "\n",
        "# Load NASDAQ 100 data - Local\n",
        "nasdaq100_data = pd.read_pickle(r'C:\\aiprojects\\gbc-projects\\DL1_Financial\\AASD4010_project\\data\\data_pkls\\nasdaq100.pkl')"
      ]
    },
    {
      "cell_type": "code",
      "execution_count": 79,
      "metadata": {},
      "outputs": [
        {
          "data": {
            "text/plain": [
              "(15618, 606)"
            ]
          },
          "execution_count": 79,
          "metadata": {},
          "output_type": "execute_result"
        }
      ],
      "source": [
        "nasdaq100_data.shape"
      ]
    },
    {
      "cell_type": "markdown",
      "metadata": {},
      "source": [
        "Data Pre-Processing (With PCT)"
      ]
    },
    {
      "cell_type": "code",
      "execution_count": 80,
      "metadata": {},
      "outputs": [],
      "source": [
        "# Getting only 'Adj Close' column for each company\n",
        "\n",
        "df = pd.DataFrame()\n",
        "\n",
        "# Loop through each company\n",
        "for company in nasdaq100_data.columns.levels[0]:\n",
        "    company_data = nasdaq100_data[company]\n",
        "\n",
        "    # Calculate daily returns, volatility, and average return for each company\n",
        "    daily_returns = company_data['Adj Close'].pct_change()\n",
        "    volatility = daily_returns.rolling(window=20).std()\n",
        "    # average_return = daily_returns.rolling(window=20).mean()\n",
        "\n",
        "    company_features = pd.DataFrame({\n",
        "        f'{company}': volatility,\n",
        "        # f'{company}_AverageReturn': average_return\n",
        "    })\n",
        "\n",
        "    df = pd.concat([df, company_features], axis=1)\n",
        "\n",
        "df = df['2010':'2020']"
      ]
    },
    {
      "cell_type": "code",
      "execution_count": 81,
      "metadata": {},
      "outputs": [
        {
          "data": {
            "text/html": [
              "<div>\n",
              "<style scoped>\n",
              "    .dataframe tbody tr th:only-of-type {\n",
              "        vertical-align: middle;\n",
              "    }\n",
              "\n",
              "    .dataframe tbody tr th {\n",
              "        vertical-align: top;\n",
              "    }\n",
              "\n",
              "    .dataframe thead th {\n",
              "        text-align: right;\n",
              "    }\n",
              "</style>\n",
              "<table border=\"1\" class=\"dataframe\">\n",
              "  <thead>\n",
              "    <tr style=\"text-align: right;\">\n",
              "      <th></th>\n",
              "      <th>AAPL</th>\n",
              "      <th>ABNB</th>\n",
              "      <th>ADBE</th>\n",
              "      <th>ADI</th>\n",
              "      <th>ADP</th>\n",
              "      <th>ADSK</th>\n",
              "      <th>AEP</th>\n",
              "      <th>AMAT</th>\n",
              "      <th>AMD</th>\n",
              "      <th>AMGN</th>\n",
              "      <th>...</th>\n",
              "      <th>TTD</th>\n",
              "      <th>TTWO</th>\n",
              "      <th>TXN</th>\n",
              "      <th>VRSK</th>\n",
              "      <th>VRTX</th>\n",
              "      <th>WBA</th>\n",
              "      <th>WBD</th>\n",
              "      <th>WDAY</th>\n",
              "      <th>XEL</th>\n",
              "      <th>ZS</th>\n",
              "    </tr>\n",
              "    <tr>\n",
              "      <th>Date</th>\n",
              "      <th></th>\n",
              "      <th></th>\n",
              "      <th></th>\n",
              "      <th></th>\n",
              "      <th></th>\n",
              "      <th></th>\n",
              "      <th></th>\n",
              "      <th></th>\n",
              "      <th></th>\n",
              "      <th></th>\n",
              "      <th></th>\n",
              "      <th></th>\n",
              "      <th></th>\n",
              "      <th></th>\n",
              "      <th></th>\n",
              "      <th></th>\n",
              "      <th></th>\n",
              "      <th></th>\n",
              "      <th></th>\n",
              "      <th></th>\n",
              "      <th></th>\n",
              "    </tr>\n",
              "  </thead>\n",
              "  <tbody>\n",
              "    <tr>\n",
              "      <th>2010-01-04</th>\n",
              "      <td>0.017053</td>\n",
              "      <td>NaN</td>\n",
              "      <td>0.013439</td>\n",
              "      <td>0.007235</td>\n",
              "      <td>0.007713</td>\n",
              "      <td>0.018346</td>\n",
              "      <td>0.008951</td>\n",
              "      <td>0.012732</td>\n",
              "      <td>0.025428</td>\n",
              "      <td>0.011336</td>\n",
              "      <td>...</td>\n",
              "      <td>NaN</td>\n",
              "      <td>0.073092</td>\n",
              "      <td>0.013778</td>\n",
              "      <td>0.012847</td>\n",
              "      <td>0.016888</td>\n",
              "      <td>0.013368</td>\n",
              "      <td>0.011084</td>\n",
              "      <td>NaN</td>\n",
              "      <td>0.008068</td>\n",
              "      <td>NaN</td>\n",
              "    </tr>\n",
              "    <tr>\n",
              "      <th>2010-01-05</th>\n",
              "      <td>0.016378</td>\n",
              "      <td>NaN</td>\n",
              "      <td>0.013574</td>\n",
              "      <td>0.007225</td>\n",
              "      <td>0.007295</td>\n",
              "      <td>0.016219</td>\n",
              "      <td>0.009190</td>\n",
              "      <td>0.012530</td>\n",
              "      <td>0.024472</td>\n",
              "      <td>0.011491</td>\n",
              "      <td>...</td>\n",
              "      <td>NaN</td>\n",
              "      <td>0.025075</td>\n",
              "      <td>0.013270</td>\n",
              "      <td>0.011810</td>\n",
              "      <td>0.018434</td>\n",
              "      <td>0.013459</td>\n",
              "      <td>0.014176</td>\n",
              "      <td>NaN</td>\n",
              "      <td>0.008435</td>\n",
              "      <td>NaN</td>\n",
              "    </tr>\n",
              "    <tr>\n",
              "      <th>2010-01-06</th>\n",
              "      <td>0.015836</td>\n",
              "      <td>NaN</td>\n",
              "      <td>0.013548</td>\n",
              "      <td>0.007095</td>\n",
              "      <td>0.007197</td>\n",
              "      <td>0.016049</td>\n",
              "      <td>0.008971</td>\n",
              "      <td>0.012437</td>\n",
              "      <td>0.018060</td>\n",
              "      <td>0.011525</td>\n",
              "      <td>...</td>\n",
              "      <td>NaN</td>\n",
              "      <td>0.025351</td>\n",
              "      <td>0.013240</td>\n",
              "      <td>0.011893</td>\n",
              "      <td>0.018764</td>\n",
              "      <td>0.013514</td>\n",
              "      <td>0.014493</td>\n",
              "      <td>NaN</td>\n",
              "      <td>0.008246</td>\n",
              "      <td>NaN</td>\n",
              "    </tr>\n",
              "    <tr>\n",
              "      <th>2010-01-07</th>\n",
              "      <td>0.015924</td>\n",
              "      <td>NaN</td>\n",
              "      <td>0.014207</td>\n",
              "      <td>0.007144</td>\n",
              "      <td>0.005744</td>\n",
              "      <td>0.015887</td>\n",
              "      <td>0.009130</td>\n",
              "      <td>0.012812</td>\n",
              "      <td>0.018198</td>\n",
              "      <td>0.011499</td>\n",
              "      <td>...</td>\n",
              "      <td>NaN</td>\n",
              "      <td>0.025477</td>\n",
              "      <td>0.013100</td>\n",
              "      <td>0.011815</td>\n",
              "      <td>0.018862</td>\n",
              "      <td>0.013141</td>\n",
              "      <td>0.014055</td>\n",
              "      <td>NaN</td>\n",
              "      <td>0.008320</td>\n",
              "      <td>NaN</td>\n",
              "    </tr>\n",
              "    <tr>\n",
              "      <th>2010-01-08</th>\n",
              "      <td>0.013435</td>\n",
              "      <td>NaN</td>\n",
              "      <td>0.014181</td>\n",
              "      <td>0.007010</td>\n",
              "      <td>0.005284</td>\n",
              "      <td>0.015085</td>\n",
              "      <td>0.009281</td>\n",
              "      <td>0.014998</td>\n",
              "      <td>0.018304</td>\n",
              "      <td>0.011647</td>\n",
              "      <td>...</td>\n",
              "      <td>NaN</td>\n",
              "      <td>0.025170</td>\n",
              "      <td>0.013819</td>\n",
              "      <td>0.012339</td>\n",
              "      <td>0.019420</td>\n",
              "      <td>0.010932</td>\n",
              "      <td>0.013702</td>\n",
              "      <td>NaN</td>\n",
              "      <td>0.008192</td>\n",
              "      <td>NaN</td>\n",
              "    </tr>\n",
              "  </tbody>\n",
              "</table>\n",
              "<p>5 rows × 101 columns</p>\n",
              "</div>"
            ],
            "text/plain": [
              "                AAPL  ABNB      ADBE       ADI       ADP      ADSK       AEP  \\\n",
              "Date                                                                           \n",
              "2010-01-04  0.017053   NaN  0.013439  0.007235  0.007713  0.018346  0.008951   \n",
              "2010-01-05  0.016378   NaN  0.013574  0.007225  0.007295  0.016219  0.009190   \n",
              "2010-01-06  0.015836   NaN  0.013548  0.007095  0.007197  0.016049  0.008971   \n",
              "2010-01-07  0.015924   NaN  0.014207  0.007144  0.005744  0.015887  0.009130   \n",
              "2010-01-08  0.013435   NaN  0.014181  0.007010  0.005284  0.015085  0.009281   \n",
              "\n",
              "                AMAT       AMD      AMGN  ...  TTD      TTWO       TXN  \\\n",
              "Date                                      ...                            \n",
              "2010-01-04  0.012732  0.025428  0.011336  ...  NaN  0.073092  0.013778   \n",
              "2010-01-05  0.012530  0.024472  0.011491  ...  NaN  0.025075  0.013270   \n",
              "2010-01-06  0.012437  0.018060  0.011525  ...  NaN  0.025351  0.013240   \n",
              "2010-01-07  0.012812  0.018198  0.011499  ...  NaN  0.025477  0.013100   \n",
              "2010-01-08  0.014998  0.018304  0.011647  ...  NaN  0.025170  0.013819   \n",
              "\n",
              "                VRSK      VRTX       WBA       WBD  WDAY       XEL  ZS  \n",
              "Date                                                                    \n",
              "2010-01-04  0.012847  0.016888  0.013368  0.011084   NaN  0.008068 NaN  \n",
              "2010-01-05  0.011810  0.018434  0.013459  0.014176   NaN  0.008435 NaN  \n",
              "2010-01-06  0.011893  0.018764  0.013514  0.014493   NaN  0.008246 NaN  \n",
              "2010-01-07  0.011815  0.018862  0.013141  0.014055   NaN  0.008320 NaN  \n",
              "2010-01-08  0.012339  0.019420  0.010932  0.013702   NaN  0.008192 NaN  \n",
              "\n",
              "[5 rows x 101 columns]"
            ]
          },
          "execution_count": 81,
          "metadata": {},
          "output_type": "execute_result"
        }
      ],
      "source": [
        "df.head()"
      ]
    },
    {
      "cell_type": "code",
      "execution_count": 82,
      "metadata": {},
      "outputs": [],
      "source": [
        "def clean_data(df):\n",
        "    # Dropping completely empty columns\n",
        "    empty_columns = df.columns[df.isnull().all()]\n",
        "    df_cleaned = df.drop(empty_columns, axis=1)\n",
        "    # Filling NaN values with mean\n",
        "    imputer = SimpleImputer(strategy='mean')\n",
        "    imputer.fit(df_cleaned)\n",
        "    df_cleaned = imputer.transform(df_cleaned)   \n",
        "    return df_cleaned, empty_columns\n",
        "\n",
        "df_cleaned, empty_columns = clean_data(df)"
      ]
    },
    {
      "cell_type": "code",
      "execution_count": 83,
      "metadata": {},
      "outputs": [],
      "source": [
        "def scale_data(df_cleaned):\n",
        "    scaler = MinMaxScaler()\n",
        "    df_scaled = scaler.fit_transform(df_cleaned)\n",
        "    return df_scaled\n",
        "\n",
        "df_scaled = scale_data(df_cleaned)"
      ]
    },
    {
      "cell_type": "code",
      "execution_count": 84,
      "metadata": {},
      "outputs": [
        {
          "data": {
            "text/plain": [
              "(2769, 96)"
            ]
          },
          "execution_count": 84,
          "metadata": {},
          "output_type": "execute_result"
        }
      ],
      "source": [
        "df_scaled.shape"
      ]
    },
    {
      "cell_type": "code",
      "execution_count": 85,
      "metadata": {},
      "outputs": [
        {
          "name": "stdout",
          "output_type": "stream",
          "text": [
            "(96, 1, 2769)\n"
          ]
        }
      ],
      "source": [
        "# Autoencoder architecture - Without PCT\n",
        "input_dim = df_scaled.shape[0] # The number of columns in the training data which is 192\n",
        "encoding_dim = 2  # Set the desired dimensionality of the embeddings\n",
        "\n",
        "# Reshape the input data\n",
        "input_data = df_scaled.reshape(df_scaled.shape[1], 1, df_scaled.shape[0])\n",
        "\n",
        "# Print the shape of the reshaped data\n",
        "print(input_data.shape)\n"
      ]
    },
    {
      "cell_type": "code",
      "execution_count": 86,
      "metadata": {},
      "outputs": [],
      "source": [
        "optimizer = tf.keras.optimizers.Adam(learning_rate=0.001)\n",
        "\n",
        "# Encoder\n",
        "encoder_inputs = Input(shape=(None, input_dim))\n",
        "encoder = LSTM(100, return_sequences=True)(encoder_inputs)\n",
        "encoder = LSTM(encoding_dim)(encoder)\n",
        "\n",
        "# Decoder\n",
        "decoder_inputs = RepeatVector(input_dim)(encoder)\n",
        "decoder = LSTM(100, return_sequences=True)(decoder_inputs)\n",
        "decoder_outputs = TimeDistributed(Dense(input_dim, activation='tanh'))(decoder)\n",
        "\n",
        "# Autoencoder model\n",
        "autoencoder = Model(inputs=encoder_inputs, outputs=decoder_outputs)\n",
        "\n",
        "autoencoder.compile(optimizer=optimizer, loss='mse')"
      ]
    },
    {
      "cell_type": "code",
      "execution_count": 87,
      "metadata": {},
      "outputs": [
        {
          "name": "stdout",
          "output_type": "stream",
          "text": [
            "Epoch 1/50\n",
            "3/3 [==============================] - 55s 10s/step - loss: 0.0547\n",
            "Epoch 2/50\n",
            "3/3 [==============================] - 14s 5s/step - loss: 0.0527\n",
            "Epoch 3/50\n",
            "3/3 [==============================] - 15s 5s/step - loss: 0.0469\n",
            "Epoch 4/50\n",
            "3/3 [==============================] - 15s 5s/step - loss: 0.0339\n",
            "Epoch 5/50\n",
            "3/3 [==============================] - 15s 5s/step - loss: 0.0252\n",
            "Epoch 6/50\n",
            "3/3 [==============================] - 15s 5s/step - loss: 0.0215\n",
            "Epoch 7/50\n",
            "3/3 [==============================] - 15s 5s/step - loss: 0.0194\n",
            "Epoch 8/50\n",
            "3/3 [==============================] - 15s 5s/step - loss: 0.0198\n",
            "Epoch 9/50\n",
            "3/3 [==============================] - 15s 5s/step - loss: 0.0194\n",
            "Epoch 10/50\n",
            "3/3 [==============================] - 15s 5s/step - loss: 0.0196\n",
            "Epoch 11/50\n",
            "3/3 [==============================] - 15s 5s/step - loss: 0.0192\n",
            "Epoch 12/50\n",
            "3/3 [==============================] - 15s 5s/step - loss: 0.0185\n",
            "Epoch 13/50\n",
            "3/3 [==============================] - 15s 5s/step - loss: 0.0183\n",
            "Epoch 14/50\n",
            "3/3 [==============================] - 15s 5s/step - loss: 0.0184\n",
            "Epoch 15/50\n",
            "3/3 [==============================] - 15s 5s/step - loss: 0.0183\n",
            "Epoch 16/50\n",
            "3/3 [==============================] - 15s 5s/step - loss: 0.0183\n",
            "Epoch 17/50\n",
            "3/3 [==============================] - 15s 5s/step - loss: 0.0182\n",
            "Epoch 18/50\n",
            "3/3 [==============================] - 15s 5s/step - loss: 0.0180\n",
            "Epoch 19/50\n",
            "3/3 [==============================] - 15s 5s/step - loss: 0.0178\n",
            "Epoch 20/50\n",
            "3/3 [==============================] - 15s 5s/step - loss: 0.0176\n",
            "Epoch 21/50\n",
            "3/3 [==============================] - 15s 5s/step - loss: 0.0172\n",
            "Epoch 22/50\n",
            "3/3 [==============================] - 15s 5s/step - loss: 0.0167\n",
            "Epoch 23/50\n",
            "3/3 [==============================] - 15s 5s/step - loss: 0.0162\n",
            "Epoch 24/50\n",
            "3/3 [==============================] - 15s 5s/step - loss: 0.0155\n",
            "Epoch 25/50\n",
            "3/3 [==============================] - 15s 5s/step - loss: 0.0151\n",
            "Epoch 26/50\n",
            "3/3 [==============================] - 15s 5s/step - loss: 0.0149\n",
            "Epoch 27/50\n",
            "3/3 [==============================] - 15s 5s/step - loss: 0.0152\n",
            "Epoch 28/50\n",
            "3/3 [==============================] - 15s 5s/step - loss: 0.0149\n",
            "Epoch 29/50\n",
            "3/3 [==============================] - 15s 5s/step - loss: 0.0143\n",
            "Epoch 30/50\n",
            "3/3 [==============================] - 15s 5s/step - loss: 0.0141\n",
            "Epoch 31/50\n",
            "3/3 [==============================] - 15s 5s/step - loss: 0.0141\n",
            "Epoch 32/50\n",
            "3/3 [==============================] - 15s 5s/step - loss: 0.0140\n",
            "Epoch 33/50\n",
            "3/3 [==============================] - 15s 5s/step - loss: 0.0139\n",
            "Epoch 34/50\n",
            "3/3 [==============================] - 15s 5s/step - loss: 0.0143\n",
            "Epoch 35/50\n",
            "3/3 [==============================] - 15s 5s/step - loss: 0.0137\n",
            "Epoch 36/50\n",
            "3/3 [==============================] - 15s 5s/step - loss: 0.0138\n",
            "Epoch 37/50\n",
            "3/3 [==============================] - 15s 5s/step - loss: 0.0138\n",
            "Epoch 38/50\n",
            "3/3 [==============================] - 15s 5s/step - loss: 0.0138\n",
            "Epoch 39/50\n",
            "3/3 [==============================] - 15s 5s/step - loss: 0.0134\n",
            "Epoch 40/50\n",
            "3/3 [==============================] - 15s 5s/step - loss: 0.0140\n",
            "Epoch 41/50\n",
            "3/3 [==============================] - 16s 5s/step - loss: 0.0158\n",
            "Epoch 42/50\n",
            "3/3 [==============================] - 15s 5s/step - loss: 0.0149\n",
            "Epoch 43/50\n",
            "3/3 [==============================] - 16s 5s/step - loss: 0.0141\n",
            "Epoch 44/50\n",
            "3/3 [==============================] - 15s 5s/step - loss: 0.0145\n",
            "Epoch 45/50\n",
            "3/3 [==============================] - 16s 5s/step - loss: 0.0139\n",
            "Epoch 46/50\n",
            "3/3 [==============================] - 15s 5s/step - loss: 0.0139\n",
            "Epoch 47/50\n",
            "3/3 [==============================] - 16s 5s/step - loss: 0.0145\n",
            "Epoch 48/50\n",
            "3/3 [==============================] - 17s 6s/step - loss: 0.0145\n",
            "Epoch 49/50\n",
            "3/3 [==============================] - 18s 6s/step - loss: 0.0145\n",
            "Epoch 50/50\n",
            "3/3 [==============================] - 18s 6s/step - loss: 0.0140\n"
          ]
        },
        {
          "data": {
            "text/plain": [
              "<keras.src.callbacks.History at 0x12628d3c1f0>"
            ]
          },
          "execution_count": 87,
          "metadata": {},
          "output_type": "execute_result"
        }
      ],
      "source": [
        "autoencoder.fit(input_data, input_data, epochs=50, batch_size=32, shuffle=True)"
      ]
    },
    {
      "cell_type": "code",
      "execution_count": 88,
      "metadata": {},
      "outputs": [
        {
          "name": "stderr",
          "output_type": "stream",
          "text": [
            "c:\\aiprojects\\aienv\\lib\\site-packages\\keras\\src\\engine\\training.py:3103: UserWarning: You are saving your model as an HDF5 file via `model.save()`. This file format is considered legacy. We recommend using instead the native Keras format, e.g. `model.save('my_model.keras')`.\n",
            "  saving_api.save_model(\n"
          ]
        }
      ],
      "source": [
        "autoencoder.save('C:\\\\aiprojects\\\\gbc-projects\\\\DL1_Financial\\\\AASD4010_project\\\\models\\\\autoencoder_2.h5')"
      ]
    },
    {
      "cell_type": "markdown",
      "metadata": {},
      "source": [
        "Clustering"
      ]
    },
    {
      "cell_type": "code",
      "execution_count": 97,
      "metadata": {},
      "outputs": [
        {
          "name": "stdout",
          "output_type": "stream",
          "text": [
            "3/3 [==============================] - 1s 6ms/step\n"
          ]
        },
        {
          "data": {
            "image/png": "[encoded data removed]",
            "text/plain": [
              "<Figure size 640x480 with 1 Axes>"
            ]
          },
          "metadata": {},
          "output_type": "display_data"
        }
      ],
      "source": [
        "encoder = tf.keras.Model(inputs=autoencoder.input, outputs=autoencoder.layers[1].output)\n",
        "embeddings = encoder.predict(input_data)\n",
        "\n",
        "embeddings_reshaped = embeddings.reshape((embeddings.shape[0], -1))\n",
        "\n",
        "cluster_colors = {0: 'red', 1: 'blue', 2: 'green'}\n",
        "# Apply K-means clustering to the embeddings\n",
        "num_clusters = 3\n",
        "kmeans = KMeans(n_init=10, n_clusters=num_clusters, random_state=42)\n",
        "Clusters = kmeans.fit_predict(embeddings_reshaped)\n",
        "\n",
        "scatter = plt.scatter(embeddings_reshaped[:, 0], embeddings_reshaped[:, 0], c=Clusters, cmap='tab10', edgecolors='black')\n",
        "plt.xlabel('Volatility')\n",
        "plt.ylabel('Avg Return')\n",
        "plt.title('Clustering of NASDAQ 100 Stocks using Autoencoder')\n",
        "\n",
        "plt.legend(handles=scatter.legend_elements()[0], labels=cluster_colors.keys())\n",
        "\n",
        "plt.show()\n"
      ]
    },
    {
      "cell_type": "code",
      "execution_count": 90,
      "metadata": {},
      "outputs": [],
      "source": [
        "company_names = nasdaq100_data.columns.levels[0]"
      ]
    },
    {
      "cell_type": "code",
      "execution_count": 91,
      "metadata": {},
      "outputs": [
        {
          "data": {
            "text/plain": [
              "Index(['ABNB', 'CEG', 'DASH', 'GEHC', 'GFS'], dtype='object')"
            ]
          },
          "execution_count": 91,
          "metadata": {},
          "output_type": "execute_result"
        }
      ],
      "source": [
        "empty_columns\n",
        "# Dropped companies ABNB, CEG, DASH, GEHC, GFS"
      ]
    },
    {
      "cell_type": "code",
      "execution_count": 58,
      "metadata": {},
      "outputs": [],
      "source": [
        "companies_to_remove = ['ABNB', 'CEG', 'DASH', 'GEHC', 'GFS']\n",
        "nasdaq100_data.drop(companies_to_remove, axis=1, level=0, inplace=True)\n"
      ]
    },
    {
      "cell_type": "code",
      "execution_count": 102,
      "metadata": {},
      "outputs": [
        {
          "data": {
            "text/plain": [
              "96"
            ]
          },
          "execution_count": 102,
          "metadata": {},
          "output_type": "execute_result"
        }
      ],
      "source": [
        "companies_cleaned = df.columns.difference(empty_columns)\n",
        "len(companies_cleaned)"
      ]
    },
    {
      "cell_type": "code",
      "execution_count": 103,
      "metadata": {},
      "outputs": [
        {
          "data": {
            "text/html": [
              "<div>\n",
              "<style scoped>\n",
              "    .dataframe tbody tr th:only-of-type {\n",
              "        vertical-align: middle;\n",
              "    }\n",
              "\n",
              "    .dataframe tbody tr th {\n",
              "        vertical-align: top;\n",
              "    }\n",
              "\n",
              "    .dataframe thead th {\n",
              "        text-align: right;\n",
              "    }\n",
              "</style>\n",
              "<table border=\"1\" class=\"dataframe\">\n",
              "  <thead>\n",
              "    <tr style=\"text-align: right;\">\n",
              "      <th></th>\n",
              "      <th>Cluster</th>\n",
              "    </tr>\n",
              "  </thead>\n",
              "  <tbody>\n",
              "    <tr>\n",
              "      <th>AAPL</th>\n",
              "      <td>1</td>\n",
              "    </tr>\n",
              "    <tr>\n",
              "      <th>ADBE</th>\n",
              "      <td>1</td>\n",
              "    </tr>\n",
              "    <tr>\n",
              "      <th>ADI</th>\n",
              "      <td>1</td>\n",
              "    </tr>\n",
              "    <tr>\n",
              "      <th>ADP</th>\n",
              "      <td>0</td>\n",
              "    </tr>\n",
              "    <tr>\n",
              "      <th>ADSK</th>\n",
              "      <td>0</td>\n",
              "    </tr>\n",
              "    <tr>\n",
              "      <th>...</th>\n",
              "      <td>...</td>\n",
              "    </tr>\n",
              "    <tr>\n",
              "      <th>WBA</th>\n",
              "      <td>0</td>\n",
              "    </tr>\n",
              "    <tr>\n",
              "      <th>WBD</th>\n",
              "      <td>0</td>\n",
              "    </tr>\n",
              "    <tr>\n",
              "      <th>WDAY</th>\n",
              "      <td>0</td>\n",
              "    </tr>\n",
              "    <tr>\n",
              "      <th>XEL</th>\n",
              "      <td>0</td>\n",
              "    </tr>\n",
              "    <tr>\n",
              "      <th>ZS</th>\n",
              "      <td>0</td>\n",
              "    </tr>\n",
              "  </tbody>\n",
              "</table>\n",
              "<p>96 rows × 1 columns</p>\n",
              "</div>"
            ],
            "text/plain": [
              "      Cluster\n",
              "AAPL        1\n",
              "ADBE        1\n",
              "ADI         1\n",
              "ADP         0\n",
              "ADSK        0\n",
              "...       ...\n",
              "WBA         0\n",
              "WBD         0\n",
              "WDAY        0\n",
              "XEL         0\n",
              "ZS          0\n",
              "\n",
              "[96 rows x 1 columns]"
            ]
          },
          "execution_count": 103,
          "metadata": {},
          "output_type": "execute_result"
        }
      ],
      "source": [
        "Clusters = pd.DataFrame(Clusters, columns=['Cluster'])\n",
        "Clusters.set_index(companies_cleaned, inplace=True)\n",
        "Clusters"
      ]
    },
    {
      "cell_type": "code",
      "execution_count": 104,
      "metadata": {},
      "outputs": [
        {
          "name": "stdout",
          "output_type": "stream",
          "text": [
            "['ADP', 'ADSK', 'AEP', 'BIIB', 'BKNG', 'BKR', 'CCEP', 'CMCSA', 'COST', 'CTSH', 'FTNT', 'KLAC', 'LRCX', 'MCHP', 'MRVL', 'PDD', 'ROP', 'ROST', 'TMUS', 'TXN', 'VRSK', 'VRTX', 'WBA', 'WBD', 'WDAY', 'XEL', 'ZS']\n",
            "['AAPL', 'ADBE', 'ADI', 'AMAT', 'AMD', 'AMGN', 'AMZN', 'ANSS', 'ASML', 'AVGO', 'AZN', 'CDNS', 'CDW', 'CHTR', 'CPRT', 'CRWD', 'CSCO', 'CSGP', 'CSX', 'CTAS', 'DDOG', 'DLTR', 'EA', 'EXC', 'FANG', 'FAST', 'GILD', 'GOOGL', 'HON', 'IDXX', 'ILMN', 'INTC', 'INTU', 'ISRG', 'KHC', 'LULU', 'MAR', 'MDB', 'MDLZ', 'MELI', 'META', 'MRNA', 'NXPI', 'ODFL', 'PANW', 'PAYX', 'PCAR', 'PEP', 'PYPL', 'QCOM', 'REGN', 'SBUX', 'SIRI', 'SNPS', 'SPLK', 'TEAM', 'TSLA', 'TTD']\n",
            "['DXCM', 'GOOG', 'KDP', 'MNST', 'MSFT', 'MU', 'NFLX', 'NVDA', 'ON', 'ORLY', 'TTWO']\n"
          ]
        }
      ],
      "source": [
        "Cluster_0 = [] # High Risk\n",
        "Cluster_1 = [] # Medium Risk\n",
        "Cluster_2 = [] # Low Risk\n",
        "\n",
        "for i in range(len(Clusters)):\n",
        "    if Clusters.iloc[i, 0] == 0:\n",
        "        Cluster_0.append(Clusters.index[i])\n",
        "    elif Clusters.iloc[i, 0] == 1:\n",
        "        Cluster_1.append(Clusters.index[i])\n",
        "    else:\n",
        "        Cluster_2.append(Clusters.index[i])\n",
        "\n",
        "print(Cluster_0)\n",
        "print(Cluster_1)\n",
        "print(Cluster_2)"
      ]
    },
    {
      "cell_type": "code",
      "execution_count": 105,
      "metadata": {},
      "outputs": [
        {
          "name": "stdout",
          "output_type": "stream",
          "text": [
            "Medium Risk\n"
          ]
        }
      ],
      "source": [
        "select_company = 'AAPL'\n",
        "if select_company in Cluster_0:\n",
        "    print('High Risk')\n",
        "elif select_company in Cluster_1:\n",
        "    print('Medium Risk')\n",
        "elif select_company in Cluster_2:\n",
        "    print('Low Risk')\n",
        "else:\n",
        "    print('Company not found')"
      ]
    },
    {
      "cell_type": "markdown",
      "metadata": {},
      "source": [
        "Average Return - Clustering"
      ]
    },
    {
      "cell_type": "code",
      "execution_count": 110,
      "metadata": {},
      "outputs": [
        {
          "name": "stdout",
          "output_type": "stream",
          "text": [
            "(101, 1, 2769)\n",
            "Epoch 1/50\n",
            "4/4 [==============================] - 26s 5s/step - loss: 0.3042\n",
            "Epoch 2/50\n",
            "4/4 [==============================] - 20s 5s/step - loss: 0.2817\n",
            "Epoch 3/50\n",
            "4/4 [==============================] - 19s 5s/step - loss: 0.1981\n",
            "Epoch 4/50\n",
            "4/4 [==============================] - 19s 5s/step - loss: 0.0483\n",
            "Epoch 5/50\n",
            "4/4 [==============================] - 20s 5s/step - loss: 0.0199\n",
            "Epoch 6/50\n",
            "4/4 [==============================] - 20s 5s/step - loss: 0.0270\n",
            "Epoch 7/50\n",
            "4/4 [==============================] - 21s 5s/step - loss: 0.0171\n",
            "Epoch 8/50\n",
            "4/4 [==============================] - 20s 5s/step - loss: 0.0087\n",
            "Epoch 9/50\n",
            "4/4 [==============================] - 21s 5s/step - loss: 0.0095\n",
            "Epoch 10/50\n",
            "4/4 [==============================] - 21s 5s/step - loss: 0.0104\n",
            "Epoch 11/50\n",
            "4/4 [==============================] - 21s 5s/step - loss: 0.0084\n",
            "Epoch 12/50\n",
            "4/4 [==============================] - 20s 5s/step - loss: 0.0068\n",
            "Epoch 13/50\n",
            "4/4 [==============================] - 21s 5s/step - loss: 0.0073\n",
            "Epoch 14/50\n",
            "4/4 [==============================] - 21s 5s/step - loss: 0.0075\n",
            "Epoch 15/50\n",
            "4/4 [==============================] - 21s 5s/step - loss: 0.0070\n",
            "Epoch 16/50\n",
            "4/4 [==============================] - 20s 5s/step - loss: 0.0067\n",
            "Epoch 17/50\n",
            "4/4 [==============================] - 21s 5s/step - loss: 0.0068\n",
            "Epoch 18/50\n",
            "4/4 [==============================] - 21s 5s/step - loss: 0.0067\n",
            "Epoch 19/50\n",
            "4/4 [==============================] - 20s 5s/step - loss: 0.0067\n",
            "Epoch 20/50\n",
            "4/4 [==============================] - 21s 5s/step - loss: 0.0067\n",
            "Epoch 21/50\n",
            "4/4 [==============================] - 20s 5s/step - loss: 0.0067\n",
            "Epoch 22/50\n",
            "4/4 [==============================] - 20s 5s/step - loss: 0.0067\n",
            "Epoch 23/50\n",
            "4/4 [==============================] - 21s 5s/step - loss: 0.0067\n",
            "Epoch 24/50\n",
            "4/4 [==============================] - 20s 5s/step - loss: 0.0067\n",
            "Epoch 25/50\n",
            "4/4 [==============================] - 20s 5s/step - loss: 0.0067\n",
            "Epoch 26/50\n",
            "4/4 [==============================] - 21s 5s/step - loss: 0.0067\n",
            "Epoch 27/50\n",
            "4/4 [==============================] - 22s 5s/step - loss: 0.0067\n",
            "Epoch 28/50\n",
            "4/4 [==============================] - 21s 5s/step - loss: 0.0067\n",
            "Epoch 29/50\n",
            "4/4 [==============================] - 21s 5s/step - loss: 0.0067\n",
            "Epoch 30/50\n",
            "4/4 [==============================] - 21s 5s/step - loss: 0.0067\n",
            "Epoch 31/50\n",
            "4/4 [==============================] - 22s 5s/step - loss: 0.0067\n",
            "Epoch 32/50\n",
            "4/4 [==============================] - 21s 5s/step - loss: 0.0067\n",
            "Epoch 33/50\n",
            "4/4 [==============================] - 21s 5s/step - loss: 0.0067\n",
            "Epoch 34/50\n",
            "4/4 [==============================] - 21s 5s/step - loss: 0.0066\n",
            "Epoch 35/50\n",
            "4/4 [==============================] - 21s 5s/step - loss: 0.0066\n",
            "Epoch 36/50\n",
            "4/4 [==============================] - 22s 5s/step - loss: 0.0067\n",
            "Epoch 37/50\n",
            "4/4 [==============================] - 21s 5s/step - loss: 0.0067\n",
            "Epoch 38/50\n",
            "4/4 [==============================] - 21s 5s/step - loss: 0.0067\n",
            "Epoch 39/50\n",
            "4/4 [==============================] - 22s 5s/step - loss: 0.0067\n",
            "Epoch 40/50\n",
            "4/4 [==============================] - 21s 5s/step - loss: 0.0070\n",
            "Epoch 41/50\n",
            "4/4 [==============================] - 21s 5s/step - loss: 0.0069\n",
            "Epoch 42/50\n",
            "4/4 [==============================] - 21s 5s/step - loss: 0.0067\n",
            "Epoch 43/50\n",
            "4/4 [==============================] - 21s 5s/step - loss: 0.0067\n",
            "Epoch 44/50\n",
            "4/4 [==============================] - 21s 5s/step - loss: 0.0067\n",
            "Epoch 45/50\n",
            "4/4 [==============================] - 22s 5s/step - loss: 0.0067\n",
            "Epoch 46/50\n",
            "4/4 [==============================] - 23s 5s/step - loss: 0.0067\n",
            "Epoch 47/50\n",
            "4/4 [==============================] - 23s 5s/step - loss: 0.0067\n",
            "Epoch 48/50\n",
            "4/4 [==============================] - 23s 5s/step - loss: 0.0067\n",
            "Epoch 49/50\n",
            "4/4 [==============================] - 22s 5s/step - loss: 0.0067\n",
            "Epoch 50/50\n",
            "4/4 [==============================] - 23s 5s/step - loss: 0.0066\n"
          ]
        },
        {
          "name": "stderr",
          "output_type": "stream",
          "text": [
            "c:\\aiprojects\\aienv\\lib\\site-packages\\keras\\src\\engine\\training.py:3103: UserWarning: You are saving your model as an HDF5 file via `model.save()`. This file format is considered legacy. We recommend using instead the native Keras format, e.g. `model.save('my_model.keras')`.\n",
            "  saving_api.save_model(\n"
          ]
        }
      ],
      "source": [
        "# Getting only 'Adj Close' column for each company\n",
        "\n",
        "df = pd.DataFrame()\n",
        "\n",
        "# Loop through each company\n",
        "for company in nasdaq100_data.columns.levels[0]:\n",
        "    company_data = nasdaq100_data[company]\n",
        "\n",
        "    # Calculate daily returns, volatility, and average return for each company\n",
        "    daily_returns = company_data['Adj Close'].pct_change()\n",
        "    volatility = daily_returns.rolling(window=20).std()\n",
        "    # average_return = daily_returns.rolling(window=20).mean()\n",
        "\n",
        "    company_features = pd.DataFrame({\n",
        "        # f'{company}': volatility,\n",
        "        f'{company}': average_return\n",
        "    })\n",
        "\n",
        "    df = pd.concat([df, company_features], axis=1)\n",
        "\n",
        "df = df['2010':'2020']\n",
        "\n",
        "# ------------------------------------------------------------------\n",
        "\n",
        "df_cleaned, empty_columns = clean_data(df)\n",
        "\n",
        "# ---------------------------------------------------------------------\n",
        "\n",
        "df_scaled = scale_data(df_cleaned)\n",
        "\n",
        "# --------------------------------------------------------------\n",
        "\n",
        "# Autoencoder architecture - Without PCT\n",
        "input_dim = df_scaled.shape[0] # The number of columns in the training data which is 192\n",
        "encoding_dim = 2  # Set the desired dimensionality of the embeddings\n",
        "\n",
        "# Reshape the input data\n",
        "input_data = df_scaled.reshape(df_scaled.shape[1], 1, df_scaled.shape[0])\n",
        "\n",
        "# Print the shape of the reshaped data\n",
        "print(input_data.shape)\n",
        "\n",
        "# ----------------------------------------------------------------\n",
        "optimizer = tf.keras.optimizers.Adam(learning_rate=0.001)\n",
        "\n",
        "# Encoder\n",
        "encoder_inputs = Input(shape=(None, input_dim))\n",
        "encoder = LSTM(100, return_sequences=True)(encoder_inputs)\n",
        "encoder = LSTM(encoding_dim)(encoder)\n",
        "\n",
        "# Decoder\n",
        "decoder_inputs = RepeatVector(input_dim)(encoder)\n",
        "decoder = LSTM(100, return_sequences=True)(decoder_inputs)\n",
        "decoder_outputs = TimeDistributed(Dense(input_dim, activation='tanh'))(decoder)\n",
        "\n",
        "# Autoencoder model\n",
        "autoencoder = Model(inputs=encoder_inputs, outputs=decoder_outputs)\n",
        "\n",
        "autoencoder.compile(optimizer=optimizer, loss='mse')\n",
        "\n",
        "# -----------------------------------------------------------------\n",
        "\n",
        "autoencoder.fit(input_data, input_data, epochs=50, batch_size=32, shuffle=True)\n",
        "autoencoder.save('C:\\\\aiprojects\\\\gbc-projects\\\\DL1_Financial\\\\AASD4010_project\\\\models\\\\autoencoder_2_2.h5')\n",
        "# ------------------------------------------------------------------\n",
        "\n"
      ]
    },
    {
      "cell_type": "code",
      "execution_count": 111,
      "metadata": {},
      "outputs": [
        {
          "name": "stdout",
          "output_type": "stream",
          "text": [
            "4/4 [==============================] - 1s 8ms/step\n"
          ]
        },
        {
          "data": {
            "image/png": "[encoded data removed]",
            "text/plain": [
              "<Figure size 640x480 with 1 Axes>"
            ]
          },
          "metadata": {},
          "output_type": "display_data"
        }
      ],
      "source": [
        "encoder = tf.keras.Model(inputs=autoencoder.input, outputs=autoencoder.layers[1].output)\n",
        "embeddings = encoder.predict(input_data)\n",
        "\n",
        "embeddings_reshaped = embeddings.reshape((embeddings.shape[0], -1))\n",
        "\n",
        "cluster_colors = {0: 'red', 1: 'blue', 2: 'green'}\n",
        "# Apply K-means clustering to the embeddings\n",
        "num_clusters = 3\n",
        "kmeans = KMeans(n_init=10, n_clusters=num_clusters, random_state=42)\n",
        "Clusters = kmeans.fit_predict(embeddings_reshaped)\n",
        "\n",
        "scatter = plt.scatter(embeddings_reshaped[:, 0], embeddings_reshaped[:, 0], c=Clusters, cmap='tab10', edgecolors='black')\n",
        "plt.xlabel('Avg Return')\n",
        "plt.ylabel('Avg Return')\n",
        "plt.title('Clustering of NASDAQ 100 Stocks using Autoencoder')\n",
        "\n",
        "plt.legend(handles=scatter.legend_elements()[0], labels=cluster_colors.keys())\n",
        "\n",
        "plt.show()\n",
        "\n",
        "# --------------------------------------------\n"
      ]
    },
    {
      "cell_type": "code",
      "execution_count": 112,
      "metadata": {},
      "outputs": [
        {
          "name": "stdout",
          "output_type": "stream",
          "text": [
            "['AAPL', 'ABNB', 'ADBE', 'ADI', 'ADP', 'ADSK', 'AEP', 'AMAT', 'AMD', 'AMGN', 'AMZN', 'ANSS', 'ASML', 'AVGO', 'AZN', 'BIIB', 'BKNG', 'BKR', 'CCEP', 'CDNS', 'CDW', 'CEG', 'CHTR', 'CMCSA', 'COST', 'CPRT', 'CRWD', 'CSCO', 'CSGP', 'CSX', 'CTAS', 'CTSH', 'DASH', 'DDOG', 'DLTR', 'DXCM', 'EA', 'EXC', 'FANG', 'FAST', 'FTNT', 'GEHC', 'GFS', 'GILD', 'GOOG', 'GOOGL', 'HON', 'IDXX', 'ILMN', 'INTC', 'INTU', 'ISRG', 'KDP', 'KHC', 'KLAC', 'LRCX', 'LULU', 'MAR', 'MCHP', 'MDB', 'MDLZ', 'MELI', 'META', 'MNST', 'MRNA', 'MRVL', 'MSFT', 'MU', 'NFLX', 'NVDA', 'NXPI', 'ODFL', 'ON', 'ORLY', 'PANW', 'PAYX', 'PCAR', 'PDD', 'PEP', 'PYPL', 'REGN', 'ROP', 'ROST', 'SBUX', 'SIRI', 'SNPS', 'SPLK', 'TSLA', 'TTD', 'TTWO', 'VRSK', 'VRTX', 'WBA', 'WBD', 'WDAY', 'XEL', 'ZS']\n",
            "['TMUS']\n",
            "['QCOM', 'TEAM', 'TXN']\n",
            "Low Return\n"
          ]
        }
      ],
      "source": [
        "companies_cleaned = df.columns.difference(empty_columns)\n",
        "\n",
        "# ----------------------------------------------\n",
        "\n",
        "Clusters = pd.DataFrame(Clusters, columns=['Cluster'])\n",
        "Clusters.set_index(companies_cleaned, inplace=True)\n",
        "Clusters\n",
        "\n",
        "# -----------------------------------------------------------------\n",
        "\n",
        "Cluster_0_2 = [] # Low Return\n",
        "Cluster_1_2 = [] # Medium Return\n",
        "Cluster_2_2 = [] # High Return\n",
        "\n",
        "for i in range(len(Clusters)):\n",
        "    if Clusters.iloc[i, 0] == 0:\n",
        "        Cluster_0_2.append(Clusters.index[i])\n",
        "    elif Clusters.iloc[i, 0] == 1:\n",
        "        Cluster_1_2.append(Clusters.index[i])\n",
        "    else:\n",
        "        Cluster_2_2.append(Clusters.index[i])\n",
        "\n",
        "print(Cluster_0_2)\n",
        "print(Cluster_1_2)\n",
        "print(Cluster_2_2)\n",
        "\n",
        "# --------------------------------------------------------------------\n",
        "\n",
        "select_company = 'AAPL'\n",
        "if select_company in Cluster_0_2:\n",
        "    print('Low Return')\n",
        "elif select_company in Cluster_1_2:\n",
        "    print('Medium Return')\n",
        "elif select_company in Cluster_2_2:\n",
        "    print('High Return')\n",
        "else:\n",
        "    print('Company not found')"
      ]
    },
    {
      "cell_type": "markdown",
      "metadata": {},
      "source": [
        "Combine Result"
      ]
    },
    {
      "cell_type": "code",
      "execution_count": 117,
      "metadata": {},
      "outputs": [
        {
          "name": "stdout",
          "output_type": "stream",
          "text": [
            "Company Name:  AVGO\n",
            "Medium Risk\n",
            "Low Return\n"
          ]
        }
      ],
      "source": [
        "select_company = 'AVGO'\n",
        "\n",
        "print(\"Company Name: \", select_company)\n",
        "\n",
        "if select_company in Cluster_0:\n",
        "    print('High Risk')\n",
        "elif select_company in Cluster_1:\n",
        "    print('Medium Risk')\n",
        "elif select_company in Cluster_2:\n",
        "    print('Low Risk')\n",
        "else:\n",
        "    print('Company not found')\n",
        "\n",
        "if select_company in Cluster_0_2:\n",
        "    print('Low Return')\n",
        "elif select_company in Cluster_1_2:\n",
        "    print('Medium Return')\n",
        "elif select_company in Cluster_2_2:\n",
        "    print('High Return')\n",
        "else:\n",
        "    print('Company not found')"
      ]
    }
  ],
  "metadata": {
    "colab": {
      "provenance": []
    },
    "kernelspec": {
      "display_name": "Python 3",
      "name": "python3"
    },
    "language_info": {
      "codemirror_mode": {
        "name": "ipython",
        "version": 3
      },
      "file_extension": ".py",
      "mimetype": "text/x-python",
      "name": "python",
      "nbconvert_exporter": "python",
      "pygments_lexer": "ipython3",
      "version": "3.10.0"
    }
  },
  "nbformat": 4,
  "nbformat_minor": 0
}
