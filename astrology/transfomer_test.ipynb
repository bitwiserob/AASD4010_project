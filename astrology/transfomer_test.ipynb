{
 "cells": [
  {
   "cell_type": "code",
   "execution_count": 1,
   "metadata": {},
   "outputs": [],
   "source": [
    "import pandas as pd\n",
    "import numpy as np\n",
    "import yfinance as yf\n",
    "\n"
   ]
  },
  {
   "cell_type": "code",
   "execution_count": 3,
   "metadata": {},
   "outputs": [
    {
     "name": "stderr",
     "output_type": "stream",
     "text": [
      "[*********************100%%**********************]  1 of 1 completed\n"
     ]
    }
   ],
   "source": [
    "ticker = \"AAPL\"\n",
    "start_date = \"2020-01-01\"\n",
    "end_date =\"2022-01-01\"\n",
    "\n",
    "\n",
    "stock_data = yf.download(ticker, start=start_date, end=end_date)\n",
    "\n",
    "\n"
   ]
  },
  {
   "cell_type": "code",
   "execution_count": 4,
   "metadata": {},
   "outputs": [],
   "source": [
    "stock_data.to_pickle('test.pkl')\n"
   ]
  },
  {
   "cell_type": "code",
   "execution_count": 5,
   "metadata": {},
   "outputs": [
    {
     "name": "stdout",
     "output_type": "stream",
     "text": [
      "<class 'pandas.core.frame.DataFrame'>\n",
      "DatetimeIndex: 505 entries, 2020-01-02 to 2021-12-31\n",
      "Data columns (total 6 columns):\n",
      " #   Column     Non-Null Count  Dtype  \n",
      "---  ------     --------------  -----  \n",
      " 0   Open       505 non-null    float64\n",
      " 1   High       505 non-null    float64\n",
      " 2   Low        505 non-null    float64\n",
      " 3   Close      505 non-null    float64\n",
      " 4   Adj Close  505 non-null    float64\n",
      " 5   Volume     505 non-null    int64  \n",
      "dtypes: float64(5), int64(1)\n",
      "memory usage: 27.6 KB\n",
      "None\n"
     ]
    }
   ],
   "source": [
    "print(stock_data.info())"
   ]
  },
  {
   "cell_type": "code",
   "execution_count": 6,
   "metadata": {},
   "outputs": [
    {
     "name": "stdout",
     "output_type": "stream",
     "text": [
      "Open         0\n",
      "High         0\n",
      "Low          0\n",
      "Close        0\n",
      "Adj Close    0\n",
      "Volume       0\n",
      "dtype: int64\n"
     ]
    }
   ],
   "source": [
    "print(stock_data.isnull().sum())\n",
    "\n",
    "stock_data['Daily_return']\n",
    "\n"
   ]
  },
  {
   "cell_type": "code",
   "execution_count": 7,
   "metadata": {},
   "outputs": [],
   "source": [
    "# Calculate daily returns\n",
    "stock_data['Daily_Return'] = stock_data['Adj Close'].pct_change()\n",
    "\n",
    "# Add moving averages\n",
    "stock_data['MA_50'] = stock_data['Adj Close'].rolling(window=50).mean()\n",
    "stock_data['MA_200'] = stock_data['Adj Close'].rolling(window=200).mean()"
   ]
  },
  {
   "cell_type": "code",
   "execution_count": 8,
   "metadata": {},
   "outputs": [],
   "source": [
    "# Select relevant features\n",
    "features = ['Open', 'High', 'Low', 'Close', 'Volume', 'Daily_Return', 'MA_50', 'MA_200']\n",
    "input_data = stock_data[features]\n",
    "\n",
    "# Normalize data if needed (optional)\n",
    "normalized_data = (input_data - input_data.mean()) / input_data.std()\n",
    "\n",
    "# Define sequence length (e.g., 30 days)\n",
    "sequence_length = 30\n",
    "\n",
    "# Create input sequences\n",
    "X = []\n",
    "y = []\n",
    "\n",
    "for i in range(len(normalized_data) - sequence_length):\n",
    "    X.append(normalized_data.iloc[i:i + sequence_length].values)\n",
    "    y.append(normalized_data.iloc[i + sequence_length]['Close'])\n",
    "\n",
    "X = np.array(X)\n",
    "y = np.array(y)\n",
    "\n",
    "split_ratio = 0.8\n",
    "split_index = int(len(X) * split_ratio)\n",
    "\n",
    "X_train, X_test = X[:split_index], X[split_index:]\n",
    "y_train, y_test = y[:split_index], y[split_index:]\n"
   ]
  },
  {
   "cell_type": "code",
   "execution_count": 15,
   "metadata": {},
   "outputs": [
    {
     "name": "stdout",
     "output_type": "stream",
     "text": [
      "Epoch 1/50\n"
     ]
    },
    {
     "ename": "InvalidArgumentError",
     "evalue": "Graph execution error:\n\nDetected at node gradient_tape/mean_squared_error/BroadcastGradientArgs defined at (most recent call last):\n  File \"C:\\Users\\Rober\\.pyenv\\pyenv-win\\versions\\3.10.11\\lib\\runpy.py\", line 196, in _run_module_as_main\n\n  File \"C:\\Users\\Rober\\.pyenv\\pyenv-win\\versions\\3.10.11\\lib\\runpy.py\", line 86, in _run_code\n\n  File \"c:\\Users\\Rober\\.virtualenvs\\AASD4010-XSwstjEU\\lib\\site-packages\\ipykernel_launcher.py\", line 17, in <module>\n\n  File \"c:\\Users\\Rober\\.virtualenvs\\AASD4010-XSwstjEU\\lib\\site-packages\\traitlets\\config\\application.py\", line 1075, in launch_instance\n\n  File \"c:\\Users\\Rober\\.virtualenvs\\AASD4010-XSwstjEU\\lib\\site-packages\\ipykernel\\kernelapp.py\", line 701, in start\n\n  File \"c:\\Users\\Rober\\.virtualenvs\\AASD4010-XSwstjEU\\lib\\site-packages\\tornado\\platform\\asyncio.py\", line 205, in start\n\n  File \"C:\\Users\\Rober\\.pyenv\\pyenv-win\\versions\\3.10.11\\lib\\asyncio\\windows_events.py\", line 321, in run_forever\n\n  File \"C:\\Users\\Rober\\.pyenv\\pyenv-win\\versions\\3.10.11\\lib\\asyncio\\base_events.py\", line 603, in run_forever\n\n  File \"C:\\Users\\Rober\\.pyenv\\pyenv-win\\versions\\3.10.11\\lib\\asyncio\\base_events.py\", line 1909, in _run_once\n\n  File \"C:\\Users\\Rober\\.pyenv\\pyenv-win\\versions\\3.10.11\\lib\\asyncio\\events.py\", line 80, in _run\n\n  File \"c:\\Users\\Rober\\.virtualenvs\\AASD4010-XSwstjEU\\lib\\site-packages\\ipykernel\\kernelbase.py\", line 534, in dispatch_queue\n\n  File \"c:\\Users\\Rober\\.virtualenvs\\AASD4010-XSwstjEU\\lib\\site-packages\\ipykernel\\kernelbase.py\", line 523, in process_one\n\n  File \"c:\\Users\\Rober\\.virtualenvs\\AASD4010-XSwstjEU\\lib\\site-packages\\ipykernel\\kernelbase.py\", line 429, in dispatch_shell\n\n  File \"c:\\Users\\Rober\\.virtualenvs\\AASD4010-XSwstjEU\\lib\\site-packages\\ipykernel\\kernelbase.py\", line 767, in execute_request\n\n  File \"c:\\Users\\Rober\\.virtualenvs\\AASD4010-XSwstjEU\\lib\\site-packages\\ipykernel\\ipkernel.py\", line 429, in do_execute\n\n  File \"c:\\Users\\Rober\\.virtualenvs\\AASD4010-XSwstjEU\\lib\\site-packages\\ipykernel\\zmqshell.py\", line 549, in run_cell\n\n  File \"c:\\Users\\Rober\\.virtualenvs\\AASD4010-XSwstjEU\\lib\\site-packages\\IPython\\core\\interactiveshell.py\", line 3051, in run_cell\n\n  File \"c:\\Users\\Rober\\.virtualenvs\\AASD4010-XSwstjEU\\lib\\site-packages\\IPython\\core\\interactiveshell.py\", line 3106, in _run_cell\n\n  File \"c:\\Users\\Rober\\.virtualenvs\\AASD4010-XSwstjEU\\lib\\site-packages\\IPython\\core\\async_helpers.py\", line 129, in _pseudo_sync_runner\n\n  File \"c:\\Users\\Rober\\.virtualenvs\\AASD4010-XSwstjEU\\lib\\site-packages\\IPython\\core\\interactiveshell.py\", line 3311, in run_cell_async\n\n  File \"c:\\Users\\Rober\\.virtualenvs\\AASD4010-XSwstjEU\\lib\\site-packages\\IPython\\core\\interactiveshell.py\", line 3493, in run_ast_nodes\n\n  File \"c:\\Users\\Rober\\.virtualenvs\\AASD4010-XSwstjEU\\lib\\site-packages\\IPython\\core\\interactiveshell.py\", line 3553, in run_code\n\n  File \"C:\\Users\\Rober\\AppData\\Local\\Temp\\ipykernel_12248\\3938669672.py\", line 76, in <module>\n\n  File \"c:\\Users\\Rober\\.virtualenvs\\AASD4010-XSwstjEU\\lib\\site-packages\\keras\\src\\utils\\traceback_utils.py\", line 65, in error_handler\n\n  File \"c:\\Users\\Rober\\.virtualenvs\\AASD4010-XSwstjEU\\lib\\site-packages\\keras\\src\\engine\\training.py\", line 1807, in fit\n\n  File \"c:\\Users\\Rober\\.virtualenvs\\AASD4010-XSwstjEU\\lib\\site-packages\\keras\\src\\engine\\training.py\", line 1401, in train_function\n\n  File \"c:\\Users\\Rober\\.virtualenvs\\AASD4010-XSwstjEU\\lib\\site-packages\\keras\\src\\engine\\training.py\", line 1384, in step_function\n\n  File \"c:\\Users\\Rober\\.virtualenvs\\AASD4010-XSwstjEU\\lib\\site-packages\\keras\\src\\engine\\training.py\", line 1373, in run_step\n\n  File \"c:\\Users\\Rober\\.virtualenvs\\AASD4010-XSwstjEU\\lib\\site-packages\\keras\\src\\engine\\training.py\", line 1154, in train_step\n\n  File \"c:\\Users\\Rober\\.virtualenvs\\AASD4010-XSwstjEU\\lib\\site-packages\\keras\\src\\optimizers\\optimizer.py\", line 543, in minimize\n\n  File \"c:\\Users\\Rober\\.virtualenvs\\AASD4010-XSwstjEU\\lib\\site-packages\\keras\\src\\optimizers\\optimizer.py\", line 276, in compute_gradients\n\nIncompatible shapes: [32,30,8] vs. [32]\n\t [[{{node gradient_tape/mean_squared_error/BroadcastGradientArgs}}]] [Op:__inference_train_function_6289]",
     "output_type": "error",
     "traceback": [
      "\u001b[1;31m---------------------------------------------------------------------------\u001b[0m",
      "\u001b[1;31mInvalidArgumentError\u001b[0m                      Traceback (most recent call last)",
      "Cell \u001b[1;32mIn[15], line 76\u001b[0m\n\u001b[0;32m     73\u001b[0m model\u001b[38;5;241m.\u001b[39mcompile(optimizer\u001b[38;5;241m=\u001b[39mkeras\u001b[38;5;241m.\u001b[39moptimizers\u001b[38;5;241m.\u001b[39mAdam(learning_rate\u001b[38;5;241m=\u001b[39m\u001b[38;5;241m0.001\u001b[39m), loss\u001b[38;5;241m=\u001b[39m\u001b[38;5;124m\"\u001b[39m\u001b[38;5;124mmse\u001b[39m\u001b[38;5;124m\"\u001b[39m)\n\u001b[0;32m     75\u001b[0m \u001b[38;5;66;03m# Train the model\u001b[39;00m\n\u001b[1;32m---> 76\u001b[0m \u001b[43mmodel\u001b[49m\u001b[38;5;241;43m.\u001b[39;49m\u001b[43mfit\u001b[49m\u001b[43m(\u001b[49m\u001b[43mX_train\u001b[49m\u001b[43m,\u001b[49m\u001b[43m \u001b[49m\u001b[43my_train\u001b[49m\u001b[43m,\u001b[49m\u001b[43m \u001b[49m\u001b[43mepochs\u001b[49m\u001b[38;5;241;43m=\u001b[39;49m\u001b[38;5;241;43m50\u001b[39;49m\u001b[43m,\u001b[49m\u001b[43m \u001b[49m\u001b[43mbatch_size\u001b[49m\u001b[38;5;241;43m=\u001b[39;49m\u001b[38;5;241;43m32\u001b[39;49m\u001b[43m,\u001b[49m\u001b[43m \u001b[49m\u001b[43mvalidation_split\u001b[49m\u001b[38;5;241;43m=\u001b[39;49m\u001b[38;5;241;43m0.2\u001b[39;49m\u001b[43m)\u001b[49m\n\u001b[0;32m     78\u001b[0m \u001b[38;5;66;03m# Make predictions\u001b[39;00m\n\u001b[0;32m     79\u001b[0m predictions \u001b[38;5;241m=\u001b[39m model\u001b[38;5;241m.\u001b[39mpredict(X_test)\n",
      "File \u001b[1;32mc:\\Users\\Rober\\.virtualenvs\\AASD4010-XSwstjEU\\lib\\site-packages\\keras\\src\\utils\\traceback_utils.py:70\u001b[0m, in \u001b[0;36mfilter_traceback.<locals>.error_handler\u001b[1;34m(*args, **kwargs)\u001b[0m\n\u001b[0;32m     67\u001b[0m     filtered_tb \u001b[38;5;241m=\u001b[39m _process_traceback_frames(e\u001b[38;5;241m.\u001b[39m__traceback__)\n\u001b[0;32m     68\u001b[0m     \u001b[38;5;66;03m# To get the full stack trace, call:\u001b[39;00m\n\u001b[0;32m     69\u001b[0m     \u001b[38;5;66;03m# `tf.debugging.disable_traceback_filtering()`\u001b[39;00m\n\u001b[1;32m---> 70\u001b[0m     \u001b[38;5;28;01mraise\u001b[39;00m e\u001b[38;5;241m.\u001b[39mwith_traceback(filtered_tb) \u001b[38;5;28;01mfrom\u001b[39;00m \u001b[38;5;28;01mNone\u001b[39;00m\n\u001b[0;32m     71\u001b[0m \u001b[38;5;28;01mfinally\u001b[39;00m:\n\u001b[0;32m     72\u001b[0m     \u001b[38;5;28;01mdel\u001b[39;00m filtered_tb\n",
      "File \u001b[1;32mc:\\Users\\Rober\\.virtualenvs\\AASD4010-XSwstjEU\\lib\\site-packages\\tensorflow\\python\\eager\\execute.py:53\u001b[0m, in \u001b[0;36mquick_execute\u001b[1;34m(op_name, num_outputs, inputs, attrs, ctx, name)\u001b[0m\n\u001b[0;32m     51\u001b[0m \u001b[38;5;28;01mtry\u001b[39;00m:\n\u001b[0;32m     52\u001b[0m   ctx\u001b[38;5;241m.\u001b[39mensure_initialized()\n\u001b[1;32m---> 53\u001b[0m   tensors \u001b[38;5;241m=\u001b[39m pywrap_tfe\u001b[38;5;241m.\u001b[39mTFE_Py_Execute(ctx\u001b[38;5;241m.\u001b[39m_handle, device_name, op_name,\n\u001b[0;32m     54\u001b[0m                                       inputs, attrs, num_outputs)\n\u001b[0;32m     55\u001b[0m \u001b[38;5;28;01mexcept\u001b[39;00m core\u001b[38;5;241m.\u001b[39m_NotOkStatusException \u001b[38;5;28;01mas\u001b[39;00m e:\n\u001b[0;32m     56\u001b[0m   \u001b[38;5;28;01mif\u001b[39;00m name \u001b[38;5;129;01mis\u001b[39;00m \u001b[38;5;129;01mnot\u001b[39;00m \u001b[38;5;28;01mNone\u001b[39;00m:\n",
      "\u001b[1;31mInvalidArgumentError\u001b[0m: Graph execution error:\n\nDetected at node gradient_tape/mean_squared_error/BroadcastGradientArgs defined at (most recent call last):\n  File \"C:\\Users\\Rober\\.pyenv\\pyenv-win\\versions\\3.10.11\\lib\\runpy.py\", line 196, in _run_module_as_main\n\n  File \"C:\\Users\\Rober\\.pyenv\\pyenv-win\\versions\\3.10.11\\lib\\runpy.py\", line 86, in _run_code\n\n  File \"c:\\Users\\Rober\\.virtualenvs\\AASD4010-XSwstjEU\\lib\\site-packages\\ipykernel_launcher.py\", line 17, in <module>\n\n  File \"c:\\Users\\Rober\\.virtualenvs\\AASD4010-XSwstjEU\\lib\\site-packages\\traitlets\\config\\application.py\", line 1075, in launch_instance\n\n  File \"c:\\Users\\Rober\\.virtualenvs\\AASD4010-XSwstjEU\\lib\\site-packages\\ipykernel\\kernelapp.py\", line 701, in start\n\n  File \"c:\\Users\\Rober\\.virtualenvs\\AASD4010-XSwstjEU\\lib\\site-packages\\tornado\\platform\\asyncio.py\", line 205, in start\n\n  File \"C:\\Users\\Rober\\.pyenv\\pyenv-win\\versions\\3.10.11\\lib\\asyncio\\windows_events.py\", line 321, in run_forever\n\n  File \"C:\\Users\\Rober\\.pyenv\\pyenv-win\\versions\\3.10.11\\lib\\asyncio\\base_events.py\", line 603, in run_forever\n\n  File \"C:\\Users\\Rober\\.pyenv\\pyenv-win\\versions\\3.10.11\\lib\\asyncio\\base_events.py\", line 1909, in _run_once\n\n  File \"C:\\Users\\Rober\\.pyenv\\pyenv-win\\versions\\3.10.11\\lib\\asyncio\\events.py\", line 80, in _run\n\n  File \"c:\\Users\\Rober\\.virtualenvs\\AASD4010-XSwstjEU\\lib\\site-packages\\ipykernel\\kernelbase.py\", line 534, in dispatch_queue\n\n  File \"c:\\Users\\Rober\\.virtualenvs\\AASD4010-XSwstjEU\\lib\\site-packages\\ipykernel\\kernelbase.py\", line 523, in process_one\n\n  File \"c:\\Users\\Rober\\.virtualenvs\\AASD4010-XSwstjEU\\lib\\site-packages\\ipykernel\\kernelbase.py\", line 429, in dispatch_shell\n\n  File \"c:\\Users\\Rober\\.virtualenvs\\AASD4010-XSwstjEU\\lib\\site-packages\\ipykernel\\kernelbase.py\", line 767, in execute_request\n\n  File \"c:\\Users\\Rober\\.virtualenvs\\AASD4010-XSwstjEU\\lib\\site-packages\\ipykernel\\ipkernel.py\", line 429, in do_execute\n\n  File \"c:\\Users\\Rober\\.virtualenvs\\AASD4010-XSwstjEU\\lib\\site-packages\\ipykernel\\zmqshell.py\", line 549, in run_cell\n\n  File \"c:\\Users\\Rober\\.virtualenvs\\AASD4010-XSwstjEU\\lib\\site-packages\\IPython\\core\\interactiveshell.py\", line 3051, in run_cell\n\n  File \"c:\\Users\\Rober\\.virtualenvs\\AASD4010-XSwstjEU\\lib\\site-packages\\IPython\\core\\interactiveshell.py\", line 3106, in _run_cell\n\n  File \"c:\\Users\\Rober\\.virtualenvs\\AASD4010-XSwstjEU\\lib\\site-packages\\IPython\\core\\async_helpers.py\", line 129, in _pseudo_sync_runner\n\n  File \"c:\\Users\\Rober\\.virtualenvs\\AASD4010-XSwstjEU\\lib\\site-packages\\IPython\\core\\interactiveshell.py\", line 3311, in run_cell_async\n\n  File \"c:\\Users\\Rober\\.virtualenvs\\AASD4010-XSwstjEU\\lib\\site-packages\\IPython\\core\\interactiveshell.py\", line 3493, in run_ast_nodes\n\n  File \"c:\\Users\\Rober\\.virtualenvs\\AASD4010-XSwstjEU\\lib\\site-packages\\IPython\\core\\interactiveshell.py\", line 3553, in run_code\n\n  File \"C:\\Users\\Rober\\AppData\\Local\\Temp\\ipykernel_12248\\3938669672.py\", line 76, in <module>\n\n  File \"c:\\Users\\Rober\\.virtualenvs\\AASD4010-XSwstjEU\\lib\\site-packages\\keras\\src\\utils\\traceback_utils.py\", line 65, in error_handler\n\n  File \"c:\\Users\\Rober\\.virtualenvs\\AASD4010-XSwstjEU\\lib\\site-packages\\keras\\src\\engine\\training.py\", line 1807, in fit\n\n  File \"c:\\Users\\Rober\\.virtualenvs\\AASD4010-XSwstjEU\\lib\\site-packages\\keras\\src\\engine\\training.py\", line 1401, in train_function\n\n  File \"c:\\Users\\Rober\\.virtualenvs\\AASD4010-XSwstjEU\\lib\\site-packages\\keras\\src\\engine\\training.py\", line 1384, in step_function\n\n  File \"c:\\Users\\Rober\\.virtualenvs\\AASD4010-XSwstjEU\\lib\\site-packages\\keras\\src\\engine\\training.py\", line 1373, in run_step\n\n  File \"c:\\Users\\Rober\\.virtualenvs\\AASD4010-XSwstjEU\\lib\\site-packages\\keras\\src\\engine\\training.py\", line 1154, in train_step\n\n  File \"c:\\Users\\Rober\\.virtualenvs\\AASD4010-XSwstjEU\\lib\\site-packages\\keras\\src\\optimizers\\optimizer.py\", line 543, in minimize\n\n  File \"c:\\Users\\Rober\\.virtualenvs\\AASD4010-XSwstjEU\\lib\\site-packages\\keras\\src\\optimizers\\optimizer.py\", line 276, in compute_gradients\n\nIncompatible shapes: [32,30,8] vs. [32]\n\t [[{{node gradient_tape/mean_squared_error/BroadcastGradientArgs}}]] [Op:__inference_train_function_6289]"
     ]
    }
   ],
   "source": [
    "import tensorflow as tf\n",
    "from tensorflow import keras\n",
    "from tensorflow.keras import layers\n",
    "# Assuming 'X_train' and 'y_train' are your input features and target variables\n",
    "\n",
    "num_features = 8\n",
    "\n",
    "# Positional encoding layer\n",
    "class PositionalEncoding(layers.Layer):\n",
    "    def __init__(self, sequence_length, output_dim):\n",
    "        super(PositionalEncoding, self).__init__()\n",
    "        self.pos_encoding = self.positional_encoding(sequence_length, output_dim)\n",
    "\n",
    "    def call(self, inputs):\n",
    "        return inputs + self.pos_encoding[:, :tf.shape(inputs)[1], :]\n",
    "\n",
    "    def get_config(self):\n",
    "        config = super(PositionalEncoding, self).get_config()\n",
    "        return config\n",
    "\n",
    "    def positional_encoding(self, sequence_length, output_dim):\n",
    "        angle_rads = self.get_angles(np.arange(sequence_length)[:, np.newaxis], np.arange(output_dim)[np.newaxis, :], output_dim)\n",
    "        sines = np.sin(angle_rads[:, 0::2])\n",
    "        cosines = np.cos(angle_rads[:, 1::2])\n",
    "\n",
    "        pos_encoding = np.concatenate([sines, cosines], axis=-1)\n",
    "        pos_encoding = pos_encoding[np.newaxis, ...]\n",
    "        return tf.cast(pos_encoding, dtype=tf.float32)\n",
    "\n",
    "    def get_angles(self, positions, i, d_model):\n",
    "        angles = 1 / np.power(10000.0, (2 * (i // 2)) / np.float32(d_model))\n",
    "        return positions * angles\n",
    "\n",
    "def build_model(sequence_length, num_heads, ff_dim, dropout=0, mlp_units=[128]):\n",
    "    inputs = keras.Input(shape=(sequence_length, num_features))  # Assuming num_features is the number of features in your input data\n",
    "    x = PositionalEncoding(sequence_length, num_features)(inputs)\n",
    "    \n",
    "    for units in mlp_units:\n",
    "        x = transformer_encoder(x, num_features, num_heads, ff_dim, dropout)\n",
    "    \n",
    "    outputs = layers.TimeDistributed(layers.Conv1D(filters=num_features, kernel_size=1, activation=\"linear\"))(x)\n",
    "    model = keras.Model(inputs=inputs, outputs=outputs)\n",
    "    return model\n",
    "\n",
    "\n",
    "# Transformer model\n",
    "def transformer_encoder(inputs, head_size, num_heads, ff_dim, dropout=0):\n",
    "    # Normalization and Attention\n",
    "    x = layers.LayerNormalization(epsilon=1e-6)(inputs)\n",
    "    x = layers.MultiHeadAttention(key_dim=head_size, num_heads=num_heads, dropout=dropout)(x, x)\n",
    "    x = layers.Dropout(dropout)(x)\n",
    "    res = x + inputs\n",
    "\n",
    "    # Feed Forward Part\n",
    "    x = layers.LayerNormalization(epsilon=1e-6)(res)\n",
    "    x = layers.Conv1D(filters=ff_dim, kernel_size=1, activation=\"relu\")(x)\n",
    "    x = layers.Dropout(dropout)(x)\n",
    "    x = layers.Conv1D(filters=inputs.shape[-1], kernel_size=1)(x)\n",
    "    return x + res\n",
    "\n",
    "# Build the Transformer model\n",
    "\n",
    "\n",
    "# Define hyperparameters\n",
    "sequence_length = 30\n",
    "num_heads = 2\n",
    "ff_dim = 30\n",
    "dropout = 0.25\n",
    "num_features = 8\n",
    "\n",
    "# Build and compile the model\n",
    "model = build_model(sequence_length, num_heads, ff_dim, dropout)\n",
    "model.compile(optimizer=keras.optimizers.Adam(learning_rate=0.001), loss=\"mse\")\n",
    "\n",
    "# Train the model\n",
    "model.fit(X_train, y_train, epochs=50, batch_size=32, validation_split=0.2)\n",
    "\n",
    "# Make predictions\n",
    "predictions = model.predict(X_test)\n"
   ]
  }
 ],
 "metadata": {
  "kernelspec": {
   "display_name": "AASD4010-XSwstjEU",
   "language": "python",
   "name": "python3"
  },
  "language_info": {
   "codemirror_mode": {
    "name": "ipython",
    "version": 3
   },
   "file_extension": ".py",
   "mimetype": "text/x-python",
   "name": "python",
   "nbconvert_exporter": "python",
   "pygments_lexer": "ipython3",
   "version": "3.10.11"
  }
 },
 "nbformat": 4,
 "nbformat_minor": 2
}
