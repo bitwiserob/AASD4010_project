{
 "cells": [
  {
   "cell_type": "code",
   "execution_count": 4,
   "metadata": {},
   "outputs": [
    {
     "name": "stderr",
     "output_type": "stream",
     "text": [
      "[nltk_data] Downloading package punkt to\n",
      "[nltk_data]     C:\\Users\\CATALINA\\AppData\\Roaming\\nltk_data...\n",
      "[nltk_data]   Package punkt is already up-to-date!\n",
      "[nltk_data] Downloading package stopwords to\n",
      "[nltk_data]     C:\\Users\\CATALINA\\AppData\\Roaming\\nltk_data...\n",
      "[nltk_data]   Package stopwords is already up-to-date!\n",
      "[nltk_data] Downloading package wordnet to\n",
      "[nltk_data]     C:\\Users\\CATALINA\\AppData\\Roaming\\nltk_data...\n",
      "[nltk_data]   Package wordnet is already up-to-date!\n"
     ]
    }
   ],
   "source": [
    "# Standard Libraries\n",
    "import re\n",
    "\n",
    "# Data Handling and Processing Libraries\n",
    "import pandas as pd\n",
    "import numpy as np\n",
    "from sklearn.preprocessing import LabelEncoder\n",
    "from sklearn.model_selection import train_test_split\n",
    "from tensorflow.keras.utils import to_categorical\n",
    "import seaborn as sns\n",
    "\n",
    "# Natural Language Processing Libraries\n",
    "import nltk\n",
    "from nltk.corpus import stopwords\n",
    "from nltk.stem import WordNetLemmatizer\n",
    "from nltk.tokenize import word_tokenize\n",
    "nltk.download('punkt')\n",
    "nltk.download('stopwords')\n",
    "nltk.download('wordnet')\n",
    "\n",
    "# Deep Learning Libraries\n",
    "from tensorflow.keras.models import Sequential\n",
    "from tensorflow.keras.layers import Embedding, LSTM, Dense, Dropout\n",
    "from tensorflow.keras.regularizers import l2\n",
    "from tensorflow.keras.callbacks import EarlyStopping\n",
    "from tensorflow.keras.preprocessing.text import Tokenizer\n",
    "from tensorflow.keras.preprocessing.sequence import pad_sequences\n",
    "\n",
    "# Visualization Library\n",
    "import matplotlib.pyplot as plt\n"
   ]
  },
  {
   "cell_type": "code",
   "execution_count": 5,
   "metadata": {},
   "outputs": [
    {
     "data": {
      "text/html": [
       "<div>\n",
       "<style scoped>\n",
       "    .dataframe tbody tr th:only-of-type {\n",
       "        vertical-align: middle;\n",
       "    }\n",
       "\n",
       "    .dataframe tbody tr th {\n",
       "        vertical-align: top;\n",
       "    }\n",
       "\n",
       "    .dataframe thead th {\n",
       "        text-align: right;\n",
       "    }\n",
       "</style>\n",
       "<table border=\"1\" class=\"dataframe\">\n",
       "  <thead>\n",
       "    <tr style=\"text-align: right;\">\n",
       "      <th></th>\n",
       "      <th>Ticker</th>\n",
       "      <th>Title</th>\n",
       "      <th>URL</th>\n",
       "      <th>Time Published</th>\n",
       "      <th>Authors</th>\n",
       "      <th>Summary</th>\n",
       "      <th>Relevance Score</th>\n",
       "      <th>Ticker Sentiment Score</th>\n",
       "      <th>Ticker Sentiment Label</th>\n",
       "      <th>Technology</th>\n",
       "      <th>...</th>\n",
       "      <th>Retail &amp; Wholesale</th>\n",
       "      <th>Economy - Monetary</th>\n",
       "      <th>Energy &amp; Transportation</th>\n",
       "      <th>Life Sciences</th>\n",
       "      <th>Blockchain</th>\n",
       "      <th>IPO</th>\n",
       "      <th>Earnings</th>\n",
       "      <th>Mergers &amp; Acquisitions</th>\n",
       "      <th>Manufacturing</th>\n",
       "      <th>Finance</th>\n",
       "    </tr>\n",
       "  </thead>\n",
       "  <tbody>\n",
       "    <tr>\n",
       "      <th>0</th>\n",
       "      <td>META</td>\n",
       "      <td>Ads running on Meta saw return on spending inc...</td>\n",
       "      <td>https://www.business-standard.com/companies/ne...</td>\n",
       "      <td>2024-01-18 17:28:08</td>\n",
       "      <td>['Bloomberg']</td>\n",
       "      <td>Ads running on Meta Platforms Inc.'s apps saw ...</td>\n",
       "      <td>0.250386</td>\n",
       "      <td>0.424632</td>\n",
       "      <td>Bullish</td>\n",
       "      <td>1.000000</td>\n",
       "      <td>...</td>\n",
       "      <td>0.000000</td>\n",
       "      <td>0.000000</td>\n",
       "      <td>0.000000</td>\n",
       "      <td>0.000000</td>\n",
       "      <td>0.0</td>\n",
       "      <td>0.000000</td>\n",
       "      <td>0.000000</td>\n",
       "      <td>0.00000</td>\n",
       "      <td>0.000000</td>\n",
       "      <td>0.000000</td>\n",
       "    </tr>\n",
       "    <tr>\n",
       "      <th>1</th>\n",
       "      <td>AAPL</td>\n",
       "      <td>Ads running on Meta saw return on spending inc...</td>\n",
       "      <td>https://www.business-standard.com/companies/ne...</td>\n",
       "      <td>2024-01-18 17:28:08</td>\n",
       "      <td>['Bloomberg']</td>\n",
       "      <td>Ads running on Meta Platforms Inc.'s apps saw ...</td>\n",
       "      <td>0.250386</td>\n",
       "      <td>0.094962</td>\n",
       "      <td>Neutral</td>\n",
       "      <td>1.000000</td>\n",
       "      <td>...</td>\n",
       "      <td>0.000000</td>\n",
       "      <td>0.000000</td>\n",
       "      <td>0.000000</td>\n",
       "      <td>0.000000</td>\n",
       "      <td>0.0</td>\n",
       "      <td>0.000000</td>\n",
       "      <td>0.000000</td>\n",
       "      <td>0.00000</td>\n",
       "      <td>0.000000</td>\n",
       "      <td>0.000000</td>\n",
       "    </tr>\n",
       "    <tr>\n",
       "      <th>2</th>\n",
       "      <td>HUM</td>\n",
       "      <td>Here are the reasons why a new Wall Street upg...</td>\n",
       "      <td>https://www.cnbc.com/2024/01/18/what-activist-...</td>\n",
       "      <td>2024-01-18 16:48:19</td>\n",
       "      <td>['Jeff Marks']</td>\n",
       "      <td>The Investing Club holds its \"Morning Meeting\"...</td>\n",
       "      <td>0.298567</td>\n",
       "      <td>0.098222</td>\n",
       "      <td>Neutral</td>\n",
       "      <td>0.500000</td>\n",
       "      <td>...</td>\n",
       "      <td>0.000000</td>\n",
       "      <td>0.000000</td>\n",
       "      <td>0.000000</td>\n",
       "      <td>0.000000</td>\n",
       "      <td>0.0</td>\n",
       "      <td>0.000000</td>\n",
       "      <td>0.158519</td>\n",
       "      <td>0.00000</td>\n",
       "      <td>0.000000</td>\n",
       "      <td>0.500000</td>\n",
       "    </tr>\n",
       "    <tr>\n",
       "      <th>3</th>\n",
       "      <td>AAPL</td>\n",
       "      <td>Here are the reasons why a new Wall Street upg...</td>\n",
       "      <td>https://www.cnbc.com/2024/01/18/what-activist-...</td>\n",
       "      <td>2024-01-18 16:48:19</td>\n",
       "      <td>['Jeff Marks']</td>\n",
       "      <td>The Investing Club holds its \"Morning Meeting\"...</td>\n",
       "      <td>0.298567</td>\n",
       "      <td>0.098222</td>\n",
       "      <td>Neutral</td>\n",
       "      <td>0.500000</td>\n",
       "      <td>...</td>\n",
       "      <td>0.000000</td>\n",
       "      <td>0.000000</td>\n",
       "      <td>0.000000</td>\n",
       "      <td>0.000000</td>\n",
       "      <td>0.0</td>\n",
       "      <td>0.000000</td>\n",
       "      <td>0.158519</td>\n",
       "      <td>0.00000</td>\n",
       "      <td>0.000000</td>\n",
       "      <td>0.500000</td>\n",
       "    </tr>\n",
       "    <tr>\n",
       "      <th>4</th>\n",
       "      <td>BAC</td>\n",
       "      <td>Here are the reasons why a new Wall Street upg...</td>\n",
       "      <td>https://www.cnbc.com/2024/01/18/what-activist-...</td>\n",
       "      <td>2024-01-18 16:48:19</td>\n",
       "      <td>['Jeff Marks']</td>\n",
       "      <td>The Investing Club holds its \"Morning Meeting\"...</td>\n",
       "      <td>0.076358</td>\n",
       "      <td>0.045194</td>\n",
       "      <td>Neutral</td>\n",
       "      <td>0.500000</td>\n",
       "      <td>...</td>\n",
       "      <td>0.000000</td>\n",
       "      <td>0.000000</td>\n",
       "      <td>0.000000</td>\n",
       "      <td>0.000000</td>\n",
       "      <td>0.0</td>\n",
       "      <td>0.000000</td>\n",
       "      <td>0.158519</td>\n",
       "      <td>0.00000</td>\n",
       "      <td>0.000000</td>\n",
       "      <td>0.500000</td>\n",
       "    </tr>\n",
       "    <tr>\n",
       "      <th>...</th>\n",
       "      <td>...</td>\n",
       "      <td>...</td>\n",
       "      <td>...</td>\n",
       "      <td>...</td>\n",
       "      <td>...</td>\n",
       "      <td>...</td>\n",
       "      <td>...</td>\n",
       "      <td>...</td>\n",
       "      <td>...</td>\n",
       "      <td>...</td>\n",
       "      <td>...</td>\n",
       "      <td>...</td>\n",
       "      <td>...</td>\n",
       "      <td>...</td>\n",
       "      <td>...</td>\n",
       "      <td>...</td>\n",
       "      <td>...</td>\n",
       "      <td>...</td>\n",
       "      <td>...</td>\n",
       "      <td>...</td>\n",
       "      <td>...</td>\n",
       "    </tr>\n",
       "    <tr>\n",
       "      <th>79492</th>\n",
       "      <td>CRWD</td>\n",
       "      <td>2 Cybersecurity Stocks You Can Buy and Hold fo...</td>\n",
       "      <td>https://www.fool.com/investing/2023/08/27/2-cy...</td>\n",
       "      <td>2023-08-27 10:30:00</td>\n",
       "      <td>['Jeff Santoro']</td>\n",
       "      <td>These two companies have bright futures despit...</td>\n",
       "      <td>0.307731</td>\n",
       "      <td>0.219216</td>\n",
       "      <td>Somewhat-Bullish</td>\n",
       "      <td>1.000000</td>\n",
       "      <td>...</td>\n",
       "      <td>0.000000</td>\n",
       "      <td>0.000000</td>\n",
       "      <td>0.000000</td>\n",
       "      <td>0.000000</td>\n",
       "      <td>0.0</td>\n",
       "      <td>0.000000</td>\n",
       "      <td>0.999975</td>\n",
       "      <td>0.00000</td>\n",
       "      <td>0.000000</td>\n",
       "      <td>0.000000</td>\n",
       "    </tr>\n",
       "    <tr>\n",
       "      <th>79493</th>\n",
       "      <td>PATH</td>\n",
       "      <td>3 Supercharged Tech Stocks to Buy Without Any ...</td>\n",
       "      <td>https://www.fool.com/investing/2023/08/26/3-su...</td>\n",
       "      <td>2023-08-26 10:45:00</td>\n",
       "      <td>['Keithen Drury']</td>\n",
       "      <td>There are still some growth stocks available t...</td>\n",
       "      <td>0.472821</td>\n",
       "      <td>0.306128</td>\n",
       "      <td>Somewhat-Bullish</td>\n",
       "      <td>1.000000</td>\n",
       "      <td>...</td>\n",
       "      <td>0.000000</td>\n",
       "      <td>0.000000</td>\n",
       "      <td>0.000000</td>\n",
       "      <td>0.000000</td>\n",
       "      <td>0.0</td>\n",
       "      <td>0.000000</td>\n",
       "      <td>0.744043</td>\n",
       "      <td>0.00000</td>\n",
       "      <td>0.000000</td>\n",
       "      <td>0.000000</td>\n",
       "    </tr>\n",
       "    <tr>\n",
       "      <th>79494</th>\n",
       "      <td>CRWD</td>\n",
       "      <td>3 Supercharged Tech Stocks to Buy Without Any ...</td>\n",
       "      <td>https://www.fool.com/investing/2023/08/26/3-su...</td>\n",
       "      <td>2023-08-26 10:45:00</td>\n",
       "      <td>['Keithen Drury']</td>\n",
       "      <td>There are still some growth stocks available t...</td>\n",
       "      <td>0.425925</td>\n",
       "      <td>0.135673</td>\n",
       "      <td>Neutral</td>\n",
       "      <td>1.000000</td>\n",
       "      <td>...</td>\n",
       "      <td>0.000000</td>\n",
       "      <td>0.000000</td>\n",
       "      <td>0.000000</td>\n",
       "      <td>0.000000</td>\n",
       "      <td>0.0</td>\n",
       "      <td>0.000000</td>\n",
       "      <td>0.744043</td>\n",
       "      <td>0.00000</td>\n",
       "      <td>0.000000</td>\n",
       "      <td>0.000000</td>\n",
       "    </tr>\n",
       "    <tr>\n",
       "      <th>79495</th>\n",
       "      <td>DE</td>\n",
       "      <td>Weekly Roundup</td>\n",
       "      <td>https://aap.thestreet.com/story/16131864/1/wee...</td>\n",
       "      <td>2023-08-25 22:01:00</td>\n",
       "      <td>[]</td>\n",
       "      <td>Stocks staged a late comeback this week after ...</td>\n",
       "      <td>0.020001</td>\n",
       "      <td>0.109825</td>\n",
       "      <td>Neutral</td>\n",
       "      <td>0.166667</td>\n",
       "      <td>...</td>\n",
       "      <td>0.166667</td>\n",
       "      <td>0.999682</td>\n",
       "      <td>0.166667</td>\n",
       "      <td>0.166667</td>\n",
       "      <td>0.0</td>\n",
       "      <td>0.310843</td>\n",
       "      <td>1.000000</td>\n",
       "      <td>0.77141</td>\n",
       "      <td>0.166667</td>\n",
       "      <td>0.166667</td>\n",
       "    </tr>\n",
       "    <tr>\n",
       "      <th>79496</th>\n",
       "      <td>AAPL</td>\n",
       "      <td>Weekly Roundup</td>\n",
       "      <td>https://aap.thestreet.com/story/16131864/1/wee...</td>\n",
       "      <td>2023-08-25 22:01:00</td>\n",
       "      <td>[]</td>\n",
       "      <td>Stocks staged a late comeback this week after ...</td>\n",
       "      <td>0.013334</td>\n",
       "      <td>0.090535</td>\n",
       "      <td>Neutral</td>\n",
       "      <td>0.166667</td>\n",
       "      <td>...</td>\n",
       "      <td>0.166667</td>\n",
       "      <td>0.999682</td>\n",
       "      <td>0.166667</td>\n",
       "      <td>0.166667</td>\n",
       "      <td>0.0</td>\n",
       "      <td>0.310843</td>\n",
       "      <td>1.000000</td>\n",
       "      <td>0.77141</td>\n",
       "      <td>0.166667</td>\n",
       "      <td>0.166667</td>\n",
       "    </tr>\n",
       "  </tbody>\n",
       "</table>\n",
       "<p>79497 rows × 24 columns</p>\n",
       "</div>"
      ],
      "text/plain": [
       "      Ticker                                              Title  \\\n",
       "0       META  Ads running on Meta saw return on spending inc...   \n",
       "1       AAPL  Ads running on Meta saw return on spending inc...   \n",
       "2        HUM  Here are the reasons why a new Wall Street upg...   \n",
       "3       AAPL  Here are the reasons why a new Wall Street upg...   \n",
       "4        BAC  Here are the reasons why a new Wall Street upg...   \n",
       "...      ...                                                ...   \n",
       "79492   CRWD  2 Cybersecurity Stocks You Can Buy and Hold fo...   \n",
       "79493   PATH  3 Supercharged Tech Stocks to Buy Without Any ...   \n",
       "79494   CRWD  3 Supercharged Tech Stocks to Buy Without Any ...   \n",
       "79495     DE                                     Weekly Roundup   \n",
       "79496   AAPL                                     Weekly Roundup   \n",
       "\n",
       "                                                     URL       Time Published  \\\n",
       "0      https://www.business-standard.com/companies/ne...  2024-01-18 17:28:08   \n",
       "1      https://www.business-standard.com/companies/ne...  2024-01-18 17:28:08   \n",
       "2      https://www.cnbc.com/2024/01/18/what-activist-...  2024-01-18 16:48:19   \n",
       "3      https://www.cnbc.com/2024/01/18/what-activist-...  2024-01-18 16:48:19   \n",
       "4      https://www.cnbc.com/2024/01/18/what-activist-...  2024-01-18 16:48:19   \n",
       "...                                                  ...                  ...   \n",
       "79492  https://www.fool.com/investing/2023/08/27/2-cy...  2023-08-27 10:30:00   \n",
       "79493  https://www.fool.com/investing/2023/08/26/3-su...  2023-08-26 10:45:00   \n",
       "79494  https://www.fool.com/investing/2023/08/26/3-su...  2023-08-26 10:45:00   \n",
       "79495  https://aap.thestreet.com/story/16131864/1/wee...  2023-08-25 22:01:00   \n",
       "79496  https://aap.thestreet.com/story/16131864/1/wee...  2023-08-25 22:01:00   \n",
       "\n",
       "                 Authors                                            Summary  \\\n",
       "0          ['Bloomberg']  Ads running on Meta Platforms Inc.'s apps saw ...   \n",
       "1          ['Bloomberg']  Ads running on Meta Platforms Inc.'s apps saw ...   \n",
       "2         ['Jeff Marks']  The Investing Club holds its \"Morning Meeting\"...   \n",
       "3         ['Jeff Marks']  The Investing Club holds its \"Morning Meeting\"...   \n",
       "4         ['Jeff Marks']  The Investing Club holds its \"Morning Meeting\"...   \n",
       "...                  ...                                                ...   \n",
       "79492   ['Jeff Santoro']  These two companies have bright futures despit...   \n",
       "79493  ['Keithen Drury']  There are still some growth stocks available t...   \n",
       "79494  ['Keithen Drury']  There are still some growth stocks available t...   \n",
       "79495                 []  Stocks staged a late comeback this week after ...   \n",
       "79496                 []  Stocks staged a late comeback this week after ...   \n",
       "\n",
       "       Relevance Score  Ticker Sentiment Score Ticker Sentiment Label  \\\n",
       "0             0.250386                0.424632                Bullish   \n",
       "1             0.250386                0.094962                Neutral   \n",
       "2             0.298567                0.098222                Neutral   \n",
       "3             0.298567                0.098222                Neutral   \n",
       "4             0.076358                0.045194                Neutral   \n",
       "...                ...                     ...                    ...   \n",
       "79492         0.307731                0.219216       Somewhat-Bullish   \n",
       "79493         0.472821                0.306128       Somewhat-Bullish   \n",
       "79494         0.425925                0.135673                Neutral   \n",
       "79495         0.020001                0.109825                Neutral   \n",
       "79496         0.013334                0.090535                Neutral   \n",
       "\n",
       "       Technology  ...  Retail & Wholesale  Economy - Monetary  \\\n",
       "0        1.000000  ...            0.000000            0.000000   \n",
       "1        1.000000  ...            0.000000            0.000000   \n",
       "2        0.500000  ...            0.000000            0.000000   \n",
       "3        0.500000  ...            0.000000            0.000000   \n",
       "4        0.500000  ...            0.000000            0.000000   \n",
       "...           ...  ...                 ...                 ...   \n",
       "79492    1.000000  ...            0.000000            0.000000   \n",
       "79493    1.000000  ...            0.000000            0.000000   \n",
       "79494    1.000000  ...            0.000000            0.000000   \n",
       "79495    0.166667  ...            0.166667            0.999682   \n",
       "79496    0.166667  ...            0.166667            0.999682   \n",
       "\n",
       "       Energy & Transportation  Life Sciences  Blockchain       IPO  Earnings  \\\n",
       "0                     0.000000       0.000000         0.0  0.000000  0.000000   \n",
       "1                     0.000000       0.000000         0.0  0.000000  0.000000   \n",
       "2                     0.000000       0.000000         0.0  0.000000  0.158519   \n",
       "3                     0.000000       0.000000         0.0  0.000000  0.158519   \n",
       "4                     0.000000       0.000000         0.0  0.000000  0.158519   \n",
       "...                        ...            ...         ...       ...       ...   \n",
       "79492                 0.000000       0.000000         0.0  0.000000  0.999975   \n",
       "79493                 0.000000       0.000000         0.0  0.000000  0.744043   \n",
       "79494                 0.000000       0.000000         0.0  0.000000  0.744043   \n",
       "79495                 0.166667       0.166667         0.0  0.310843  1.000000   \n",
       "79496                 0.166667       0.166667         0.0  0.310843  1.000000   \n",
       "\n",
       "       Mergers & Acquisitions  Manufacturing   Finance  \n",
       "0                     0.00000       0.000000  0.000000  \n",
       "1                     0.00000       0.000000  0.000000  \n",
       "2                     0.00000       0.000000  0.500000  \n",
       "3                     0.00000       0.000000  0.500000  \n",
       "4                     0.00000       0.000000  0.500000  \n",
       "...                       ...            ...       ...  \n",
       "79492                 0.00000       0.000000  0.000000  \n",
       "79493                 0.00000       0.000000  0.000000  \n",
       "79494                 0.00000       0.000000  0.000000  \n",
       "79495                 0.77141       0.166667  0.166667  \n",
       "79496                 0.77141       0.166667  0.166667  \n",
       "\n",
       "[79497 rows x 24 columns]"
      ]
     },
     "execution_count": 5,
     "metadata": {},
     "output_type": "execute_result"
    }
   ],
   "source": [
    "data = pd.read_csv('../data/news/news_part1.csv')\n",
    "data"
   ]
  },
  {
   "cell_type": "code",
   "execution_count": 6,
   "metadata": {},
   "outputs": [
    {
     "data": {
      "text/plain": [
       "Ticker                        68175\n",
       "Title                         68175\n",
       "URL                           68175\n",
       "Time Published                68175\n",
       "Authors                       68175\n",
       "Summary                       68175\n",
       "Relevance Score               68175\n",
       "Ticker Sentiment Score        68175\n",
       "Ticker Sentiment Label        68175\n",
       "Technology                    68175\n",
       "Financial Markets             68175\n",
       "Economy - Fiscal              68175\n",
       "Economy - Macro               68175\n",
       "Real Estate & Construction    68175\n",
       "Retail & Wholesale            68175\n",
       "Economy - Monetary            68175\n",
       "Energy & Transportation       68175\n",
       "Life Sciences                 68175\n",
       "Blockchain                    68175\n",
       "IPO                           68175\n",
       "Earnings                      68175\n",
       "Mergers & Acquisitions        68175\n",
       "Manufacturing                 68175\n",
       "Finance                       68175\n",
       "dtype: int64"
      ]
     },
     "execution_count": 6,
     "metadata": {},
     "output_type": "execute_result"
    }
   ],
   "source": [
    "# Check duplicate rows in dataset\n",
    "data=data.drop_duplicates()\n",
    "data.count()"
   ]
  },
  {
   "cell_type": "markdown",
   "metadata": {},
   "source": [
    "## Preprocessing Steps"
   ]
  },
  {
   "cell_type": "code",
   "execution_count": 7,
   "metadata": {},
   "outputs": [],
   "source": [
    "# Combining 'Title' and 'Summary' into a single text feature\n",
    "data = data.copy()\n",
    "data['Combined_Text'] = data['Title'] + \" \" + data['Summary']"
   ]
  },
  {
   "cell_type": "code",
   "execution_count": 8,
   "metadata": {},
   "outputs": [],
   "source": [
    "# Label Encoding for 'Ticker Sentiment Label'\n",
    "label_encoder = LabelEncoder()\n",
    "data['Ticker Sentiment Label Encoded'] = label_encoder.fit_transform(data['Ticker Sentiment Label'])"
   ]
  },
  {
   "cell_type": "code",
   "execution_count": 9,
   "metadata": {},
   "outputs": [],
   "source": [
    "# Function to preprocess the DataSet\n",
    "def preprocess_text(text):\n",
    "    # Lowercasing\n",
    "    text = text.lower()\n",
    "\n",
    "    # Removing punctuation\n",
    "    text = re.sub(r'[^\\w\\s]', '', text)\n",
    "\n",
    "    # Tokenization\n",
    "    tokens = word_tokenize(text)\n",
    "\n",
    "    # Removing stopwords\n",
    "    stop_words = set(stopwords.words('english'))\n",
    "    tokens = [word for word in tokens if word not in stop_words]\n",
    "\n",
    "    # Lemmatization\n",
    "    lemmatizer = WordNetLemmatizer()\n",
    "    tokens = [lemmatizer.lemmatize(word) for word in tokens]\n",
    "\n",
    "    return ' '.join(tokens)\n",
    "\n",
    "# Applying the preprocessing function to the combined text column\n",
    "data['Processed_Text'] = data['Combined_Text'].apply(preprocess_text)\n"
   ]
  },
  {
   "cell_type": "markdown",
   "metadata": {},
   "source": [
    "### Tokenization"
   ]
  },
  {
   "cell_type": "code",
   "execution_count": 10,
   "metadata": {},
   "outputs": [
    {
     "name": "stdout",
     "output_type": "stream",
     "text": [
      "Vocabulary Size: 23542\n",
      "Word Frequency:            word  count\n",
      "30        stock  45691\n",
      "107      market  30064\n",
      "307    investor  15933\n",
      "88     earnings  15747\n",
      "190     company  14214\n",
      "...         ...    ...\n",
      "21794      wear      1\n",
      "19829     fogel      1\n",
      "19828     glenn      1\n",
      "4704    nightly      1\n",
      "9706    sabadra      1\n",
      "\n",
      "[23542 rows x 2 columns]\n"
     ]
    }
   ],
   "source": [
    "# Tokenize the text data without limiting max_features\n",
    "full_tokenizer = Tokenizer()\n",
    "full_tokenizer.fit_on_texts(data['Processed_Text'])\n",
    "\n",
    "# Calculate vocabulary size\n",
    "word_counts = full_tokenizer.word_counts\n",
    "vocabulary_size = len(word_counts)\n",
    "print(\"Vocabulary Size:\", vocabulary_size)\n",
    "\n",
    "# Analyze word frequency distribution\n",
    "word_freq = pd.DataFrame(word_counts.items(), columns=['word', 'count'])\n",
    "word_freq = word_freq.sort_values(by='count', ascending=False)\n",
    "print(\"Word Frequency:\", word_freq)\n"
   ]
  },
  {
   "cell_type": "code",
   "execution_count": 11,
   "metadata": {},
   "outputs": [],
   "source": [
    "# Given the vocabulary size, setting the maximum number of features to 10,000 seems reasonable. \n",
    "# This approach is particularly effective if the most frequent 10,000 words encompass the core content and sentiment of the text.\n",
    "max_features = 10000  \n",
    "tokenizer = Tokenizer(num_words=max_features)\n",
    "tokenizer.fit_on_texts(data['Processed_Text'])\n",
    "sequences = tokenizer.texts_to_sequences(data['Processed_Text'])"
   ]
  },
  {
   "cell_type": "code",
   "execution_count": 12,
   "metadata": {},
   "outputs": [
    {
     "name": "stdout",
     "output_type": "stream",
     "text": [
      "Maximum sequence length: 216\n"
     ]
    }
   ],
   "source": [
    "# Calculate the length of each sequence\n",
    "sequence_lengths = [len(sequence) for sequence in sequences]\n",
    "\n",
    "# Find the maximum length\n",
    "max_sequence_length = max(sequence_lengths)\n",
    "\n",
    "print(\"Maximum sequence length:\", max_sequence_length)"
   ]
  },
  {
   "cell_type": "code",
   "execution_count": 13,
   "metadata": {},
   "outputs": [],
   "source": [
    "# Given Maximum sequence length, setting the maxlen to 500 seems reasonable to run the model.\n",
    "maxlen = 500\n",
    "datatokenized = pad_sequences(sequences, maxlen=maxlen) "
   ]
  },
  {
   "cell_type": "markdown",
   "metadata": {},
   "source": [
    "### Preparing Labels"
   ]
  },
  {
   "cell_type": "code",
   "execution_count": 14,
   "metadata": {},
   "outputs": [],
   "source": [
    "# Encode the 'Ticker Sentiment Label' as integers and then convert to one-hot encoded labels for neural network training.\n",
    "label_encoder = LabelEncoder()\n",
    "integer_encoded = label_encoder.fit_transform(data['Ticker Sentiment Label'])\n",
    "labels = to_categorical(integer_encoded)"
   ]
  },
  {
   "cell_type": "markdown",
   "metadata": {},
   "source": [
    "### Splitting the Dataset into Training and Testing Sets"
   ]
  },
  {
   "cell_type": "code",
   "execution_count": 15,
   "metadata": {},
   "outputs": [],
   "source": [
    "# Split the tokenized data and labels into training and testing sets, with 20% of the data reserved for testing.\n",
    "X_train, X_test, y_train, y_test = train_test_split(datatokenized, labels, test_size=0.2, random_state=42)"
   ]
  },
  {
   "cell_type": "code",
   "execution_count": 16,
   "metadata": {},
   "outputs": [
    {
     "name": "stdout",
     "output_type": "stream",
     "text": [
      "Shape of data tokenized: (68175, 500)\n",
      "First few entries in data tokenized:\n",
      " [[   0    0    0 ...  140  852  268]\n",
      " [   0    0    0 ...  140  852  268]\n",
      " [   0    0    0 ... 3038 2805 1876]\n",
      " [   0    0    0 ... 3038 2805 1876]\n",
      " [   0    0    0 ... 3038 2805 1876]]\n",
      "Data type of data tokenized: int32\n"
     ]
    }
   ],
   "source": [
    "# Display the shape, first few entries, and data type of the tokenized data for verification and insight.\n",
    "print(\"Shape of data tokenized:\", datatokenized.shape)\n",
    "print(\"First few entries in data tokenized:\\n\", datatokenized[:5])\n",
    "print(\"Data type of data tokenized:\", datatokenized.dtype)"
   ]
  },
  {
   "cell_type": "code",
   "execution_count": 17,
   "metadata": {},
   "outputs": [
    {
     "name": "stdout",
     "output_type": "stream",
     "text": [
      "Shape of labels: (68175, 5)\n",
      "First few labels:\n",
      " [[0. 1. 0. 0. 0.]\n",
      " [0. 0. 1. 0. 0.]\n",
      " [0. 0. 1. 0. 0.]\n",
      " [0. 0. 1. 0. 0.]\n",
      " [0. 0. 1. 0. 0.]]\n",
      "Data type of labels: float32\n"
     ]
    }
   ],
   "source": [
    "# Output the shape, first few instances, and data type of the labels to ensure correct formatting for model training.\n",
    "print(\"Shape of labels:\", labels.shape)\n",
    "print(\"First few labels:\\n\", labels[:5])\n",
    "print(\"Data type of labels:\", labels.dtype)"
   ]
  },
  {
   "cell_type": "code",
   "execution_count": 18,
   "metadata": {},
   "outputs": [
    {
     "name": "stdout",
     "output_type": "stream",
     "text": [
      "Size of X_train: 54540\n",
      "Size of X_test: 13635\n",
      "Size of y_train: 54540\n",
      "Size of y_test: 13635\n"
     ]
    }
   ],
   "source": [
    "# Display the sizes of the training and testing sets for both features and labels to confirm the split proportions.\n",
    "print(\"Size of X_train:\", len(X_train))\n",
    "print(\"Size of X_test:\", len(X_test))\n",
    "print(\"Size of y_train:\", len(y_train))\n",
    "print(\"Size of y_test:\", len(y_test))"
   ]
  },
  {
   "cell_type": "markdown",
   "metadata": {},
   "source": [
    "## Approach - LSTM"
   ]
  },
  {
   "cell_type": "markdown",
   "metadata": {},
   "source": [
    "### Building the Deep Learning Model"
   ]
  },
  {
   "cell_type": "code",
   "execution_count": 23,
   "metadata": {},
   "outputs": [
    {
     "name": "stdout",
     "output_type": "stream",
     "text": [
      "WARNING:tensorflow:From c:\\Users\\CATALINA\\anaconda3\\envs\\finalproject-venv\\lib\\site-packages\\keras\\src\\backend.py:873: The name tf.get_default_graph is deprecated. Please use tf.compat.v1.get_default_graph instead.\n",
      "\n"
     ]
    }
   ],
   "source": [
    "# Define the neural network model: an LSTM with an embedding layer for text data and a dense layer for multi-class classification.\n",
    "embedding_dim = 128\n",
    "lstm_units = 50\n",
    "num_classes = labels.shape[1]  \n",
    "\n",
    "model = Sequential()\n",
    "model.add(Embedding(input_dim=max_features, output_dim=embedding_dim, input_length=maxlen))\n",
    "model.add(LSTM(lstm_units, dropout=0.2, recurrent_dropout=0.2))\n",
    "model.add(Dense(num_classes, activation='softmax'))  "
   ]
  },
  {
   "cell_type": "markdown",
   "metadata": {},
   "source": [
    "### Compiling the Model"
   ]
  },
  {
   "cell_type": "code",
   "execution_count": 26,
   "metadata": {},
   "outputs": [
    {
     "name": "stdout",
     "output_type": "stream",
     "text": [
      "Model: \"sequential\"\n",
      "_________________________________________________________________\n",
      " Layer (type)                Output Shape              Param #   \n",
      "=================================================================\n",
      " embedding (Embedding)       (None, 500, 128)          1280000   \n",
      "                                                                 \n",
      " lstm (LSTM)                 (None, 50)                35800     \n",
      "                                                                 \n",
      " dense (Dense)               (None, 5)                 255       \n",
      "                                                                 \n",
      "=================================================================\n",
      "Total params: 1316055 (5.02 MB)\n",
      "Trainable params: 1316055 (5.02 MB)\n",
      "Non-trainable params: 0 (0.00 Byte)\n",
      "_________________________________________________________________\n"
     ]
    }
   ],
   "source": [
    "# Compile the model with categorical cross-entropy loss function, Adam optimizer, and accuracy as the metric.\n",
    "# The adam optimizer is chosen for several reasons:\n",
    "# 1. It is known for being computationally efficient, requiring relatively low memory.\n",
    "# 2. It maintains a learning rate for each network parameter (weight) and adapts these rates throughout the training process.\n",
    "# 3. It is faster than other optimizers like stochastic gradient descent (SGD), especially in complex neural networks and large datasets.\n",
    "model.compile(loss='categorical_crossentropy', optimizer='adam', metrics=['accuracy'])\n",
    "model.summary()"
   ]
  },
  {
   "cell_type": "markdown",
   "metadata": {},
   "source": [
    "### Training the Model"
   ]
  },
  {
   "cell_type": "code",
   "execution_count": 25,
   "metadata": {},
   "outputs": [
    {
     "name": "stdout",
     "output_type": "stream",
     "text": [
      "Epoch 1/10\n",
      "WARNING:tensorflow:From c:\\Users\\CATALINA\\anaconda3\\envs\\finalproject-venv\\lib\\site-packages\\keras\\src\\utils\\tf_utils.py:492: The name tf.ragged.RaggedTensorValue is deprecated. Please use tf.compat.v1.ragged.RaggedTensorValue instead.\n",
      "\n",
      "WARNING:tensorflow:From c:\\Users\\CATALINA\\anaconda3\\envs\\finalproject-venv\\lib\\site-packages\\keras\\src\\engine\\base_layer_utils.py:384: The name tf.executing_eagerly_outside_functions is deprecated. Please use tf.compat.v1.executing_eagerly_outside_functions instead.\n",
      "\n",
      "1534/1534 [==============================] - 1111s 722ms/step - loss: 0.8276 - accuracy: 0.6786 - val_loss: 0.7645 - val_accuracy: 0.6934\n",
      "Epoch 2/10\n",
      "1534/1534 [==============================] - 1153s 752ms/step - loss: 0.6995 - accuracy: 0.7177 - val_loss: 0.7420 - val_accuracy: 0.6977\n",
      "Epoch 3/10\n",
      "1534/1534 [==============================] - 1179s 769ms/step - loss: 0.6417 - accuracy: 0.7376 - val_loss: 0.7468 - val_accuracy: 0.7024\n",
      "Epoch 4/10\n",
      "1534/1534 [==============================] - 1155s 753ms/step - loss: 0.6060 - accuracy: 0.7484 - val_loss: 0.7639 - val_accuracy: 0.7041\n",
      "Epoch 5/10\n",
      "1534/1534 [==============================] - 1076s 701ms/step - loss: 0.5775 - accuracy: 0.7568 - val_loss: 0.7712 - val_accuracy: 0.7035\n",
      "Epoch 6/10\n",
      "1534/1534 [==============================] - 1038s 677ms/step - loss: 0.5558 - accuracy: 0.7605 - val_loss: 0.8120 - val_accuracy: 0.7017\n",
      "Epoch 7/10\n",
      "1534/1534 [==============================] - 1066s 695ms/step - loss: 0.5377 - accuracy: 0.7647 - val_loss: 0.8354 - val_accuracy: 0.7052\n",
      "Epoch 8/10\n",
      "1534/1534 [==============================] - 1217s 793ms/step - loss: 0.5239 - accuracy: 0.7689 - val_loss: 0.8545 - val_accuracy: 0.7000\n",
      "Epoch 9/10\n",
      "1534/1534 [==============================] - 1183s 771ms/step - loss: 0.5133 - accuracy: 0.7703 - val_loss: 0.8889 - val_accuracy: 0.7032\n",
      "Epoch 10/10\n",
      "1534/1534 [==============================] - 1231s 803ms/step - loss: 0.5020 - accuracy: 0.7744 - val_loss: 0.9042 - val_accuracy: 0.6995\n"
     ]
    }
   ],
   "source": [
    "# Train the model on the training set with a batch size of 32 and 10 epochs, using 10% of the data for validation.\n",
    "history = model.fit(X_train, y_train, batch_size=32, epochs=10, validation_split=0.1)"
   ]
  },
  {
   "cell_type": "markdown",
   "metadata": {},
   "source": [
    "### Evaluating the Model"
   ]
  },
  {
   "cell_type": "code",
   "execution_count": 24,
   "metadata": {},
   "outputs": [
    {
     "name": "stdout",
     "output_type": "stream",
     "text": [
      "427/427 [==============================] - 44s 103ms/step - loss: 0.7770 - accuracy: 0.6986\n",
      "Test accuracy: 69.86%\n"
     ]
    }
   ],
   "source": [
    "# Evaluate the model's performance on the test set and print out the test accuracy as a percentage.\n",
    "test_loss, test_accuracy = model.evaluate(X_test, y_test)\n",
    "print(f\"Test accuracy: {test_accuracy * 100:.2f}%\")"
   ]
  },
  {
   "cell_type": "code",
   "execution_count": 25,
   "metadata": {},
   "outputs": [
    {
     "data": {
      "image/png": "[encoded data removed]",
      "text/plain": [
       "<Figure size 1200x500 with 2 Axes>"
      ]
     },
     "metadata": {},
     "output_type": "display_data"
    }
   ],
   "source": [
    "# Plot the training and validation accuracy and loss over epochs to visualize the model's performance and convergence.\n",
    "acc = history.history['accuracy']\n",
    "val_acc = history.history['val_accuracy']\n",
    "loss = history.history['loss']\n",
    "val_loss = history.history['val_loss']\n",
    "epochs = range(1, len(acc) + 1)\n",
    "\n",
    "# Plotting training and validation accuracy\n",
    "plt.figure(figsize=(12, 5))\n",
    "plt.subplot(1, 2, 1)\n",
    "plt.plot(epochs, acc, 'bo', label='Training Accuracy')\n",
    "plt.plot(epochs, val_acc, 'b', label='Validation Accuracy')\n",
    "plt.title('Training and Validation Accuracy')\n",
    "plt.xlabel('Epochs')\n",
    "plt.ylabel('Accuracy')\n",
    "plt.legend()\n",
    "\n",
    "# Plotting training and validation loss\n",
    "plt.subplot(1, 2, 2)\n",
    "plt.plot(epochs, loss, 'bo', label='Training Loss')\n",
    "plt.plot(epochs, val_loss, 'b', label='Validation Loss')\n",
    "plt.title('Training and Validation Loss')\n",
    "plt.xlabel('Epochs')\n",
    "plt.ylabel('Loss')\n",
    "plt.legend()\n",
    "\n",
    "plt.tight_layout()\n",
    "plt.show()"
   ]
  },
  {
   "cell_type": "markdown",
   "metadata": {},
   "source": [
    "## Approach LSTM - EarlyStopping"
   ]
  },
  {
   "cell_type": "code",
   "execution_count": 19,
   "metadata": {},
   "outputs": [],
   "source": [
    "embedding_dim = 128\n",
    "lstm_units = 30  \n",
    "num_classes = labels.shape[1]"
   ]
  },
  {
   "cell_type": "code",
   "execution_count": 20,
   "metadata": {},
   "outputs": [
    {
     "name": "stdout",
     "output_type": "stream",
     "text": [
      "WARNING:tensorflow:From c:\\Users\\CATALINA\\anaconda3\\envs\\finalproject-venv\\lib\\site-packages\\keras\\src\\backend.py:873: The name tf.get_default_graph is deprecated. Please use tf.compat.v1.get_default_graph instead.\n",
      "\n"
     ]
    }
   ],
   "source": [
    "# Building the model\n",
    "model = Sequential()\n",
    "model.add(Embedding(input_dim=max_features, output_dim=embedding_dim, input_length=maxlen))\n",
    "model.add(LSTM(lstm_units, dropout=0.2, recurrent_dropout=0.2))\n",
    "model.add(Dropout(0.5))  # Added Dropout layer\n",
    "model.add(Dense(num_classes, activation='softmax', kernel_regularizer=l2(0.01)))  # Added L2 regularization"
   ]
  },
  {
   "cell_type": "code",
   "execution_count": 21,
   "metadata": {},
   "outputs": [
    {
     "name": "stdout",
     "output_type": "stream",
     "text": [
      "WARNING:tensorflow:From c:\\Users\\CATALINA\\anaconda3\\envs\\finalproject-venv\\lib\\site-packages\\keras\\src\\optimizers\\__init__.py:309: The name tf.train.Optimizer is deprecated. Please use tf.compat.v1.train.Optimizer instead.\n",
      "\n"
     ]
    }
   ],
   "source": [
    "# Compile the model\n",
    "model.compile(loss='categorical_crossentropy', optimizer='adam', metrics=['accuracy'])\n"
   ]
  },
  {
   "cell_type": "code",
   "execution_count": 22,
   "metadata": {},
   "outputs": [],
   "source": [
    "# Early stopping callback\n",
    "early_stopping = EarlyStopping(monitor='val_loss', patience=3, restore_best_weights=True)"
   ]
  },
  {
   "cell_type": "code",
   "execution_count": 23,
   "metadata": {},
   "outputs": [
    {
     "name": "stdout",
     "output_type": "stream",
     "text": [
      "Epoch 1/10\n",
      "WARNING:tensorflow:From c:\\Users\\CATALINA\\anaconda3\\envs\\finalproject-venv\\lib\\site-packages\\keras\\src\\utils\\tf_utils.py:492: The name tf.ragged.RaggedTensorValue is deprecated. Please use tf.compat.v1.ragged.RaggedTensorValue instead.\n",
      "\n",
      "WARNING:tensorflow:From c:\\Users\\CATALINA\\anaconda3\\envs\\finalproject-venv\\lib\\site-packages\\keras\\src\\engine\\base_layer_utils.py:384: The name tf.executing_eagerly_outside_functions is deprecated. Please use tf.compat.v1.executing_eagerly_outside_functions instead.\n",
      "\n",
      "1534/1534 [==============================] - 913s 593ms/step - loss: 0.9114 - accuracy: 0.6724 - val_loss: 0.8152 - val_accuracy: 0.6817\n",
      "Epoch 2/10\n",
      "1534/1534 [==============================] - 1016s 662ms/step - loss: 0.7726 - accuracy: 0.7050 - val_loss: 0.7920 - val_accuracy: 0.6896\n",
      "Epoch 3/10\n",
      "1534/1534 [==============================] - 1079s 703ms/step - loss: 0.7169 - accuracy: 0.7234 - val_loss: 0.7715 - val_accuracy: 0.6931\n",
      "Epoch 4/10\n",
      "1534/1534 [==============================] - 1045s 681ms/step - loss: 0.6847 - accuracy: 0.7356 - val_loss: 0.7707 - val_accuracy: 0.6969\n",
      "Epoch 5/10\n",
      "1534/1534 [==============================] - 1021s 666ms/step - loss: 0.6609 - accuracy: 0.7425 - val_loss: 0.7720 - val_accuracy: 0.6982\n",
      "Epoch 6/10\n",
      "1534/1534 [==============================] - 1042s 679ms/step - loss: 0.6421 - accuracy: 0.7501 - val_loss: 0.7869 - val_accuracy: 0.6940\n",
      "Epoch 7/10\n",
      "1534/1534 [==============================] - 1152s 751ms/step - loss: 0.6267 - accuracy: 0.7560 - val_loss: 0.7808 - val_accuracy: 0.6971\n"
     ]
    }
   ],
   "source": [
    "# Train the model with early stopping\n",
    "history = model.fit(X_train, y_train, batch_size=32, epochs=10, validation_split=0.1, callbacks=[early_stopping])"
   ]
  },
  {
   "cell_type": "markdown",
   "metadata": {},
   "source": [
    "### Evaluating the Model"
   ]
  },
  {
   "cell_type": "code",
   "execution_count": 31,
   "metadata": {},
   "outputs": [
    {
     "name": "stdout",
     "output_type": "stream",
     "text": [
      "427/427 [==============================] - 38s 89ms/step - loss: 0.7770 - accuracy: 0.6986\n",
      "Test Accuracy: 69.86%\n"
     ]
    }
   ],
   "source": [
    "# Evaluate the model's performance on the test set and print out the test accuracy as a percentage.\n",
    "# Evaluate the model\n",
    "loss, accuracy = model.evaluate(X_test, y_test)\n",
    "print(f'Test Accuracy: {accuracy*100:.2f}%')"
   ]
  },
  {
   "cell_type": "code",
   "execution_count": 27,
   "metadata": {},
   "outputs": [
    {
     "name": "stdout",
     "output_type": "stream",
     "text": [
      "427/427 [==============================] - 39s 90ms/step\n"
     ]
    }
   ],
   "source": [
    "# Making predictions \n",
    "predictions = model.predict(X_test)\n",
    "predicted_classes = np.argmax(predictions, axis=1)"
   ]
  },
  {
   "cell_type": "code",
   "execution_count": 29,
   "metadata": {},
   "outputs": [
    {
     "data": {
      "image/png": "[encoded data removed]",
      "text/plain": [
       "<Figure size 1500x500 with 2 Axes>"
      ]
     },
     "metadata": {},
     "output_type": "display_data"
    }
   ],
   "source": [
    "# Plotting training and validation accuracy and loss over epochs to assess model performance.\n",
    "# The figure consists of two subplots: one for accuracy and another for loss, each with training and validation curves.\n",
    "acc = history.history['accuracy']\n",
    "val_acc = history.history['val_accuracy']\n",
    "loss = history.history['loss']\n",
    "val_loss = history.history['val_loss']\n",
    "epochs_range = range(len(acc))\n",
    "\n",
    "plt.figure(figsize=(15, 5))\n",
    "\n",
    "plt.subplot(1, 2, 1)\n",
    "plt.plot(epochs_range, acc, label='Training Accuracy')\n",
    "plt.plot(epochs_range, val_acc, label='Validation Accuracy')\n",
    "plt.legend(loc='lower right')\n",
    "plt.title('Training and Validation Accuracy')\n",
    "\n",
    "plt.subplot(1, 2, 2)\n",
    "plt.plot(epochs_range, loss, label='Training Loss')\n",
    "plt.plot(epochs_range, val_loss, label='Validation Loss')\n",
    "plt.legend(loc='upper right')\n",
    "plt.title('Training and Validation Loss')\n",
    "plt.show()"
   ]
  }
 ],
 "metadata": {
  "kernelspec": {
   "display_name": "finalproject-venv",
   "language": "python",
   "name": "python3"
  },
  "language_info": {
   "codemirror_mode": {
    "name": "ipython",
    "version": 3
   },
   "file_extension": ".py",
   "mimetype": "text/x-python",
   "name": "python",
   "nbconvert_exporter": "python",
   "pygments_lexer": "ipython3",
   "version": "3.9.18"
  }
 },
 "nbformat": 4,
 "nbformat_minor": 2
}
