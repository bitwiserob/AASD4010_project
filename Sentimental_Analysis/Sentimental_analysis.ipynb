{
 "cells": [
  {
   "cell_type": "code",
   "execution_count": 35,
   "metadata": {},
   "outputs": [
    {
     "name": "stderr",
     "output_type": "stream",
     "text": [
      "[nltk_data] Downloading package punkt to\n",
      "[nltk_data]     C:\\Users\\CATALINA\\AppData\\Roaming\\nltk_data...\n",
      "[nltk_data]   Package punkt is already up-to-date!\n",
      "[nltk_data] Downloading package stopwords to\n",
      "[nltk_data]     C:\\Users\\CATALINA\\AppData\\Roaming\\nltk_data...\n",
      "[nltk_data]   Package stopwords is already up-to-date!\n",
      "[nltk_data] Downloading package wordnet to\n",
      "[nltk_data]     C:\\Users\\CATALINA\\AppData\\Roaming\\nltk_data...\n",
      "[nltk_data]   Package wordnet is already up-to-date!\n"
     ]
    }
   ],
   "source": [
    "import pandas as pd\n",
    "import numpy as np\n",
    "from sklearn.preprocessing import LabelEncoder\n",
    "import nltk\n",
    "import re\n",
    "from nltk.corpus import stopwords\n",
    "from nltk.stem import WordNetLemmatizer\n",
    "from nltk.tokenize import word_tokenize\n",
    "nltk.download('punkt')\n",
    "nltk.download('stopwords')\n",
    "nltk.download('wordnet')\n",
    "from tensorflow.keras.preprocessing.text import Tokenizer\n",
    "from tensorflow.keras.preprocessing.sequence import pad_sequences"
   ]
  },
  {
   "cell_type": "code",
   "execution_count": 61,
   "metadata": {},
   "outputs": [
    {
     "data": {
      "text/html": [
       "<div>\n",
       "<style scoped>\n",
       "    .dataframe tbody tr th:only-of-type {\n",
       "        vertical-align: middle;\n",
       "    }\n",
       "\n",
       "    .dataframe tbody tr th {\n",
       "        vertical-align: top;\n",
       "    }\n",
       "\n",
       "    .dataframe thead th {\n",
       "        text-align: right;\n",
       "    }\n",
       "</style>\n",
       "<table border=\"1\" class=\"dataframe\">\n",
       "  <thead>\n",
       "    <tr style=\"text-align: right;\">\n",
       "      <th></th>\n",
       "      <th>Ticker</th>\n",
       "      <th>Title</th>\n",
       "      <th>URL</th>\n",
       "      <th>Time Published</th>\n",
       "      <th>Authors</th>\n",
       "      <th>Summary</th>\n",
       "      <th>Relevance Score</th>\n",
       "      <th>Ticker Sentiment Score</th>\n",
       "      <th>Ticker Sentiment Label</th>\n",
       "      <th>Technology</th>\n",
       "      <th>...</th>\n",
       "      <th>Retail &amp; Wholesale</th>\n",
       "      <th>Economy - Monetary</th>\n",
       "      <th>Energy &amp; Transportation</th>\n",
       "      <th>Life Sciences</th>\n",
       "      <th>Blockchain</th>\n",
       "      <th>IPO</th>\n",
       "      <th>Earnings</th>\n",
       "      <th>Mergers &amp; Acquisitions</th>\n",
       "      <th>Manufacturing</th>\n",
       "      <th>Finance</th>\n",
       "    </tr>\n",
       "  </thead>\n",
       "  <tbody>\n",
       "    <tr>\n",
       "      <th>0</th>\n",
       "      <td>META</td>\n",
       "      <td>Ads running on Meta saw return on spending inc...</td>\n",
       "      <td>https://www.business-standard.com/companies/ne...</td>\n",
       "      <td>2024-01-18 17:28:08</td>\n",
       "      <td>['Bloomberg']</td>\n",
       "      <td>Ads running on Meta Platforms Inc.'s apps saw ...</td>\n",
       "      <td>0.250386</td>\n",
       "      <td>0.424632</td>\n",
       "      <td>Bullish</td>\n",
       "      <td>1.000000</td>\n",
       "      <td>...</td>\n",
       "      <td>0.000000</td>\n",
       "      <td>0.000000</td>\n",
       "      <td>0.000000</td>\n",
       "      <td>0.000000</td>\n",
       "      <td>0.0</td>\n",
       "      <td>0.000000</td>\n",
       "      <td>0.000000</td>\n",
       "      <td>0.00000</td>\n",
       "      <td>0.000000</td>\n",
       "      <td>0.000000</td>\n",
       "    </tr>\n",
       "    <tr>\n",
       "      <th>1</th>\n",
       "      <td>AAPL</td>\n",
       "      <td>Ads running on Meta saw return on spending inc...</td>\n",
       "      <td>https://www.business-standard.com/companies/ne...</td>\n",
       "      <td>2024-01-18 17:28:08</td>\n",
       "      <td>['Bloomberg']</td>\n",
       "      <td>Ads running on Meta Platforms Inc.'s apps saw ...</td>\n",
       "      <td>0.250386</td>\n",
       "      <td>0.094962</td>\n",
       "      <td>Neutral</td>\n",
       "      <td>1.000000</td>\n",
       "      <td>...</td>\n",
       "      <td>0.000000</td>\n",
       "      <td>0.000000</td>\n",
       "      <td>0.000000</td>\n",
       "      <td>0.000000</td>\n",
       "      <td>0.0</td>\n",
       "      <td>0.000000</td>\n",
       "      <td>0.000000</td>\n",
       "      <td>0.00000</td>\n",
       "      <td>0.000000</td>\n",
       "      <td>0.000000</td>\n",
       "    </tr>\n",
       "    <tr>\n",
       "      <th>2</th>\n",
       "      <td>HUM</td>\n",
       "      <td>Here are the reasons why a new Wall Street upg...</td>\n",
       "      <td>https://www.cnbc.com/2024/01/18/what-activist-...</td>\n",
       "      <td>2024-01-18 16:48:19</td>\n",
       "      <td>['Jeff Marks']</td>\n",
       "      <td>The Investing Club holds its \"Morning Meeting\"...</td>\n",
       "      <td>0.298567</td>\n",
       "      <td>0.098222</td>\n",
       "      <td>Neutral</td>\n",
       "      <td>0.500000</td>\n",
       "      <td>...</td>\n",
       "      <td>0.000000</td>\n",
       "      <td>0.000000</td>\n",
       "      <td>0.000000</td>\n",
       "      <td>0.000000</td>\n",
       "      <td>0.0</td>\n",
       "      <td>0.000000</td>\n",
       "      <td>0.158519</td>\n",
       "      <td>0.00000</td>\n",
       "      <td>0.000000</td>\n",
       "      <td>0.500000</td>\n",
       "    </tr>\n",
       "    <tr>\n",
       "      <th>3</th>\n",
       "      <td>AAPL</td>\n",
       "      <td>Here are the reasons why a new Wall Street upg...</td>\n",
       "      <td>https://www.cnbc.com/2024/01/18/what-activist-...</td>\n",
       "      <td>2024-01-18 16:48:19</td>\n",
       "      <td>['Jeff Marks']</td>\n",
       "      <td>The Investing Club holds its \"Morning Meeting\"...</td>\n",
       "      <td>0.298567</td>\n",
       "      <td>0.098222</td>\n",
       "      <td>Neutral</td>\n",
       "      <td>0.500000</td>\n",
       "      <td>...</td>\n",
       "      <td>0.000000</td>\n",
       "      <td>0.000000</td>\n",
       "      <td>0.000000</td>\n",
       "      <td>0.000000</td>\n",
       "      <td>0.0</td>\n",
       "      <td>0.000000</td>\n",
       "      <td>0.158519</td>\n",
       "      <td>0.00000</td>\n",
       "      <td>0.000000</td>\n",
       "      <td>0.500000</td>\n",
       "    </tr>\n",
       "    <tr>\n",
       "      <th>4</th>\n",
       "      <td>BAC</td>\n",
       "      <td>Here are the reasons why a new Wall Street upg...</td>\n",
       "      <td>https://www.cnbc.com/2024/01/18/what-activist-...</td>\n",
       "      <td>2024-01-18 16:48:19</td>\n",
       "      <td>['Jeff Marks']</td>\n",
       "      <td>The Investing Club holds its \"Morning Meeting\"...</td>\n",
       "      <td>0.076358</td>\n",
       "      <td>0.045194</td>\n",
       "      <td>Neutral</td>\n",
       "      <td>0.500000</td>\n",
       "      <td>...</td>\n",
       "      <td>0.000000</td>\n",
       "      <td>0.000000</td>\n",
       "      <td>0.000000</td>\n",
       "      <td>0.000000</td>\n",
       "      <td>0.0</td>\n",
       "      <td>0.000000</td>\n",
       "      <td>0.158519</td>\n",
       "      <td>0.00000</td>\n",
       "      <td>0.000000</td>\n",
       "      <td>0.500000</td>\n",
       "    </tr>\n",
       "    <tr>\n",
       "      <th>...</th>\n",
       "      <td>...</td>\n",
       "      <td>...</td>\n",
       "      <td>...</td>\n",
       "      <td>...</td>\n",
       "      <td>...</td>\n",
       "      <td>...</td>\n",
       "      <td>...</td>\n",
       "      <td>...</td>\n",
       "      <td>...</td>\n",
       "      <td>...</td>\n",
       "      <td>...</td>\n",
       "      <td>...</td>\n",
       "      <td>...</td>\n",
       "      <td>...</td>\n",
       "      <td>...</td>\n",
       "      <td>...</td>\n",
       "      <td>...</td>\n",
       "      <td>...</td>\n",
       "      <td>...</td>\n",
       "      <td>...</td>\n",
       "      <td>...</td>\n",
       "    </tr>\n",
       "    <tr>\n",
       "      <th>79492</th>\n",
       "      <td>CRWD</td>\n",
       "      <td>2 Cybersecurity Stocks You Can Buy and Hold fo...</td>\n",
       "      <td>https://www.fool.com/investing/2023/08/27/2-cy...</td>\n",
       "      <td>2023-08-27 10:30:00</td>\n",
       "      <td>['Jeff Santoro']</td>\n",
       "      <td>These two companies have bright futures despit...</td>\n",
       "      <td>0.307731</td>\n",
       "      <td>0.219216</td>\n",
       "      <td>Somewhat-Bullish</td>\n",
       "      <td>1.000000</td>\n",
       "      <td>...</td>\n",
       "      <td>0.000000</td>\n",
       "      <td>0.000000</td>\n",
       "      <td>0.000000</td>\n",
       "      <td>0.000000</td>\n",
       "      <td>0.0</td>\n",
       "      <td>0.000000</td>\n",
       "      <td>0.999975</td>\n",
       "      <td>0.00000</td>\n",
       "      <td>0.000000</td>\n",
       "      <td>0.000000</td>\n",
       "    </tr>\n",
       "    <tr>\n",
       "      <th>79493</th>\n",
       "      <td>PATH</td>\n",
       "      <td>3 Supercharged Tech Stocks to Buy Without Any ...</td>\n",
       "      <td>https://www.fool.com/investing/2023/08/26/3-su...</td>\n",
       "      <td>2023-08-26 10:45:00</td>\n",
       "      <td>['Keithen Drury']</td>\n",
       "      <td>There are still some growth stocks available t...</td>\n",
       "      <td>0.472821</td>\n",
       "      <td>0.306128</td>\n",
       "      <td>Somewhat-Bullish</td>\n",
       "      <td>1.000000</td>\n",
       "      <td>...</td>\n",
       "      <td>0.000000</td>\n",
       "      <td>0.000000</td>\n",
       "      <td>0.000000</td>\n",
       "      <td>0.000000</td>\n",
       "      <td>0.0</td>\n",
       "      <td>0.000000</td>\n",
       "      <td>0.744043</td>\n",
       "      <td>0.00000</td>\n",
       "      <td>0.000000</td>\n",
       "      <td>0.000000</td>\n",
       "    </tr>\n",
       "    <tr>\n",
       "      <th>79494</th>\n",
       "      <td>CRWD</td>\n",
       "      <td>3 Supercharged Tech Stocks to Buy Without Any ...</td>\n",
       "      <td>https://www.fool.com/investing/2023/08/26/3-su...</td>\n",
       "      <td>2023-08-26 10:45:00</td>\n",
       "      <td>['Keithen Drury']</td>\n",
       "      <td>There are still some growth stocks available t...</td>\n",
       "      <td>0.425925</td>\n",
       "      <td>0.135673</td>\n",
       "      <td>Neutral</td>\n",
       "      <td>1.000000</td>\n",
       "      <td>...</td>\n",
       "      <td>0.000000</td>\n",
       "      <td>0.000000</td>\n",
       "      <td>0.000000</td>\n",
       "      <td>0.000000</td>\n",
       "      <td>0.0</td>\n",
       "      <td>0.000000</td>\n",
       "      <td>0.744043</td>\n",
       "      <td>0.00000</td>\n",
       "      <td>0.000000</td>\n",
       "      <td>0.000000</td>\n",
       "    </tr>\n",
       "    <tr>\n",
       "      <th>79495</th>\n",
       "      <td>DE</td>\n",
       "      <td>Weekly Roundup</td>\n",
       "      <td>https://aap.thestreet.com/story/16131864/1/wee...</td>\n",
       "      <td>2023-08-25 22:01:00</td>\n",
       "      <td>[]</td>\n",
       "      <td>Stocks staged a late comeback this week after ...</td>\n",
       "      <td>0.020001</td>\n",
       "      <td>0.109825</td>\n",
       "      <td>Neutral</td>\n",
       "      <td>0.166667</td>\n",
       "      <td>...</td>\n",
       "      <td>0.166667</td>\n",
       "      <td>0.999682</td>\n",
       "      <td>0.166667</td>\n",
       "      <td>0.166667</td>\n",
       "      <td>0.0</td>\n",
       "      <td>0.310843</td>\n",
       "      <td>1.000000</td>\n",
       "      <td>0.77141</td>\n",
       "      <td>0.166667</td>\n",
       "      <td>0.166667</td>\n",
       "    </tr>\n",
       "    <tr>\n",
       "      <th>79496</th>\n",
       "      <td>AAPL</td>\n",
       "      <td>Weekly Roundup</td>\n",
       "      <td>https://aap.thestreet.com/story/16131864/1/wee...</td>\n",
       "      <td>2023-08-25 22:01:00</td>\n",
       "      <td>[]</td>\n",
       "      <td>Stocks staged a late comeback this week after ...</td>\n",
       "      <td>0.013334</td>\n",
       "      <td>0.090535</td>\n",
       "      <td>Neutral</td>\n",
       "      <td>0.166667</td>\n",
       "      <td>...</td>\n",
       "      <td>0.166667</td>\n",
       "      <td>0.999682</td>\n",
       "      <td>0.166667</td>\n",
       "      <td>0.166667</td>\n",
       "      <td>0.0</td>\n",
       "      <td>0.310843</td>\n",
       "      <td>1.000000</td>\n",
       "      <td>0.77141</td>\n",
       "      <td>0.166667</td>\n",
       "      <td>0.166667</td>\n",
       "    </tr>\n",
       "  </tbody>\n",
       "</table>\n",
       "<p>79497 rows × 24 columns</p>\n",
       "</div>"
      ],
      "text/plain": [
       "      Ticker                                              Title  \\\n",
       "0       META  Ads running on Meta saw return on spending inc...   \n",
       "1       AAPL  Ads running on Meta saw return on spending inc...   \n",
       "2        HUM  Here are the reasons why a new Wall Street upg...   \n",
       "3       AAPL  Here are the reasons why a new Wall Street upg...   \n",
       "4        BAC  Here are the reasons why a new Wall Street upg...   \n",
       "...      ...                                                ...   \n",
       "79492   CRWD  2 Cybersecurity Stocks You Can Buy and Hold fo...   \n",
       "79493   PATH  3 Supercharged Tech Stocks to Buy Without Any ...   \n",
       "79494   CRWD  3 Supercharged Tech Stocks to Buy Without Any ...   \n",
       "79495     DE                                     Weekly Roundup   \n",
       "79496   AAPL                                     Weekly Roundup   \n",
       "\n",
       "                                                     URL       Time Published  \\\n",
       "0      https://www.business-standard.com/companies/ne...  2024-01-18 17:28:08   \n",
       "1      https://www.business-standard.com/companies/ne...  2024-01-18 17:28:08   \n",
       "2      https://www.cnbc.com/2024/01/18/what-activist-...  2024-01-18 16:48:19   \n",
       "3      https://www.cnbc.com/2024/01/18/what-activist-...  2024-01-18 16:48:19   \n",
       "4      https://www.cnbc.com/2024/01/18/what-activist-...  2024-01-18 16:48:19   \n",
       "...                                                  ...                  ...   \n",
       "79492  https://www.fool.com/investing/2023/08/27/2-cy...  2023-08-27 10:30:00   \n",
       "79493  https://www.fool.com/investing/2023/08/26/3-su...  2023-08-26 10:45:00   \n",
       "79494  https://www.fool.com/investing/2023/08/26/3-su...  2023-08-26 10:45:00   \n",
       "79495  https://aap.thestreet.com/story/16131864/1/wee...  2023-08-25 22:01:00   \n",
       "79496  https://aap.thestreet.com/story/16131864/1/wee...  2023-08-25 22:01:00   \n",
       "\n",
       "                 Authors                                            Summary  \\\n",
       "0          ['Bloomberg']  Ads running on Meta Platforms Inc.'s apps saw ...   \n",
       "1          ['Bloomberg']  Ads running on Meta Platforms Inc.'s apps saw ...   \n",
       "2         ['Jeff Marks']  The Investing Club holds its \"Morning Meeting\"...   \n",
       "3         ['Jeff Marks']  The Investing Club holds its \"Morning Meeting\"...   \n",
       "4         ['Jeff Marks']  The Investing Club holds its \"Morning Meeting\"...   \n",
       "...                  ...                                                ...   \n",
       "79492   ['Jeff Santoro']  These two companies have bright futures despit...   \n",
       "79493  ['Keithen Drury']  There are still some growth stocks available t...   \n",
       "79494  ['Keithen Drury']  There are still some growth stocks available t...   \n",
       "79495                 []  Stocks staged a late comeback this week after ...   \n",
       "79496                 []  Stocks staged a late comeback this week after ...   \n",
       "\n",
       "       Relevance Score  Ticker Sentiment Score Ticker Sentiment Label  \\\n",
       "0             0.250386                0.424632                Bullish   \n",
       "1             0.250386                0.094962                Neutral   \n",
       "2             0.298567                0.098222                Neutral   \n",
       "3             0.298567                0.098222                Neutral   \n",
       "4             0.076358                0.045194                Neutral   \n",
       "...                ...                     ...                    ...   \n",
       "79492         0.307731                0.219216       Somewhat-Bullish   \n",
       "79493         0.472821                0.306128       Somewhat-Bullish   \n",
       "79494         0.425925                0.135673                Neutral   \n",
       "79495         0.020001                0.109825                Neutral   \n",
       "79496         0.013334                0.090535                Neutral   \n",
       "\n",
       "       Technology  ...  Retail & Wholesale  Economy - Monetary  \\\n",
       "0        1.000000  ...            0.000000            0.000000   \n",
       "1        1.000000  ...            0.000000            0.000000   \n",
       "2        0.500000  ...            0.000000            0.000000   \n",
       "3        0.500000  ...            0.000000            0.000000   \n",
       "4        0.500000  ...            0.000000            0.000000   \n",
       "...           ...  ...                 ...                 ...   \n",
       "79492    1.000000  ...            0.000000            0.000000   \n",
       "79493    1.000000  ...            0.000000            0.000000   \n",
       "79494    1.000000  ...            0.000000            0.000000   \n",
       "79495    0.166667  ...            0.166667            0.999682   \n",
       "79496    0.166667  ...            0.166667            0.999682   \n",
       "\n",
       "       Energy & Transportation  Life Sciences  Blockchain       IPO  Earnings  \\\n",
       "0                     0.000000       0.000000         0.0  0.000000  0.000000   \n",
       "1                     0.000000       0.000000         0.0  0.000000  0.000000   \n",
       "2                     0.000000       0.000000         0.0  0.000000  0.158519   \n",
       "3                     0.000000       0.000000         0.0  0.000000  0.158519   \n",
       "4                     0.000000       0.000000         0.0  0.000000  0.158519   \n",
       "...                        ...            ...         ...       ...       ...   \n",
       "79492                 0.000000       0.000000         0.0  0.000000  0.999975   \n",
       "79493                 0.000000       0.000000         0.0  0.000000  0.744043   \n",
       "79494                 0.000000       0.000000         0.0  0.000000  0.744043   \n",
       "79495                 0.166667       0.166667         0.0  0.310843  1.000000   \n",
       "79496                 0.166667       0.166667         0.0  0.310843  1.000000   \n",
       "\n",
       "       Mergers & Acquisitions  Manufacturing   Finance  \n",
       "0                     0.00000       0.000000  0.000000  \n",
       "1                     0.00000       0.000000  0.000000  \n",
       "2                     0.00000       0.000000  0.500000  \n",
       "3                     0.00000       0.000000  0.500000  \n",
       "4                     0.00000       0.000000  0.500000  \n",
       "...                       ...            ...       ...  \n",
       "79492                 0.00000       0.000000  0.000000  \n",
       "79493                 0.00000       0.000000  0.000000  \n",
       "79494                 0.00000       0.000000  0.000000  \n",
       "79495                 0.77141       0.166667  0.166667  \n",
       "79496                 0.77141       0.166667  0.166667  \n",
       "\n",
       "[79497 rows x 24 columns]"
      ]
     },
     "execution_count": 61,
     "metadata": {},
     "output_type": "execute_result"
    }
   ],
   "source": [
    "data = pd.read_csv('../data/news/news_part1.csv')\n",
    "data"
   ]
  },
  {
   "cell_type": "code",
   "execution_count": 62,
   "metadata": {},
   "outputs": [
    {
     "data": {
      "text/plain": [
       "Ticker                        68175\n",
       "Title                         68175\n",
       "URL                           68175\n",
       "Time Published                68175\n",
       "Authors                       68175\n",
       "Summary                       68175\n",
       "Relevance Score               68175\n",
       "Ticker Sentiment Score        68175\n",
       "Ticker Sentiment Label        68175\n",
       "Technology                    68175\n",
       "Financial Markets             68175\n",
       "Economy - Fiscal              68175\n",
       "Economy - Macro               68175\n",
       "Real Estate & Construction    68175\n",
       "Retail & Wholesale            68175\n",
       "Economy - Monetary            68175\n",
       "Energy & Transportation       68175\n",
       "Life Sciences                 68175\n",
       "Blockchain                    68175\n",
       "IPO                           68175\n",
       "Earnings                      68175\n",
       "Mergers & Acquisitions        68175\n",
       "Manufacturing                 68175\n",
       "Finance                       68175\n",
       "dtype: int64"
      ]
     },
     "execution_count": 62,
     "metadata": {},
     "output_type": "execute_result"
    }
   ],
   "source": [
    "# check duplicate rows in dataset\n",
    "data_duplicate=data.drop_duplicates()\n",
    "data_duplicate.count()"
   ]
  },
  {
   "cell_type": "markdown",
   "metadata": {},
   "source": [
    "## Preprocessing Steps"
   ]
  },
  {
   "cell_type": "code",
   "execution_count": 63,
   "metadata": {},
   "outputs": [],
   "source": [
    "# Combining 'Title' and 'Summary' into a single text feature\n",
    "data['Combined_Text'] = data['Title'] + \" \" + data['Summary']"
   ]
  },
  {
   "cell_type": "code",
   "execution_count": 64,
   "metadata": {},
   "outputs": [],
   "source": [
    "# Label Encoding for 'Ticker Sentiment Label'\n",
    "label_encoder = LabelEncoder()\n",
    "data['Ticker Sentiment Label Encoded'] = label_encoder.fit_transform(data['Ticker Sentiment Label'])"
   ]
  },
  {
   "cell_type": "code",
   "execution_count": 65,
   "metadata": {},
   "outputs": [],
   "source": [
    "# Example function to preprocess text data\n",
    "def preprocess_text(text):\n",
    "    # Lowercasing\n",
    "    text = text.lower()\n",
    "\n",
    "    # Removing punctuation\n",
    "    text = re.sub(r'[^\\w\\s]', '', text)\n",
    "\n",
    "    # Tokenization\n",
    "    tokens = word_tokenize(text)\n",
    "\n",
    "    # Removing stopwords\n",
    "    stop_words = set(stopwords.words('english'))\n",
    "    tokens = [word for word in tokens if word not in stop_words]\n",
    "\n",
    "    # Lemmatization\n",
    "    lemmatizer = WordNetLemmatizer()\n",
    "    tokens = [lemmatizer.lemmatize(word) for word in tokens]\n",
    "\n",
    "    return ' '.join(tokens)\n",
    "\n",
    "# Applying the preprocessing function to the combined text column\n",
    "data['Processed_Text'] = data['Combined_Text'].apply(preprocess_text)\n"
   ]
  },
  {
   "cell_type": "markdown",
   "metadata": {},
   "source": [
    "### Tokenization"
   ]
  },
  {
   "cell_type": "code",
   "execution_count": 79,
   "metadata": {},
   "outputs": [],
   "source": [
    "max_features = 10000  \n",
    "maxlen = 1000 \n",
    "\n",
    "tokenizer = Tokenizer(num_words=max_features)\n",
    "tokenizer.fit_on_texts(data['Processed_Text'])\n",
    "sequences = tokenizer.texts_to_sequences(data['Processed_Text'])\n",
    "datatok = pad_sequences(sequences, maxlen=maxlen) "
   ]
  },
  {
   "cell_type": "markdown",
   "metadata": {},
   "source": [
    "### Preparing Labels"
   ]
  },
  {
   "cell_type": "code",
   "execution_count": 67,
   "metadata": {},
   "outputs": [],
   "source": [
    "import pandas as pd\n",
    "from sklearn.preprocessing import LabelEncoder\n",
    "from tensorflow.keras.utils import to_categorical\n",
    "\n",
    "# Ensure 'data' is your original DataFrame\n",
    "label_encoder = LabelEncoder()\n",
    "integer_encoded = label_encoder.fit_transform(data['Ticker Sentiment Label'])\n",
    "labels = to_categorical(integer_encoded)"
   ]
  },
  {
   "cell_type": "markdown",
   "metadata": {},
   "source": [
    "### Splitting the Dataset into Training and Testing Sets"
   ]
  },
  {
   "cell_type": "code",
   "execution_count": 80,
   "metadata": {},
   "outputs": [],
   "source": [
    "from sklearn.model_selection import train_test_split\n",
    "\n",
    "# Assuming 'datatok' is your tokenized and padded text data\n",
    "X_train, X_test, y_train, y_test = train_test_split(datatok, labels, test_size=0.2, random_state=42)"
   ]
  },
  {
   "cell_type": "code",
   "execution_count": 81,
   "metadata": {},
   "outputs": [
    {
     "name": "stdout",
     "output_type": "stream",
     "text": [
      "Shape of datatok: (79497, 1000)\n",
      "First few entries in datatok:\n",
      " [[   0    0    0 ...  162  846  297]\n",
      " [   0    0    0 ...  162  846  297]\n",
      " [   0    0    0 ... 3028 2824 1962]\n",
      " [   0    0    0 ... 3028 2824 1962]\n",
      " [   0    0    0 ... 3028 2824 1962]]\n",
      "Data type of datatok: int32\n"
     ]
    }
   ],
   "source": [
    "# Display information about datatok\n",
    "print(\"Shape of datatok:\", datatok.shape)\n",
    "print(\"First few entries in datatok:\\n\", datatok[:5])\n",
    "print(\"Data type of datatok:\", datatok.dtype)\n",
    "\n"
   ]
  },
  {
   "cell_type": "code",
   "execution_count": 82,
   "metadata": {},
   "outputs": [
    {
     "name": "stdout",
     "output_type": "stream",
     "text": [
      "Shape of labels: (79497, 5)\n",
      "First few labels:\n",
      " [[0. 1. 0. 0. 0.]\n",
      " [0. 0. 1. 0. 0.]\n",
      " [0. 0. 1. 0. 0.]\n",
      " [0. 0. 1. 0. 0.]\n",
      " [0. 0. 1. 0. 0.]]\n",
      "Data type of labels: float32\n"
     ]
    }
   ],
   "source": [
    "# Display information about labels\n",
    "print(\"Shape of labels:\", labels.shape)\n",
    "print(\"First few labels:\\n\", labels[:5])\n",
    "print(\"Data type of labels:\", labels.dtype)"
   ]
  },
  {
   "cell_type": "code",
   "execution_count": 83,
   "metadata": {},
   "outputs": [
    {
     "name": "stdout",
     "output_type": "stream",
     "text": [
      "Number of features in the training set: 1000\n"
     ]
    }
   ],
   "source": [
    "num_features = X_train.shape[1]\n",
    "print(\"Number of features in the training set:\", num_features)"
   ]
  },
  {
   "cell_type": "code",
   "execution_count": 84,
   "metadata": {},
   "outputs": [
    {
     "name": "stdout",
     "output_type": "stream",
     "text": [
      "Number of features in the training set: 1000\n"
     ]
    }
   ],
   "source": [
    "num_features = X_test.shape[1]\n",
    "print(\"Number of features in the training set:\", num_features)"
   ]
  },
  {
   "cell_type": "markdown",
   "metadata": {},
   "source": [
    "## Approach One"
   ]
  },
  {
   "cell_type": "markdown",
   "metadata": {},
   "source": [
    "### Building the Deep Learning Model"
   ]
  },
  {
   "cell_type": "code",
   "execution_count": 46,
   "metadata": {},
   "outputs": [
    {
     "name": "stdout",
     "output_type": "stream",
     "text": [
      "WARNING:tensorflow:From c:\\Users\\CATALINA\\anaconda3\\envs\\finalproject-venv\\lib\\site-packages\\keras\\src\\backend.py:873: The name tf.get_default_graph is deprecated. Please use tf.compat.v1.get_default_graph instead.\n",
      "\n"
     ]
    }
   ],
   "source": [
    "from tensorflow.keras.models import Sequential\n",
    "from tensorflow.keras.layers import Embedding, LSTM, Dense, Dropout\n",
    "\n",
    "# Model parameters\n",
    "embedding_dim = 128\n",
    "lstm_units = 50\n",
    "num_classes = labels.shape[1]  # Number of sentiment classes\n",
    "\n",
    "model = Sequential()\n",
    "model.add(Embedding(input_dim=max_features, output_dim=embedding_dim, input_length=maxlen))\n",
    "model.add(LSTM(lstm_units, dropout=0.2, recurrent_dropout=0.2))\n",
    "model.add(Dense(num_classes, activation='softmax'))  # softmax for multi-class classification"
   ]
  },
  {
   "cell_type": "markdown",
   "metadata": {},
   "source": [
    "### Compiling the Model"
   ]
  },
  {
   "cell_type": "code",
   "execution_count": 56,
   "metadata": {},
   "outputs": [
    {
     "name": "stdout",
     "output_type": "stream",
     "text": [
      "Model: \"sequential\"\n",
      "_________________________________________________________________\n",
      " Layer (type)                Output Shape              Param #   \n",
      "=================================================================\n",
      " embedding (Embedding)       (None, 200, 128)          1280000   \n",
      "                                                                 \n",
      " lstm (LSTM)                 (None, 50)                35800     \n",
      "                                                                 \n",
      " dense (Dense)               (None, 5)                 255       \n",
      "                                                                 \n",
      "=================================================================\n",
      "Total params: 1316055 (5.02 MB)\n",
      "Trainable params: 1316055 (5.02 MB)\n",
      "Non-trainable params: 0 (0.00 Byte)\n",
      "_________________________________________________________________\n"
     ]
    }
   ],
   "source": [
    "model.compile(loss='categorical_crossentropy', optimizer='adam', metrics=['accuracy'])\n",
    "model.summary()"
   ]
  },
  {
   "cell_type": "markdown",
   "metadata": {},
   "source": [
    "### Training the Model"
   ]
  },
  {
   "cell_type": "code",
   "execution_count": 48,
   "metadata": {},
   "outputs": [
    {
     "name": "stdout",
     "output_type": "stream",
     "text": [
      "Epoch 1/10\n",
      "WARNING:tensorflow:From c:\\Users\\CATALINA\\anaconda3\\envs\\finalproject-venv\\lib\\site-packages\\keras\\src\\utils\\tf_utils.py:492: The name tf.ragged.RaggedTensorValue is deprecated. Please use tf.compat.v1.ragged.RaggedTensorValue instead.\n",
      "\n",
      "WARNING:tensorflow:From c:\\Users\\CATALINA\\anaconda3\\envs\\finalproject-venv\\lib\\site-packages\\keras\\src\\engine\\base_layer_utils.py:384: The name tf.executing_eagerly_outside_functions is deprecated. Please use tf.compat.v1.executing_eagerly_outside_functions instead.\n",
      "\n",
      "1789/1789 [==============================] - 403s 223ms/step - loss: 0.7913 - accuracy: 0.6946 - val_loss: 0.7325 - val_accuracy: 0.7036\n",
      "Epoch 2/10\n",
      "1789/1789 [==============================] - 405s 227ms/step - loss: 0.6645 - accuracy: 0.7287 - val_loss: 0.7333 - val_accuracy: 0.7145\n",
      "Epoch 3/10\n",
      "1789/1789 [==============================] - 419s 234ms/step - loss: 0.6116 - accuracy: 0.7459 - val_loss: 0.7292 - val_accuracy: 0.7134\n",
      "Epoch 4/10\n",
      "1789/1789 [==============================] - 409s 228ms/step - loss: 0.5769 - accuracy: 0.7567 - val_loss: 0.7509 - val_accuracy: 0.7151\n",
      "Epoch 5/10\n",
      "1789/1789 [==============================] - 397s 222ms/step - loss: 0.5539 - accuracy: 0.7640 - val_loss: 0.7575 - val_accuracy: 0.7167\n",
      "Epoch 6/10\n",
      "1789/1789 [==============================] - 376s 210ms/step - loss: 0.5361 - accuracy: 0.7689 - val_loss: 0.7704 - val_accuracy: 0.7142\n",
      "Epoch 7/10\n",
      "1789/1789 [==============================] - 368s 206ms/step - loss: 0.5211 - accuracy: 0.7726 - val_loss: 0.8118 - val_accuracy: 0.7170\n",
      "Epoch 8/10\n",
      "1789/1789 [==============================] - 369s 207ms/step - loss: 0.5104 - accuracy: 0.7748 - val_loss: 0.8141 - val_accuracy: 0.7167\n",
      "Epoch 9/10\n",
      "1789/1789 [==============================] - 369s 206ms/step - loss: 0.4998 - accuracy: 0.7773 - val_loss: 0.8389 - val_accuracy: 0.7143\n",
      "Epoch 10/10\n",
      "1789/1789 [==============================] - 370s 207ms/step - loss: 0.4941 - accuracy: 0.7798 - val_loss: 0.8573 - val_accuracy: 0.7135\n"
     ]
    }
   ],
   "source": [
    "history = model.fit(X_train, y_train, batch_size=32, epochs=10, validation_split=0.1)"
   ]
  },
  {
   "cell_type": "markdown",
   "metadata": {},
   "source": [
    "### Evaluating the Model"
   ]
  },
  {
   "cell_type": "code",
   "execution_count": 49,
   "metadata": {},
   "outputs": [
    {
     "name": "stdout",
     "output_type": "stream",
     "text": [
      "497/497 [==============================] - 12s 24ms/step - loss: 0.8367 - accuracy: 0.7227\n",
      "Test accuracy: 72.27%\n"
     ]
    }
   ],
   "source": [
    "test_loss, test_accuracy = model.evaluate(X_test, y_test)\n",
    "print(f\"Test accuracy: {test_accuracy * 100:.2f}%\")"
   ]
  },
  {
   "cell_type": "code",
   "execution_count": 55,
   "metadata": {},
   "outputs": [
    {
     "data": {
      "image/png": "[encoded data removed]",
      "text/plain": [
       "<Figure size 1200x500 with 2 Axes>"
      ]
     },
     "metadata": {},
     "output_type": "display_data"
    }
   ],
   "source": [
    "import matplotlib.pyplot as plt\n",
    "\n",
    "# Extracting the history of training and validation accuracy and loss\n",
    "acc = history.history['accuracy']\n",
    "val_acc = history.history['val_accuracy']\n",
    "loss = history.history['loss']\n",
    "val_loss = history.history['val_loss']\n",
    "epochs = range(1, len(acc) + 1)\n",
    "\n",
    "# Plotting training and validation accuracy\n",
    "plt.figure(figsize=(12, 5))\n",
    "plt.subplot(1, 2, 1)\n",
    "plt.plot(epochs, acc, 'bo', label='Training Accuracy')\n",
    "plt.plot(epochs, val_acc, 'b', label='Validation Accuracy')\n",
    "plt.title('Training and Validation Accuracy')\n",
    "plt.xlabel('Epochs')\n",
    "plt.ylabel('Accuracy')\n",
    "plt.legend()\n",
    "\n",
    "# Plotting training and validation loss\n",
    "plt.subplot(1, 2, 2)\n",
    "plt.plot(epochs, loss, 'bo', label='Training Loss')\n",
    "plt.plot(epochs, val_loss, 'b', label='Validation Loss')\n",
    "plt.title('Training and Validation Loss')\n",
    "plt.xlabel('Epochs')\n",
    "plt.ylabel('Loss')\n",
    "plt.legend()\n",
    "\n",
    "plt.tight_layout()\n",
    "plt.show()"
   ]
  },
  {
   "cell_type": "markdown",
   "metadata": {},
   "source": [
    "## Approach Two"
   ]
  },
  {
   "cell_type": "code",
   "execution_count": 69,
   "metadata": {},
   "outputs": [],
   "source": [
    "from tensorflow.keras.models import Sequential\n",
    "from tensorflow.keras.layers import Embedding, LSTM, Dense, Dropout\n",
    "from tensorflow.keras.regularizers import l2\n",
    "from tensorflow.keras.callbacks import EarlyStopping\n",
    "\n",
    "# Adjusting the model parameters\n",
    "embedding_dim = 128\n",
    "lstm_units = 30  # Reduced number of units\n",
    "num_classes = labels.shape[1]"
   ]
  },
  {
   "cell_type": "code",
   "execution_count": 70,
   "metadata": {},
   "outputs": [],
   "source": [
    "# Building the model\n",
    "model = Sequential()\n",
    "model.add(Embedding(input_dim=max_features, output_dim=embedding_dim, input_length=maxlen))\n",
    "model.add(LSTM(lstm_units, dropout=0.2, recurrent_dropout=0.2))\n",
    "model.add(Dropout(0.5))  # Added Dropout layer\n",
    "model.add(Dense(num_classes, activation='softmax', kernel_regularizer=l2(0.01)))  # Added L2 regularization"
   ]
  },
  {
   "cell_type": "code",
   "execution_count": 71,
   "metadata": {},
   "outputs": [],
   "source": [
    "# Compile the model\n",
    "model.compile(loss='categorical_crossentropy', optimizer='adam', metrics=['accuracy'])\n"
   ]
  },
  {
   "cell_type": "code",
   "execution_count": 72,
   "metadata": {},
   "outputs": [],
   "source": [
    "# Early stopping callback\n",
    "early_stopping = EarlyStopping(monitor='val_loss', patience=3, restore_best_weights=True)"
   ]
  },
  {
   "cell_type": "code",
   "execution_count": 73,
   "metadata": {},
   "outputs": [
    {
     "name": "stdout",
     "output_type": "stream",
     "text": [
      "Epoch 1/10\n",
      "1789/1789 [==============================] - 373s 206ms/step - loss: 0.8799 - accuracy: 0.6823 - val_loss: 0.7814 - val_accuracy: 0.7019\n",
      "Epoch 2/10\n",
      "1789/1789 [==============================] - 407s 228ms/step - loss: 0.7466 - accuracy: 0.7122 - val_loss: 0.7572 - val_accuracy: 0.7066\n",
      "Epoch 3/10\n",
      "1789/1789 [==============================] - 371s 207ms/step - loss: 0.6953 - accuracy: 0.7328 - val_loss: 0.7438 - val_accuracy: 0.7129\n",
      "Epoch 4/10\n",
      "1789/1789 [==============================] - 380s 213ms/step - loss: 0.6655 - accuracy: 0.7409 - val_loss: 0.7455 - val_accuracy: 0.7131\n",
      "Epoch 5/10\n",
      "1789/1789 [==============================] - 363s 203ms/step - loss: 0.6439 - accuracy: 0.7503 - val_loss: 0.7509 - val_accuracy: 0.7132\n",
      "Epoch 6/10\n",
      "1789/1789 [==============================] - 429s 240ms/step - loss: 0.6265 - accuracy: 0.7567 - val_loss: 0.7620 - val_accuracy: 0.7116\n"
     ]
    }
   ],
   "source": [
    "# Train the model with early stopping\n",
    "history = model.fit(X_train, y_train, batch_size=32, epochs=10, validation_split=0.1, callbacks=[early_stopping])"
   ]
  },
  {
   "cell_type": "code",
   "execution_count": 74,
   "metadata": {},
   "outputs": [
    {
     "data": {
      "image/png": "[encoded data removed]",
      "text/plain": [
       "<Figure size 1200x500 with 2 Axes>"
      ]
     },
     "metadata": {},
     "output_type": "display_data"
    }
   ],
   "source": [
    "import matplotlib.pyplot as plt\n",
    "\n",
    "# Extracting the history of training and validation accuracy and loss\n",
    "acc = history.history['accuracy']\n",
    "val_acc = history.history['val_accuracy']\n",
    "loss = history.history['loss']\n",
    "val_loss = history.history['val_loss']\n",
    "epochs = range(1, len(acc) + 1)\n",
    "\n",
    "# Plotting training and validation accuracy\n",
    "plt.figure(figsize=(12, 5))\n",
    "plt.subplot(1, 2, 1)\n",
    "plt.plot(epochs, acc, 'bo', label='Training Accuracy')\n",
    "plt.plot(epochs, val_acc, 'b', label='Validation Accuracy')\n",
    "plt.title('Training and Validation Accuracy')\n",
    "plt.xlabel('Epochs')\n",
    "plt.ylabel('Accuracy')\n",
    "plt.legend()\n",
    "\n",
    "# Plotting training and validation loss\n",
    "plt.subplot(1, 2, 2)\n",
    "plt.plot(epochs, loss, 'bo', label='Training Loss')\n",
    "plt.plot(epochs, val_loss, 'b', label='Validation Loss')\n",
    "plt.title('Training and Validation Loss')\n",
    "plt.xlabel('Epochs')\n",
    "plt.ylabel('Loss')\n",
    "plt.legend()\n",
    "\n",
    "plt.tight_layout()\n",
    "plt.show()"
   ]
  },
  {
   "cell_type": "code",
   "execution_count": 75,
   "metadata": {},
   "outputs": [
    {
     "name": "stdout",
     "output_type": "stream",
     "text": [
      "497/497 [==============================] - 10s 20ms/step - loss: 0.7343 - accuracy: 0.7195\n",
      "Test accuracy: 71.95%\n"
     ]
    }
   ],
   "source": [
    "test_loss, test_accuracy = model.evaluate(X_test, y_test)\n",
    "print(f\"Test accuracy: {test_accuracy * 100:.2f}%\")"
   ]
  }
 ],
 "metadata": {
  "kernelspec": {
   "display_name": "finalproject-venv",
   "language": "python",
   "name": "python3"
  },
  "language_info": {
   "codemirror_mode": {
    "name": "ipython",
    "version": 3
   },
   "file_extension": ".py",
   "mimetype": "text/x-python",
   "name": "python",
   "nbconvert_exporter": "python",
   "pygments_lexer": "ipython3",
   "version": "3.9.18"
  }
 },
 "nbformat": 4,
 "nbformat_minor": 2
}
