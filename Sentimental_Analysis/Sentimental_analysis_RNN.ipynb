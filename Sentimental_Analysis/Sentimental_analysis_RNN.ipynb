{
 "cells": [
  {
   "cell_type": "code",
   "execution_count": 48,
   "metadata": {},
   "outputs": [],
   "source": [
    "# Data imports\n",
    "import re\n",
    "import numpy as np\n",
    "import pandas as pd\n",
    "import matplotlib.pyplot as plt\n",
    "import seaborn as sns\n",
    "\n",
    "# Deep Learning imports\n",
    "from sklearn.model_selection import train_test_split\n",
    "from tensorflow.keras.models import Sequential, load_model\n",
    "from tensorflow.keras.layers import Dense, Dropout, LSTM, GRU, Embedding\n",
    "from tensorflow.keras.preprocessing.text import Tokenizer\n",
    "from tensorflow.keras.preprocessing.sequence import pad_sequences\n",
    "from tensorflow.keras.utils import to_categorical\n",
    "from tensorflow.keras.callbacks import EarlyStopping"
   ]
  },
  {
   "cell_type": "code",
   "execution_count": 3,
   "metadata": {},
   "outputs": [
    {
     "data": {
      "text/html": [
       "<div>\n",
       "<style scoped>\n",
       "    .dataframe tbody tr th:only-of-type {\n",
       "        vertical-align: middle;\n",
       "    }\n",
       "\n",
       "    .dataframe tbody tr th {\n",
       "        vertical-align: top;\n",
       "    }\n",
       "\n",
       "    .dataframe thead th {\n",
       "        text-align: right;\n",
       "    }\n",
       "</style>\n",
       "<table border=\"1\" class=\"dataframe\">\n",
       "  <thead>\n",
       "    <tr style=\"text-align: right;\">\n",
       "      <th></th>\n",
       "      <th>Ticker</th>\n",
       "      <th>Title</th>\n",
       "      <th>URL</th>\n",
       "      <th>Time Published</th>\n",
       "      <th>Authors</th>\n",
       "      <th>Summary</th>\n",
       "      <th>Relevance Score</th>\n",
       "      <th>Ticker Sentiment Score</th>\n",
       "      <th>Ticker Sentiment Label</th>\n",
       "      <th>Technology</th>\n",
       "      <th>...</th>\n",
       "      <th>Retail &amp; Wholesale</th>\n",
       "      <th>Economy - Monetary</th>\n",
       "      <th>Energy &amp; Transportation</th>\n",
       "      <th>Life Sciences</th>\n",
       "      <th>Blockchain</th>\n",
       "      <th>IPO</th>\n",
       "      <th>Earnings</th>\n",
       "      <th>Mergers &amp; Acquisitions</th>\n",
       "      <th>Manufacturing</th>\n",
       "      <th>Finance</th>\n",
       "    </tr>\n",
       "  </thead>\n",
       "  <tbody>\n",
       "    <tr>\n",
       "      <th>0</th>\n",
       "      <td>META</td>\n",
       "      <td>Ads running on Meta saw return on spending inc...</td>\n",
       "      <td>https://www.business-standard.com/companies/ne...</td>\n",
       "      <td>2024-01-18 17:28:08</td>\n",
       "      <td>['Bloomberg']</td>\n",
       "      <td>Ads running on Meta Platforms Inc.'s apps saw ...</td>\n",
       "      <td>0.250386</td>\n",
       "      <td>0.424632</td>\n",
       "      <td>Bullish</td>\n",
       "      <td>1.000000</td>\n",
       "      <td>...</td>\n",
       "      <td>0.000000</td>\n",
       "      <td>0.000000</td>\n",
       "      <td>0.000000</td>\n",
       "      <td>0.000000</td>\n",
       "      <td>0.0</td>\n",
       "      <td>0.000000</td>\n",
       "      <td>0.000000</td>\n",
       "      <td>0.00000</td>\n",
       "      <td>0.000000</td>\n",
       "      <td>0.000000</td>\n",
       "    </tr>\n",
       "    <tr>\n",
       "      <th>1</th>\n",
       "      <td>AAPL</td>\n",
       "      <td>Ads running on Meta saw return on spending inc...</td>\n",
       "      <td>https://www.business-standard.com/companies/ne...</td>\n",
       "      <td>2024-01-18 17:28:08</td>\n",
       "      <td>['Bloomberg']</td>\n",
       "      <td>Ads running on Meta Platforms Inc.'s apps saw ...</td>\n",
       "      <td>0.250386</td>\n",
       "      <td>0.094962</td>\n",
       "      <td>Neutral</td>\n",
       "      <td>1.000000</td>\n",
       "      <td>...</td>\n",
       "      <td>0.000000</td>\n",
       "      <td>0.000000</td>\n",
       "      <td>0.000000</td>\n",
       "      <td>0.000000</td>\n",
       "      <td>0.0</td>\n",
       "      <td>0.000000</td>\n",
       "      <td>0.000000</td>\n",
       "      <td>0.00000</td>\n",
       "      <td>0.000000</td>\n",
       "      <td>0.000000</td>\n",
       "    </tr>\n",
       "    <tr>\n",
       "      <th>2</th>\n",
       "      <td>HUM</td>\n",
       "      <td>Here are the reasons why a new Wall Street upg...</td>\n",
       "      <td>https://www.cnbc.com/2024/01/18/what-activist-...</td>\n",
       "      <td>2024-01-18 16:48:19</td>\n",
       "      <td>['Jeff Marks']</td>\n",
       "      <td>The Investing Club holds its \"Morning Meeting\"...</td>\n",
       "      <td>0.298567</td>\n",
       "      <td>0.098222</td>\n",
       "      <td>Neutral</td>\n",
       "      <td>0.500000</td>\n",
       "      <td>...</td>\n",
       "      <td>0.000000</td>\n",
       "      <td>0.000000</td>\n",
       "      <td>0.000000</td>\n",
       "      <td>0.000000</td>\n",
       "      <td>0.0</td>\n",
       "      <td>0.000000</td>\n",
       "      <td>0.158519</td>\n",
       "      <td>0.00000</td>\n",
       "      <td>0.000000</td>\n",
       "      <td>0.500000</td>\n",
       "    </tr>\n",
       "    <tr>\n",
       "      <th>3</th>\n",
       "      <td>AAPL</td>\n",
       "      <td>Here are the reasons why a new Wall Street upg...</td>\n",
       "      <td>https://www.cnbc.com/2024/01/18/what-activist-...</td>\n",
       "      <td>2024-01-18 16:48:19</td>\n",
       "      <td>['Jeff Marks']</td>\n",
       "      <td>The Investing Club holds its \"Morning Meeting\"...</td>\n",
       "      <td>0.298567</td>\n",
       "      <td>0.098222</td>\n",
       "      <td>Neutral</td>\n",
       "      <td>0.500000</td>\n",
       "      <td>...</td>\n",
       "      <td>0.000000</td>\n",
       "      <td>0.000000</td>\n",
       "      <td>0.000000</td>\n",
       "      <td>0.000000</td>\n",
       "      <td>0.0</td>\n",
       "      <td>0.000000</td>\n",
       "      <td>0.158519</td>\n",
       "      <td>0.00000</td>\n",
       "      <td>0.000000</td>\n",
       "      <td>0.500000</td>\n",
       "    </tr>\n",
       "    <tr>\n",
       "      <th>4</th>\n",
       "      <td>BAC</td>\n",
       "      <td>Here are the reasons why a new Wall Street upg...</td>\n",
       "      <td>https://www.cnbc.com/2024/01/18/what-activist-...</td>\n",
       "      <td>2024-01-18 16:48:19</td>\n",
       "      <td>['Jeff Marks']</td>\n",
       "      <td>The Investing Club holds its \"Morning Meeting\"...</td>\n",
       "      <td>0.076358</td>\n",
       "      <td>0.045194</td>\n",
       "      <td>Neutral</td>\n",
       "      <td>0.500000</td>\n",
       "      <td>...</td>\n",
       "      <td>0.000000</td>\n",
       "      <td>0.000000</td>\n",
       "      <td>0.000000</td>\n",
       "      <td>0.000000</td>\n",
       "      <td>0.0</td>\n",
       "      <td>0.000000</td>\n",
       "      <td>0.158519</td>\n",
       "      <td>0.00000</td>\n",
       "      <td>0.000000</td>\n",
       "      <td>0.500000</td>\n",
       "    </tr>\n",
       "    <tr>\n",
       "      <th>...</th>\n",
       "      <td>...</td>\n",
       "      <td>...</td>\n",
       "      <td>...</td>\n",
       "      <td>...</td>\n",
       "      <td>...</td>\n",
       "      <td>...</td>\n",
       "      <td>...</td>\n",
       "      <td>...</td>\n",
       "      <td>...</td>\n",
       "      <td>...</td>\n",
       "      <td>...</td>\n",
       "      <td>...</td>\n",
       "      <td>...</td>\n",
       "      <td>...</td>\n",
       "      <td>...</td>\n",
       "      <td>...</td>\n",
       "      <td>...</td>\n",
       "      <td>...</td>\n",
       "      <td>...</td>\n",
       "      <td>...</td>\n",
       "      <td>...</td>\n",
       "    </tr>\n",
       "    <tr>\n",
       "      <th>79492</th>\n",
       "      <td>CRWD</td>\n",
       "      <td>2 Cybersecurity Stocks You Can Buy and Hold fo...</td>\n",
       "      <td>https://www.fool.com/investing/2023/08/27/2-cy...</td>\n",
       "      <td>2023-08-27 10:30:00</td>\n",
       "      <td>['Jeff Santoro']</td>\n",
       "      <td>These two companies have bright futures despit...</td>\n",
       "      <td>0.307731</td>\n",
       "      <td>0.219216</td>\n",
       "      <td>Somewhat-Bullish</td>\n",
       "      <td>1.000000</td>\n",
       "      <td>...</td>\n",
       "      <td>0.000000</td>\n",
       "      <td>0.000000</td>\n",
       "      <td>0.000000</td>\n",
       "      <td>0.000000</td>\n",
       "      <td>0.0</td>\n",
       "      <td>0.000000</td>\n",
       "      <td>0.999975</td>\n",
       "      <td>0.00000</td>\n",
       "      <td>0.000000</td>\n",
       "      <td>0.000000</td>\n",
       "    </tr>\n",
       "    <tr>\n",
       "      <th>79493</th>\n",
       "      <td>PATH</td>\n",
       "      <td>3 Supercharged Tech Stocks to Buy Without Any ...</td>\n",
       "      <td>https://www.fool.com/investing/2023/08/26/3-su...</td>\n",
       "      <td>2023-08-26 10:45:00</td>\n",
       "      <td>['Keithen Drury']</td>\n",
       "      <td>There are still some growth stocks available t...</td>\n",
       "      <td>0.472821</td>\n",
       "      <td>0.306128</td>\n",
       "      <td>Somewhat-Bullish</td>\n",
       "      <td>1.000000</td>\n",
       "      <td>...</td>\n",
       "      <td>0.000000</td>\n",
       "      <td>0.000000</td>\n",
       "      <td>0.000000</td>\n",
       "      <td>0.000000</td>\n",
       "      <td>0.0</td>\n",
       "      <td>0.000000</td>\n",
       "      <td>0.744043</td>\n",
       "      <td>0.00000</td>\n",
       "      <td>0.000000</td>\n",
       "      <td>0.000000</td>\n",
       "    </tr>\n",
       "    <tr>\n",
       "      <th>79494</th>\n",
       "      <td>CRWD</td>\n",
       "      <td>3 Supercharged Tech Stocks to Buy Without Any ...</td>\n",
       "      <td>https://www.fool.com/investing/2023/08/26/3-su...</td>\n",
       "      <td>2023-08-26 10:45:00</td>\n",
       "      <td>['Keithen Drury']</td>\n",
       "      <td>There are still some growth stocks available t...</td>\n",
       "      <td>0.425925</td>\n",
       "      <td>0.135673</td>\n",
       "      <td>Neutral</td>\n",
       "      <td>1.000000</td>\n",
       "      <td>...</td>\n",
       "      <td>0.000000</td>\n",
       "      <td>0.000000</td>\n",
       "      <td>0.000000</td>\n",
       "      <td>0.000000</td>\n",
       "      <td>0.0</td>\n",
       "      <td>0.000000</td>\n",
       "      <td>0.744043</td>\n",
       "      <td>0.00000</td>\n",
       "      <td>0.000000</td>\n",
       "      <td>0.000000</td>\n",
       "    </tr>\n",
       "    <tr>\n",
       "      <th>79495</th>\n",
       "      <td>DE</td>\n",
       "      <td>Weekly Roundup</td>\n",
       "      <td>https://aap.thestreet.com/story/16131864/1/wee...</td>\n",
       "      <td>2023-08-25 22:01:00</td>\n",
       "      <td>[]</td>\n",
       "      <td>Stocks staged a late comeback this week after ...</td>\n",
       "      <td>0.020001</td>\n",
       "      <td>0.109825</td>\n",
       "      <td>Neutral</td>\n",
       "      <td>0.166667</td>\n",
       "      <td>...</td>\n",
       "      <td>0.166667</td>\n",
       "      <td>0.999682</td>\n",
       "      <td>0.166667</td>\n",
       "      <td>0.166667</td>\n",
       "      <td>0.0</td>\n",
       "      <td>0.310843</td>\n",
       "      <td>1.000000</td>\n",
       "      <td>0.77141</td>\n",
       "      <td>0.166667</td>\n",
       "      <td>0.166667</td>\n",
       "    </tr>\n",
       "    <tr>\n",
       "      <th>79496</th>\n",
       "      <td>AAPL</td>\n",
       "      <td>Weekly Roundup</td>\n",
       "      <td>https://aap.thestreet.com/story/16131864/1/wee...</td>\n",
       "      <td>2023-08-25 22:01:00</td>\n",
       "      <td>[]</td>\n",
       "      <td>Stocks staged a late comeback this week after ...</td>\n",
       "      <td>0.013334</td>\n",
       "      <td>0.090535</td>\n",
       "      <td>Neutral</td>\n",
       "      <td>0.166667</td>\n",
       "      <td>...</td>\n",
       "      <td>0.166667</td>\n",
       "      <td>0.999682</td>\n",
       "      <td>0.166667</td>\n",
       "      <td>0.166667</td>\n",
       "      <td>0.0</td>\n",
       "      <td>0.310843</td>\n",
       "      <td>1.000000</td>\n",
       "      <td>0.77141</td>\n",
       "      <td>0.166667</td>\n",
       "      <td>0.166667</td>\n",
       "    </tr>\n",
       "  </tbody>\n",
       "</table>\n",
       "<p>79497 rows × 24 columns</p>\n",
       "</div>"
      ],
      "text/plain": [
       "      Ticker                                              Title  \\\n",
       "0       META  Ads running on Meta saw return on spending inc...   \n",
       "1       AAPL  Ads running on Meta saw return on spending inc...   \n",
       "2        HUM  Here are the reasons why a new Wall Street upg...   \n",
       "3       AAPL  Here are the reasons why a new Wall Street upg...   \n",
       "4        BAC  Here are the reasons why a new Wall Street upg...   \n",
       "...      ...                                                ...   \n",
       "79492   CRWD  2 Cybersecurity Stocks You Can Buy and Hold fo...   \n",
       "79493   PATH  3 Supercharged Tech Stocks to Buy Without Any ...   \n",
       "79494   CRWD  3 Supercharged Tech Stocks to Buy Without Any ...   \n",
       "79495     DE                                     Weekly Roundup   \n",
       "79496   AAPL                                     Weekly Roundup   \n",
       "\n",
       "                                                     URL       Time Published  \\\n",
       "0      https://www.business-standard.com/companies/ne...  2024-01-18 17:28:08   \n",
       "1      https://www.business-standard.com/companies/ne...  2024-01-18 17:28:08   \n",
       "2      https://www.cnbc.com/2024/01/18/what-activist-...  2024-01-18 16:48:19   \n",
       "3      https://www.cnbc.com/2024/01/18/what-activist-...  2024-01-18 16:48:19   \n",
       "4      https://www.cnbc.com/2024/01/18/what-activist-...  2024-01-18 16:48:19   \n",
       "...                                                  ...                  ...   \n",
       "79492  https://www.fool.com/investing/2023/08/27/2-cy...  2023-08-27 10:30:00   \n",
       "79493  https://www.fool.com/investing/2023/08/26/3-su...  2023-08-26 10:45:00   \n",
       "79494  https://www.fool.com/investing/2023/08/26/3-su...  2023-08-26 10:45:00   \n",
       "79495  https://aap.thestreet.com/story/16131864/1/wee...  2023-08-25 22:01:00   \n",
       "79496  https://aap.thestreet.com/story/16131864/1/wee...  2023-08-25 22:01:00   \n",
       "\n",
       "                 Authors                                            Summary  \\\n",
       "0          ['Bloomberg']  Ads running on Meta Platforms Inc.'s apps saw ...   \n",
       "1          ['Bloomberg']  Ads running on Meta Platforms Inc.'s apps saw ...   \n",
       "2         ['Jeff Marks']  The Investing Club holds its \"Morning Meeting\"...   \n",
       "3         ['Jeff Marks']  The Investing Club holds its \"Morning Meeting\"...   \n",
       "4         ['Jeff Marks']  The Investing Club holds its \"Morning Meeting\"...   \n",
       "...                  ...                                                ...   \n",
       "79492   ['Jeff Santoro']  These two companies have bright futures despit...   \n",
       "79493  ['Keithen Drury']  There are still some growth stocks available t...   \n",
       "79494  ['Keithen Drury']  There are still some growth stocks available t...   \n",
       "79495                 []  Stocks staged a late comeback this week after ...   \n",
       "79496                 []  Stocks staged a late comeback this week after ...   \n",
       "\n",
       "       Relevance Score  Ticker Sentiment Score Ticker Sentiment Label  \\\n",
       "0             0.250386                0.424632                Bullish   \n",
       "1             0.250386                0.094962                Neutral   \n",
       "2             0.298567                0.098222                Neutral   \n",
       "3             0.298567                0.098222                Neutral   \n",
       "4             0.076358                0.045194                Neutral   \n",
       "...                ...                     ...                    ...   \n",
       "79492         0.307731                0.219216       Somewhat-Bullish   \n",
       "79493         0.472821                0.306128       Somewhat-Bullish   \n",
       "79494         0.425925                0.135673                Neutral   \n",
       "79495         0.020001                0.109825                Neutral   \n",
       "79496         0.013334                0.090535                Neutral   \n",
       "\n",
       "       Technology  ...  Retail & Wholesale  Economy - Monetary  \\\n",
       "0        1.000000  ...            0.000000            0.000000   \n",
       "1        1.000000  ...            0.000000            0.000000   \n",
       "2        0.500000  ...            0.000000            0.000000   \n",
       "3        0.500000  ...            0.000000            0.000000   \n",
       "4        0.500000  ...            0.000000            0.000000   \n",
       "...           ...  ...                 ...                 ...   \n",
       "79492    1.000000  ...            0.000000            0.000000   \n",
       "79493    1.000000  ...            0.000000            0.000000   \n",
       "79494    1.000000  ...            0.000000            0.000000   \n",
       "79495    0.166667  ...            0.166667            0.999682   \n",
       "79496    0.166667  ...            0.166667            0.999682   \n",
       "\n",
       "       Energy & Transportation  Life Sciences  Blockchain       IPO  Earnings  \\\n",
       "0                     0.000000       0.000000         0.0  0.000000  0.000000   \n",
       "1                     0.000000       0.000000         0.0  0.000000  0.000000   \n",
       "2                     0.000000       0.000000         0.0  0.000000  0.158519   \n",
       "3                     0.000000       0.000000         0.0  0.000000  0.158519   \n",
       "4                     0.000000       0.000000         0.0  0.000000  0.158519   \n",
       "...                        ...            ...         ...       ...       ...   \n",
       "79492                 0.000000       0.000000         0.0  0.000000  0.999975   \n",
       "79493                 0.000000       0.000000         0.0  0.000000  0.744043   \n",
       "79494                 0.000000       0.000000         0.0  0.000000  0.744043   \n",
       "79495                 0.166667       0.166667         0.0  0.310843  1.000000   \n",
       "79496                 0.166667       0.166667         0.0  0.310843  1.000000   \n",
       "\n",
       "       Mergers & Acquisitions  Manufacturing   Finance  \n",
       "0                     0.00000       0.000000  0.000000  \n",
       "1                     0.00000       0.000000  0.000000  \n",
       "2                     0.00000       0.000000  0.500000  \n",
       "3                     0.00000       0.000000  0.500000  \n",
       "4                     0.00000       0.000000  0.500000  \n",
       "...                       ...            ...       ...  \n",
       "79492                 0.00000       0.000000  0.000000  \n",
       "79493                 0.00000       0.000000  0.000000  \n",
       "79494                 0.00000       0.000000  0.000000  \n",
       "79495                 0.77141       0.166667  0.166667  \n",
       "79496                 0.77141       0.166667  0.166667  \n",
       "\n",
       "[79497 rows x 24 columns]"
      ]
     },
     "execution_count": 3,
     "metadata": {},
     "output_type": "execute_result"
    }
   ],
   "source": [
    "data = pd.read_csv('../data/news/news_part1.csv')\n",
    "data"
   ]
  },
  {
   "cell_type": "code",
   "execution_count": 4,
   "metadata": {},
   "outputs": [
    {
     "data": {
      "text/plain": [
       "Ticker                        68175\n",
       "Title                         68175\n",
       "URL                           68175\n",
       "Time Published                68175\n",
       "Authors                       68175\n",
       "Summary                       68175\n",
       "Relevance Score               68175\n",
       "Ticker Sentiment Score        68175\n",
       "Ticker Sentiment Label        68175\n",
       "Technology                    68175\n",
       "Financial Markets             68175\n",
       "Economy - Fiscal              68175\n",
       "Economy - Macro               68175\n",
       "Real Estate & Construction    68175\n",
       "Retail & Wholesale            68175\n",
       "Economy - Monetary            68175\n",
       "Energy & Transportation       68175\n",
       "Life Sciences                 68175\n",
       "Blockchain                    68175\n",
       "IPO                           68175\n",
       "Earnings                      68175\n",
       "Mergers & Acquisitions        68175\n",
       "Manufacturing                 68175\n",
       "Finance                       68175\n",
       "dtype: int64"
      ]
     },
     "execution_count": 4,
     "metadata": {},
     "output_type": "execute_result"
    }
   ],
   "source": [
    "# Check duplicate rows in dataset\n",
    "data=data.drop_duplicates()\n",
    "data.count()"
   ]
  },
  {
   "cell_type": "markdown",
   "metadata": {},
   "source": [
    "## Preprocessing Steps"
   ]
  },
  {
   "cell_type": "code",
   "execution_count": 5,
   "metadata": {},
   "outputs": [
    {
     "name": "stdout",
     "output_type": "stream",
     "text": [
      "X tokenized data =  [[   0    0    0    0    0    0    0    0    0    0    0    0    0    0\n",
      "     0    0    0    0    0    0    0    0    0    0    0    0    0    0\n",
      "     0    0    0    0    0    0    0    0    0    0    0    0    0    0\n",
      "     0    0    0    0    0    0    0    0    0    0    0    0    0    0\n",
      "     0    0    0    0    0    0    0    0    0    0    0    0    0    0\n",
      "     0    0    0    0    0    0    0    0    0    0    0    0    0    0\n",
      "     0    0    0    0    0    0    0    0    0    0    0    0    0    0\n",
      "     0    0    0    0    0    0    0    0    0    0    0    0    0    0\n",
      "  4327 2296    7  239  452   29  774 4198  569  791    7  628  346   15\n",
      "    41  369    4 1012   12    1  412    4  251  248  113   18  237 1200\n",
      "   226]\n",
      " [   0    0    0    0    0    0    0    0    0    0    0    0    0    0\n",
      "     0    0    0    0    0    0    0    0    0    0    0    0    0    0\n",
      "     0    0    0    0    0    0    0    0    0    0    0    0    0    0\n",
      "     0    0    0    0    0    0    0    0    0    0    0    0    0    0\n",
      "     0    0    0    0    0    0    0    0    0    0    0    0    0    0\n",
      "     0    0    0    0    0    0    0    0    0    0    0    0    0    0\n",
      "     0    0    0    0    0    0    0    0    0    0    0    0    0    0\n",
      "     0    0    0    0    0    0    0    0    0    0    0    0    0    0\n",
      "  4327 2296    7  239  452   29  774 4198  569  791    7  628  346   15\n",
      "    41  369    4 1012   12    1  412    4  251  248  113   18  237 1200\n",
      "   226]\n",
      " [   0    0    0    0    0    0    0    0    0    0    0    0    0    0\n",
      "     0    0    0    0    0    0    0    0    0    0    0    0    0    0\n",
      "     0    0    0    0    0    0    0    0    0    0    0    0    0    0\n",
      "     0    0    0    0    0    0    0    0    0    0    0    0    0    0\n",
      "     0    0    0    0    0    0    0    0    0    0    0    0    0    0\n",
      "     0    0    0    0    0    0    0    0    0    0    0    0    0    0\n",
      "     0    0    0    0    0    0    0    0    0    0    0    0    0    0\n",
      "     0    0    0    0    0    0    0    0    0    0    0    0    0    0\n",
      "     0    0    0    0    0    0    0    0    0    0    0    0    0    0\n",
      "     1  241 1110 1191   20  183  414  924 2599   19  161  308    5  613\n",
      "  1659]\n",
      " [   0    0    0    0    0    0    0    0    0    0    0    0    0    0\n",
      "     0    0    0    0    0    0    0    0    0    0    0    0    0    0\n",
      "     0    0    0    0    0    0    0    0    0    0    0    0    0    0\n",
      "     0    0    0    0    0    0    0    0    0    0    0    0    0    0\n",
      "     0    0    0    0    0    0    0    0    0    0    0    0    0    0\n",
      "     0    0    0    0    0    0    0    0    0    0    0    0    0    0\n",
      "     0    0    0    0    0    0    0    0    0    0    0    0    0    0\n",
      "     0    0    0    0    0    0    0    0    0    0    0    0    0    0\n",
      "     0    0    0    0    0    0    0    0    0    0    0    0    0    0\n",
      "     1  241 1110 1191   20  183  414  924 2599   19  161  308    5  613\n",
      "  1659]\n",
      " [   0    0    0    0    0    0    0    0    0    0    0    0    0    0\n",
      "     0    0    0    0    0    0    0    0    0    0    0    0    0    0\n",
      "     0    0    0    0    0    0    0    0    0    0    0    0    0    0\n",
      "     0    0    0    0    0    0    0    0    0    0    0    0    0    0\n",
      "     0    0    0    0    0    0    0    0    0    0    0    0    0    0\n",
      "     0    0    0    0    0    0    0    0    0    0    0    0    0    0\n",
      "     0    0    0    0    0    0    0    0    0    0    0    0    0    0\n",
      "     0    0    0    0    0    0    0    0    0    0    0    0    0    0\n",
      "     0    0    0    0    0    0    0    0    0    0    0    0    0    0\n",
      "     1  241 1110 1191   20  183  414  924 2599   19  161  308    5  613\n",
      "  1659]]\n"
     ]
    }
   ],
   "source": [
    "# Tokenizing and converting the 'Summary' text data into sequences with a maximum vocabulary size of 5000 words.\n",
    "# Padding the sequences for uniform length and displaying the first five tokenized entries.\n",
    "tokenizer = Tokenizer(num_words=5000)\n",
    "tokenizer.fit_on_texts(data['Summary'].values)\n",
    "X = tokenizer.texts_to_sequences(data['Summary'].values)\n",
    "X = pad_sequences(X)\n",
    "print(\"X tokenized data = \", X[:5]) "
   ]
  },
  {
   "cell_type": "code",
   "execution_count": 7,
   "metadata": {},
   "outputs": [],
   "source": [
    "# Map sentiment labels to numerical values using .loc to avoid SettingWithCopyWarning\n",
    "sentiment_mapping = {\n",
    "    'Bullish': 4,\n",
    "    'Somewhat-Bullish': 3,\n",
    "    'Neutral': 2,\n",
    "    'Somewhat-Bearish': 1,\n",
    "    'Bearish': 0\n",
    "}\n",
    "data.loc[:, 'SentimentLabel'] = data['Ticker Sentiment Label'].map(sentiment_mapping)"
   ]
  },
  {
   "cell_type": "code",
   "execution_count": 24,
   "metadata": {},
   "outputs": [],
   "source": [
    "# Split the data into features and labels\n",
    "X = X\n",
    "y = data['SentimentLabel'].values"
   ]
  },
  {
   "cell_type": "markdown",
   "metadata": {},
   "source": [
    "### Preparing Labels"
   ]
  },
  {
   "cell_type": "code",
   "execution_count": 25,
   "metadata": {},
   "outputs": [],
   "source": [
    "# Convert labels to categorical format if using categorical_crossentropy\n",
    "y = to_categorical(data['SentimentLabel'].values, num_classes=5)"
   ]
  },
  {
   "cell_type": "markdown",
   "metadata": {},
   "source": [
    "### Splitting the Dataset into Training and Testing Sets"
   ]
  },
  {
   "cell_type": "code",
   "execution_count": 26,
   "metadata": {},
   "outputs": [],
   "source": [
    "X_train, X_test, y_train, y_test = train_test_split(X, y, test_size=0.2, random_state=0)"
   ]
  },
  {
   "cell_type": "code",
   "execution_count": 27,
   "metadata": {},
   "outputs": [
    {
     "data": {
      "text/plain": [
       "141"
      ]
     },
     "execution_count": 27,
     "metadata": {},
     "output_type": "execute_result"
    }
   ],
   "source": [
    "X_train.shape[1]"
   ]
  },
  {
   "cell_type": "code",
   "execution_count": 28,
   "metadata": {},
   "outputs": [
    {
     "data": {
      "text/plain": [
       "(13635, 141)"
      ]
     },
     "execution_count": 28,
     "metadata": {},
     "output_type": "execute_result"
    }
   ],
   "source": [
    "X_test.shape"
   ]
  },
  {
   "cell_type": "code",
   "execution_count": 29,
   "metadata": {},
   "outputs": [
    {
     "data": {
      "text/plain": [
       "(54540, 5)"
      ]
     },
     "execution_count": 29,
     "metadata": {},
     "output_type": "execute_result"
    }
   ],
   "source": [
    "y_train.shape"
   ]
  },
  {
   "cell_type": "code",
   "execution_count": 30,
   "metadata": {},
   "outputs": [
    {
     "data": {
      "text/plain": [
       "(13635, 5)"
      ]
     },
     "execution_count": 30,
     "metadata": {},
     "output_type": "execute_result"
    }
   ],
   "source": [
    "y_test.shape"
   ]
  },
  {
   "cell_type": "markdown",
   "metadata": {},
   "source": [
    "## Approach Gated Recurrent Unit - RNN"
   ]
  },
  {
   "cell_type": "markdown",
   "metadata": {},
   "source": [
    "### Building the Deep Learning Model"
   ]
  },
  {
   "cell_type": "code",
   "execution_count": 34,
   "metadata": {},
   "outputs": [],
   "source": [
    "# Constructing a Sequential model with an Embedding layer, two GRU layers with dropout for regularization, \n",
    "# and a Dense layer for a 5-class classification using softmax activation.\n",
    "model = Sequential()\n",
    "model.add(Embedding(5000, 256, input_length=X.shape[1]))\n",
    "model.add(Dropout(0.3))\n",
    "model.add(GRU(256, return_sequences=True, dropout=0.3, recurrent_dropout=0.2))\n",
    "model.add(GRU(256, dropout=0.3, recurrent_dropout=0.2))\n",
    "model.add(Dense(5, activation='softmax'))"
   ]
  },
  {
   "cell_type": "markdown",
   "metadata": {},
   "source": [
    "### Compiling the Model"
   ]
  },
  {
   "cell_type": "code",
   "execution_count": 35,
   "metadata": {},
   "outputs": [
    {
     "name": "stdout",
     "output_type": "stream",
     "text": [
      "Model: \"sequential_3\"\n",
      "_________________________________________________________________\n",
      " Layer (type)                Output Shape              Param #   \n",
      "=================================================================\n",
      " embedding_3 (Embedding)     (None, 141, 256)          1280000   \n",
      "                                                                 \n",
      " dropout_3 (Dropout)         (None, 141, 256)          0         \n",
      "                                                                 \n",
      " gru_6 (GRU)                 (None, 141, 256)          394752    \n",
      "                                                                 \n",
      " gru_7 (GRU)                 (None, 256)               394752    \n",
      "                                                                 \n",
      " dense_3 (Dense)             (None, 5)                 1285      \n",
      "                                                                 \n",
      "=================================================================\n",
      "Total params: 2070789 (7.90 MB)\n",
      "Trainable params: 2070789 (7.90 MB)\n",
      "Non-trainable params: 0 (0.00 Byte)\n",
      "_________________________________________________________________\n"
     ]
    }
   ],
   "source": [
    "# Compile the model with categorical cross-entropy loss function, Adam optimizer, and accuracy as the metric.\n",
    "# The adam optimizer is chosen for several reasons:\n",
    "# 1. It is known for being computationally efficient, requiring relatively low memory.\n",
    "# 2. It maintains a learning rate for each network parameter (weight) and adapts these rates throughout the training process.\n",
    "# 3. It is faster than other optimizers like stochastic gradient descent (SGD), especially in complex neural networks and large datasets.\n",
    "model.compile(loss='categorical_crossentropy', optimizer='adam', metrics=['accuracy'])\n",
    "model.summary()"
   ]
  },
  {
   "cell_type": "markdown",
   "metadata": {},
   "source": [
    "### Training the Model"
   ]
  },
  {
   "cell_type": "code",
   "execution_count": 40,
   "metadata": {},
   "outputs": [
    {
     "name": "stdout",
     "output_type": "stream",
     "text": [
      "Epoch 1/4\n",
      "853/853 [==============================] - 1688s 2s/step - loss: 0.6954 - accuracy: 0.7174 - val_loss: 0.7635 - val_accuracy: 0.6978\n",
      "Epoch 2/4\n",
      "853/853 [==============================] - 1860s 2s/step - loss: 0.6653 - accuracy: 0.7257 - val_loss: 0.7695 - val_accuracy: 0.6930\n",
      "Epoch 3/4\n",
      "853/853 [==============================] - 1845s 2s/step - loss: 0.6432 - accuracy: 0.7323 - val_loss: 0.7758 - val_accuracy: 0.6972\n",
      "Epoch 4/4\n",
      "853/853 [==============================] - 1839s 2s/step - loss: 0.6246 - accuracy: 0.7400 - val_loss: 0.7918 - val_accuracy: 0.7016\n"
     ]
    }
   ],
   "source": [
    "batch_size = 64  \n",
    "early_stopping = EarlyStopping(monitor='val_loss', patience=3)\n",
    "history = model.fit(X_train, y_train, epochs=4, batch_size=batch_size, verbose=1, callbacks=[early_stopping], validation_data=(X_test, y_test))"
   ]
  },
  {
   "cell_type": "markdown",
   "metadata": {},
   "source": [
    "### Evaluating the Model"
   ]
  },
  {
   "cell_type": "code",
   "execution_count": 41,
   "metadata": {},
   "outputs": [
    {
     "name": "stdout",
     "output_type": "stream",
     "text": [
      "427/427 [==============================] - 145s 340ms/step - loss: 0.7918 - accuracy: 0.7016\n",
      "Test Accuracy: 70.16%\n"
     ]
    }
   ],
   "source": [
    "# Evaluate the model's performance on the test set and print out the test accuracy as a percentage.\n",
    "# Evaluate the model\n",
    "loss, accuracy = model.evaluate(X_test, y_test)\n",
    "print(f'Test Accuracy: {accuracy*100:.2f}%')"
   ]
  },
  {
   "cell_type": "code",
   "execution_count": 42,
   "metadata": {},
   "outputs": [
    {
     "name": "stdout",
     "output_type": "stream",
     "text": [
      "427/427 [==============================] - 111s 259ms/step\n"
     ]
    }
   ],
   "source": [
    "# Making predictions \n",
    "predictions = model.predict(X_test)\n",
    "predicted_classes = np.argmax(predictions, axis=1)"
   ]
  },
  {
   "cell_type": "code",
   "execution_count": 43,
   "metadata": {},
   "outputs": [
    {
     "name": "stdout",
     "output_type": "stream",
     "text": [
      "Accuracy: 70.16%\n",
      "                  precision    recall  f1-score   support\n",
      "\n",
      "         Bullish       0.42      0.10      0.16        83\n",
      "Somewhat-Bullish       0.49      0.22      0.31       924\n",
      "         Neutral       0.75      0.90      0.82      9053\n",
      "Somewhat-Bearish       0.39      0.06      0.11       434\n",
      "         Bearish       0.51      0.36      0.43      3141\n",
      "\n",
      "        accuracy                           0.70     13635\n",
      "       macro avg       0.51      0.33      0.36     13635\n",
      "    weighted avg       0.66      0.70      0.67     13635\n",
      "\n"
     ]
    }
   ],
   "source": [
    "inverse_sentiment_mapping = {v: k for k, v in sentiment_mapping.items()}\n",
    "\n",
    "# Map the predicted classes back to original labels\n",
    "predicted_labels = [inverse_sentiment_mapping[i] for i in predicted_classes]\n",
    "\n",
    "# Now you can compare 'predicted_labels' with the true labels from 'y_test'\n",
    "# If 'y_test' is not one-hot encoded, you can compare directly\n",
    "# If 'y_test' is one-hot encoded, you'll need to convert it back to labels first\n",
    "true_labels = np.argmax(y_test, axis=1)\n",
    "true_labels = [inverse_sentiment_mapping[i] for i in true_labels]\n",
    "\n",
    "# Calculate accuracy\n",
    "from sklearn.metrics import accuracy_score, classification_report, confusion_matrix\n",
    "\n",
    "accuracy = accuracy_score(true_labels, predicted_labels)\n",
    "print(f'Accuracy: {accuracy * 100:.2f}%')\n",
    "\n",
    "# Generate a classification report\n",
    "report = classification_report(true_labels, predicted_labels, target_names=inverse_sentiment_mapping.values())\n",
    "print(report)\n",
    "\n"
   ]
  },
  {
   "cell_type": "code",
   "execution_count": 46,
   "metadata": {},
   "outputs": [
    {
     "data": {
      "image/png": "[encoded data removed]",
      "text/plain": [
       "<Figure size 1500x500 with 2 Axes>"
      ]
     },
     "metadata": {},
     "output_type": "display_data"
    }
   ],
   "source": [
    "# Plotting training and validation accuracy and loss over epochs to assess model performance.\n",
    "# The figure consists of two subplots: one for accuracy and another for loss, each with training and validation curves.\n",
    "acc = history.history['accuracy']\n",
    "val_acc = history.history['val_accuracy']\n",
    "loss = history.history['loss']\n",
    "val_loss = history.history['val_loss']\n",
    "epochs_range = range(len(acc))\n",
    "\n",
    "plt.figure(figsize=(15, 5))\n",
    "\n",
    "plt.subplot(1, 2, 1)\n",
    "plt.plot(epochs_range, acc, label='Training Accuracy')\n",
    "plt.plot(epochs_range, val_acc, label='Validation Accuracy')\n",
    "plt.legend(loc='lower right')\n",
    "plt.title('Training and Validation Accuracy')\n",
    "\n",
    "plt.subplot(1, 2, 2)\n",
    "plt.plot(epochs_range, loss, label='Training Loss')\n",
    "plt.plot(epochs_range, val_loss, label='Validation Loss')\n",
    "plt.legend(loc='upper right')\n",
    "plt.title('Training and Validation Loss')\n",
    "plt.show()"
   ]
  },
  {
   "cell_type": "code",
   "execution_count": 49,
   "metadata": {},
   "outputs": [
    {
     "data": {
      "image/png": "[encoded data removed]",
      "text/plain": [
       "<Figure size 1000x800 with 2 Axes>"
      ]
     },
     "metadata": {},
     "output_type": "display_data"
    }
   ],
   "source": [
    "# Generating and plotting a confusion matrix using seaborn's heatmap to visualize the performance of a classification model.\n",
    "# The matrix compares actual vs. predicted labels with labels annotated, and axes labeled using the inverse sentiment mapping.\n",
    "conf_matrix = confusion_matrix(true_labels, predicted_labels)\n",
    "plt.figure(figsize=(10, 8))\n",
    "sns.heatmap(conf_matrix, annot=True, fmt='d', cmap='Blues',\n",
    "            xticklabels=inverse_sentiment_mapping.values(),\n",
    "            yticklabels=inverse_sentiment_mapping.values())\n",
    "plt.title('Confusion Matrix')\n",
    "plt.ylabel('Actual Labels')\n",
    "plt.xlabel('Predicted Labels')\n",
    "plt.show()"
   ]
  }
 ],
 "metadata": {
  "kernelspec": {
   "display_name": "finalproject-venv",
   "language": "python",
   "name": "python3"
  },
  "language_info": {
   "codemirror_mode": {
    "name": "ipython",
    "version": 3
   },
   "file_extension": ".py",
   "mimetype": "text/x-python",
   "name": "python",
   "nbconvert_exporter": "python",
   "pygments_lexer": "ipython3",
   "version": "3.9.18"
  }
 },
 "nbformat": 4,
 "nbformat_minor": 2
}
