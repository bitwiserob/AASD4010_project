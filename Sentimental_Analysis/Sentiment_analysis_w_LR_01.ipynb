{
 "cells": [
  {
   "cell_type": "code",
   "execution_count": 1,
   "metadata": {
    "colab": {
     "base_uri": "https://localhost:8080/"
    },
    "id": "tN-wKO6luMA-",
    "outputId": "76591670-21bf-4745-a725-e9087ddca456"
   },
   "outputs": [
    {
     "name": "stderr",
     "output_type": "stream",
     "text": [
      "[nltk_data] Downloading package punkt to\n",
      "[nltk_data]     /Users/zarinadossayeva/nltk_data...\n",
      "[nltk_data]   Package punkt is already up-to-date!\n",
      "[nltk_data] Downloading package stopwords to\n",
      "[nltk_data]     /Users/zarinadossayeva/nltk_data...\n",
      "[nltk_data]   Package stopwords is already up-to-date!\n",
      "[nltk_data] Downloading package wordnet to\n",
      "[nltk_data]     /Users/zarinadossayeva/nltk_data...\n",
      "[nltk_data]   Package wordnet is already up-to-date!\n"
     ]
    }
   ],
   "source": [
    "import pandas as pd\n",
    "import numpy as np\n",
    "import re\n",
    "import nltk\n",
    "import tensorflow as tf\n",
    "\n",
    "from nltk.corpus import stopwords\n",
    "from nltk.stem import WordNetLemmatizer\n",
    "from nltk.tokenize import word_tokenize\n",
    "\n",
    "nltk.download('punkt')\n",
    "nltk.download('stopwords')\n",
    "nltk.download('wordnet')\n",
    "\n",
    "from sklearn.model_selection import train_test_split\n",
    "from sklearn.preprocessing import LabelEncoder\n",
    "\n",
    "from tensorflow.keras.preprocessing.text import Tokenizer\n",
    "from tensorflow.keras.preprocessing.sequence import pad_sequences\n",
    "from tensorflow.keras.models import Sequential\n",
    "from tensorflow.keras.layers import Embedding, LSTM, Dense, Dropout, SpatialDropout1D\n",
    "from tensorflow.keras.utils import to_categorical"
   ]
  },
  {
   "cell_type": "code",
   "execution_count": 2,
   "metadata": {},
   "outputs": [],
   "source": [
    "csv_files = ['/Users/zarinadossayeva/Downloads/news_part1.csv'\n",
    "           #  , '/path/to/your/second.csv', \n",
    "           #  '/path/to/your/third.csv', \n",
    "           #  '/path/to/your/fourth.csv'\n",
    "            ]  # Replace with your file paths\n",
    "dataframes = [pd.read_csv(f) for f in csv_files]\n",
    "data = pd.concat(dataframes, ignore_index=True)"
   ]
  },
  {
   "cell_type": "code",
   "execution_count": 3,
   "metadata": {
    "colab": {
     "base_uri": "https://localhost:8080/"
    },
    "id": "ZGu6woZlxoDj",
    "outputId": "3bfa6343-10ad-4b15-dfad-a5b1127eadf7"
   },
   "outputs": [
    {
     "data": {
      "text/plain": [
       "[      Ticker                                              Title  \\\n",
       " 0       META  Ads running on Meta saw return on spending inc...   \n",
       " 1       AAPL  Ads running on Meta saw return on spending inc...   \n",
       " 2        HUM  Here are the reasons why a new Wall Street upg...   \n",
       " 3       AAPL  Here are the reasons why a new Wall Street upg...   \n",
       " 4        BAC  Here are the reasons why a new Wall Street upg...   \n",
       " ...      ...                                                ...   \n",
       " 79492   CRWD  2 Cybersecurity Stocks You Can Buy and Hold fo...   \n",
       " 79493   PATH  3 Supercharged Tech Stocks to Buy Without Any ...   \n",
       " 79494   CRWD  3 Supercharged Tech Stocks to Buy Without Any ...   \n",
       " 79495     DE                                     Weekly Roundup   \n",
       " 79496   AAPL                                     Weekly Roundup   \n",
       " \n",
       "                                                      URL       Time Published  \\\n",
       " 0      https://www.business-standard.com/companies/ne...  2024-01-18 17:28:08   \n",
       " 1      https://www.business-standard.com/companies/ne...  2024-01-18 17:28:08   \n",
       " 2      https://www.cnbc.com/2024/01/18/what-activist-...  2024-01-18 16:48:19   \n",
       " 3      https://www.cnbc.com/2024/01/18/what-activist-...  2024-01-18 16:48:19   \n",
       " 4      https://www.cnbc.com/2024/01/18/what-activist-...  2024-01-18 16:48:19   \n",
       " ...                                                  ...                  ...   \n",
       " 79492  https://www.fool.com/investing/2023/08/27/2-cy...  2023-08-27 10:30:00   \n",
       " 79493  https://www.fool.com/investing/2023/08/26/3-su...  2023-08-26 10:45:00   \n",
       " 79494  https://www.fool.com/investing/2023/08/26/3-su...  2023-08-26 10:45:00   \n",
       " 79495  https://aap.thestreet.com/story/16131864/1/wee...  2023-08-25 22:01:00   \n",
       " 79496  https://aap.thestreet.com/story/16131864/1/wee...  2023-08-25 22:01:00   \n",
       " \n",
       "                  Authors                                            Summary  \\\n",
       " 0          ['Bloomberg']  Ads running on Meta Platforms Inc.'s apps saw ...   \n",
       " 1          ['Bloomberg']  Ads running on Meta Platforms Inc.'s apps saw ...   \n",
       " 2         ['Jeff Marks']  The Investing Club holds its \"Morning Meeting\"...   \n",
       " 3         ['Jeff Marks']  The Investing Club holds its \"Morning Meeting\"...   \n",
       " 4         ['Jeff Marks']  The Investing Club holds its \"Morning Meeting\"...   \n",
       " ...                  ...                                                ...   \n",
       " 79492   ['Jeff Santoro']  These two companies have bright futures despit...   \n",
       " 79493  ['Keithen Drury']  There are still some growth stocks available t...   \n",
       " 79494  ['Keithen Drury']  There are still some growth stocks available t...   \n",
       " 79495                 []  Stocks staged a late comeback this week after ...   \n",
       " 79496                 []  Stocks staged a late comeback this week after ...   \n",
       " \n",
       "        Relevance Score  Ticker Sentiment Score Ticker Sentiment Label  \\\n",
       " 0             0.250386                0.424632                Bullish   \n",
       " 1             0.250386                0.094962                Neutral   \n",
       " 2             0.298567                0.098222                Neutral   \n",
       " 3             0.298567                0.098222                Neutral   \n",
       " 4             0.076358                0.045194                Neutral   \n",
       " ...                ...                     ...                    ...   \n",
       " 79492         0.307731                0.219216       Somewhat-Bullish   \n",
       " 79493         0.472821                0.306128       Somewhat-Bullish   \n",
       " 79494         0.425925                0.135673                Neutral   \n",
       " 79495         0.020001                0.109825                Neutral   \n",
       " 79496         0.013334                0.090535                Neutral   \n",
       " \n",
       "        Technology  ...  Retail & Wholesale  Economy - Monetary  \\\n",
       " 0        1.000000  ...            0.000000            0.000000   \n",
       " 1        1.000000  ...            0.000000            0.000000   \n",
       " 2        0.500000  ...            0.000000            0.000000   \n",
       " 3        0.500000  ...            0.000000            0.000000   \n",
       " 4        0.500000  ...            0.000000            0.000000   \n",
       " ...           ...  ...                 ...                 ...   \n",
       " 79492    1.000000  ...            0.000000            0.000000   \n",
       " 79493    1.000000  ...            0.000000            0.000000   \n",
       " 79494    1.000000  ...            0.000000            0.000000   \n",
       " 79495    0.166667  ...            0.166667            0.999682   \n",
       " 79496    0.166667  ...            0.166667            0.999682   \n",
       " \n",
       "        Energy & Transportation  Life Sciences  Blockchain       IPO  Earnings  \\\n",
       " 0                     0.000000       0.000000         0.0  0.000000  0.000000   \n",
       " 1                     0.000000       0.000000         0.0  0.000000  0.000000   \n",
       " 2                     0.000000       0.000000         0.0  0.000000  0.158519   \n",
       " 3                     0.000000       0.000000         0.0  0.000000  0.158519   \n",
       " 4                     0.000000       0.000000         0.0  0.000000  0.158519   \n",
       " ...                        ...            ...         ...       ...       ...   \n",
       " 79492                 0.000000       0.000000         0.0  0.000000  0.999975   \n",
       " 79493                 0.000000       0.000000         0.0  0.000000  0.744043   \n",
       " 79494                 0.000000       0.000000         0.0  0.000000  0.744043   \n",
       " 79495                 0.166667       0.166667         0.0  0.310843  1.000000   \n",
       " 79496                 0.166667       0.166667         0.0  0.310843  1.000000   \n",
       " \n",
       "        Mergers & Acquisitions  Manufacturing   Finance  \n",
       " 0                     0.00000       0.000000  0.000000  \n",
       " 1                     0.00000       0.000000  0.000000  \n",
       " 2                     0.00000       0.000000  0.500000  \n",
       " 3                     0.00000       0.000000  0.500000  \n",
       " 4                     0.00000       0.000000  0.500000  \n",
       " ...                       ...            ...       ...  \n",
       " 79492                 0.00000       0.000000  0.000000  \n",
       " 79493                 0.00000       0.000000  0.000000  \n",
       " 79494                 0.00000       0.000000  0.000000  \n",
       " 79495                 0.77141       0.166667  0.166667  \n",
       " 79496                 0.77141       0.166667  0.166667  \n",
       " \n",
       " [79497 rows x 24 columns]]"
      ]
     },
     "execution_count": 3,
     "metadata": {},
     "output_type": "execute_result"
    }
   ],
   "source": [
    "dataframes"
   ]
  },
  {
   "cell_type": "code",
   "execution_count": 4,
   "metadata": {
    "id": "vlhWmR2kuNdE"
   },
   "outputs": [],
   "source": [
    "# Preprocess the text data\n",
    "def preprocess_text(text):\n",
    "    text = text.lower()\n",
    "    text = re.sub(r'https?://\\S+|www\\.\\S+', 'urlplaceholder', text)\n",
    "    text = re.sub(r'\\d+', 'numplaceholder', text)\n",
    "    text = re.sub(r'[^\\w\\s]', '', text)\n",
    "    tokens = word_tokenize(text)\n",
    "    stop_words = set(stopwords.words('english'))\n",
    "    tokens = [word for word in tokens if word not in stop_words]\n",
    "    lemmatizer = WordNetLemmatizer()\n",
    "    tokens = [lemmatizer.lemmatize(word) for word in tokens]\n",
    "    return ' '.join(tokens)"
   ]
  },
  {
   "cell_type": "code",
   "execution_count": 5,
   "metadata": {
    "id": "h08UrvVKuNfp"
   },
   "outputs": [],
   "source": [
    "# Combine 'Title' and 'Summary' into a single text feature\n",
    "data['Combined_Text'] = data['Title'] + \" \" + data['Summary']\n",
    "data['Processed_Text'] = data['Combined_Text'].apply(preprocess_text)"
   ]
  },
  {
   "cell_type": "code",
   "execution_count": 6,
   "metadata": {
    "id": "YJdLPJcRuNh3"
   },
   "outputs": [],
   "source": [
    "# Encode the 'Ticker Sentiment Label'\n",
    "label_encoder = LabelEncoder()\n",
    "data['Sentiment_Label_Encoded'] = label_encoder.fit_transform(data['Ticker Sentiment Label'])\n",
    "labels = to_categorical(data['Sentiment_Label_Encoded'])"
   ]
  },
  {
   "cell_type": "code",
   "execution_count": 7,
   "metadata": {
    "id": "pS252A11uNkN"
   },
   "outputs": [],
   "source": [
    "# Split the dataset\n",
    "X_train, X_test, y_train, y_test = train_test_split(data['Processed_Text'], labels, test_size=0.2, random_state=42)"
   ]
  },
  {
   "cell_type": "code",
   "execution_count": 8,
   "metadata": {
    "id": "NC27SRuluNmL"
   },
   "outputs": [],
   "source": [
    "# Tokenize the text\n",
    "tokenizer = Tokenizer(num_words=5000)\n",
    "tokenizer.fit_on_texts(X_train)\n",
    "\n",
    "X_train_seq = tokenizer.texts_to_sequences(X_train)\n",
    "X_test_seq = tokenizer.texts_to_sequences(X_test)"
   ]
  },
  {
   "cell_type": "code",
   "execution_count": 9,
   "metadata": {
    "id": "i4rCP4iuuNoj"
   },
   "outputs": [],
   "source": [
    "# Pad the sequences\n",
    "max_seq_length = max([len(x) for x in X_train_seq])\n",
    "X_train_pad = pad_sequences(X_train_seq, maxlen=max_seq_length)\n",
    "X_test_pad = pad_sequences(X_test_seq, maxlen=max_seq_length)"
   ]
  },
  {
   "cell_type": "code",
   "execution_count": 10,
   "metadata": {
    "colab": {
     "base_uri": "https://localhost:8080/"
    },
    "id": "xpN7_68euNqS",
    "outputId": "50204da0-7e6e-433d-c52b-1e9b487eea72"
   },
   "outputs": [],
   "source": [
    "# Build the LSTM model with an additional neural network layer\n",
    "model = Sequential()\n",
    "model.add(Embedding(input_dim=5000, output_dim=128, input_length=max_seq_length))\n",
    "model.add(SpatialDropout1D(0.2))\n",
    "model.add(LSTM(64, dropout=0.2, recurrent_dropout=0.2, return_sequences=True))\n",
    "model.add(LSTM(32, dropout=0.2, recurrent_dropout=0.2))\n",
    "model.add(Dense(64, activation='relu'))\n",
    "model.add(Dropout(0.5))\n",
    "model.add(Dense(y_train.shape[1], activation='softmax'))"
   ]
  },
  {
   "cell_type": "code",
   "execution_count": 16,
   "metadata": {
    "id": "yqCj0WmLuNsi"
   },
   "outputs": [],
   "source": [
    "# Compile the model\n",
    "\n",
    "# Set a learning rate\n",
    "learning_rate = 0.1  # This is a common default value, increase it as needed.\n",
    "\n",
    "# Create an optimizer with the desired learning rate\n",
    "optimizer = tf.keras.optimizers.legacy.Adam(learning_rate=learning_rate)\n",
    "\n",
    "# Compile the model with the optimizer\n",
    "model.compile(optimizer=optimizer, loss='categorical_crossentropy', metrics=['accuracy'])"
   ]
  },
  {
   "cell_type": "code",
   "execution_count": 17,
   "metadata": {},
   "outputs": [],
   "source": [
    "from tensorflow.keras.callbacks import EarlyStopping\n",
    "\n",
    "# Define early stopping callback\n",
    "early_stopping = EarlyStopping(monitor='val_loss', patience=2, restore_best_weights=True)"
   ]
  },
  {
   "cell_type": "code",
   "execution_count": 18,
   "metadata": {},
   "outputs": [
    {
     "name": "stdout",
     "output_type": "stream",
     "text": [
      "Epoch 1/5\n",
      "1988/1988 [==============================] - 391s 196ms/step - loss: 0.9219 - accuracy: 0.6756 - val_loss: 0.9111 - val_accuracy: 0.6800\n",
      "Epoch 2/5\n",
      "1988/1988 [==============================] - 393s 198ms/step - loss: 1.1945 - accuracy: 0.6716 - val_loss: 1.0560 - val_accuracy: 0.6708\n",
      "Epoch 3/5\n",
      "1988/1988 [==============================] - 397s 200ms/step - loss: nan - accuracy: 0.4037 - val_loss: nan - val_accuracy: 0.0059\n"
     ]
    }
   ],
   "source": [
    "# Include the callback in the fit function\n",
    "history = model.fit(\n",
    "    X_train_pad, y_train,\n",
    "    batch_size=32,\n",
    "    epochs=5,\n",
    "    validation_data=(X_test_pad, y_test),\n",
    "    callbacks=[early_stopping],\n",
    "    verbose=1\n",
    ")"
   ]
  },
  {
   "cell_type": "code",
   "execution_count": 14,
   "metadata": {
    "colab": {
     "base_uri": "https://localhost:8080/",
     "height": 214
    },
    "id": "4GJlThMvuNwB",
    "outputId": "87b88485-d434-4c3a-8b64-a85fd033d36e"
   },
   "outputs": [
    {
     "name": "stdout",
     "output_type": "stream",
     "text": [
      "497/497 [==============================] - 13s 25ms/step - loss: 0.7206 - accuracy: 0.7145\n",
      "Test accuracy: 71.45%\n"
     ]
    }
   ],
   "source": [
    "# Evaluate the model\n",
    "test_loss, test_accuracy = model.evaluate(X_test_pad, y_test)\n",
    "print(f\"Test accuracy: {test_accuracy * 100:.2f}%\")"
   ]
  },
  {
   "cell_type": "code",
   "execution_count": 15,
   "metadata": {
    "id": "fSZeYZ_wuNyJ"
   },
   "outputs": [
    {
     "data": {
      "image/png": "[encoded data removed]",
      "text/plain": [
       "<Figure size 1200x500 with 2 Axes>"
      ]
     },
     "metadata": {},
     "output_type": "display_data"
    }
   ],
   "source": [
    "import matplotlib.pyplot as plt\n",
    "\n",
    "# Extracting the history of training and validation accuracy and loss\n",
    "acc = history.history['accuracy']\n",
    "val_acc = history.history['val_accuracy']\n",
    "loss = history.history['loss']\n",
    "val_loss = history.history['val_loss']\n",
    "epochs = range(1, len(acc) + 1)\n",
    "\n",
    "# Plotting training and validation accuracy\n",
    "plt.figure(figsize=(12, 5))\n",
    "plt.subplot(1, 2, 1)\n",
    "plt.plot(epochs, acc, 'bo', label='Training Accuracy')\n",
    "plt.plot(epochs, val_acc, 'b', label='Validation Accuracy')\n",
    "plt.title('Training and Validation Accuracy')\n",
    "plt.xlabel('Epochs')\n",
    "plt.ylabel('Accuracy')\n",
    "plt.legend()\n",
    "\n",
    "# Plotting training and validation loss\n",
    "plt.subplot(1, 2, 2)\n",
    "plt.plot(epochs, loss, 'bo', label='Training Loss')\n",
    "plt.plot(epochs, val_loss, 'b', label='Validation Loss')\n",
    "plt.title('Training and Validation Loss')\n",
    "plt.xlabel('Epochs')\n",
    "plt.ylabel('Loss')\n",
    "plt.legend()\n",
    "\n",
    "plt.tight_layout()\n",
    "plt.show()"
   ]
  },
  {
   "cell_type": "code",
   "execution_count": null,
   "metadata": {
    "id": "KgEJQxQcuN0f"
   },
   "outputs": [],
   "source": []
  }
 ],
 "metadata": {
  "colab": {
   "provenance": []
  },
  "kernelspec": {
   "display_name": "Python 3 (ipykernel)",
   "language": "python",
   "name": "python3"
  },
  "language_info": {
   "codemirror_mode": {
    "name": "ipython",
    "version": 3
   },
   "file_extension": ".py",
   "mimetype": "text/x-python",
   "name": "python",
   "nbconvert_exporter": "python",
   "pygments_lexer": "ipython3",
   "version": "3.11.5"
  }
 },
 "nbformat": 4,
 "nbformat_minor": 1
}
